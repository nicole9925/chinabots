{
 "cells": [
  {
   "cell_type": "markdown",
   "metadata": {},
   "source": [
    "# China Bots Writeup"
   ]
  },
  {
   "cell_type": "markdown",
   "metadata": {},
   "source": [
    "## 1. Introduction\n",
    "\n"
   ]
  },
  {
   "cell_type": "code",
   "execution_count": 15,
   "metadata": {},
   "outputs": [
    {
     "ename": "SyntaxError",
     "evalue": "unexpected EOF while parsing (writeup_func.py, line 42)",
     "output_type": "error",
     "traceback": [
      "Traceback \u001b[1;36m(most recent call last)\u001b[0m:\n",
      "  File \u001b[0;32m\"C:\\Users\\Niko\\anaconda3\\lib\\site-packages\\IPython\\core\\interactiveshell.py\"\u001b[0m, line \u001b[0;32m3331\u001b[0m, in \u001b[0;35mrun_code\u001b[0m\n    exec(code_obj, self.user_global_ns, self.user_ns)\n",
      "\u001b[1;36m  File \u001b[1;32m\"<ipython-input-15-4be5b5e89870>\"\u001b[1;36m, line \u001b[1;32m7\u001b[1;36m, in \u001b[1;35m<module>\u001b[1;36m\u001b[0m\n\u001b[1;33m    from writeup_func import *\u001b[0m\n",
      "\u001b[1;36m  File \u001b[1;32m\"D:\\Users\\Niko\\Documents\\animu\\chinabots\\writeup_func.py\"\u001b[1;36m, line \u001b[1;32m42\u001b[0m\n\u001b[1;33m    \u001b[0m\n\u001b[1;37m    ^\u001b[0m\n\u001b[1;31mSyntaxError\u001b[0m\u001b[1;31m:\u001b[0m unexpected EOF while parsing\n"
     ]
    }
   ],
   "source": [
    "# imports we'll be using\n",
    "import pandas\n",
    "import numpy as np\n",
    "import matplotlib.pyplot as plt\n",
    "import matplotlib.dates\n",
    "\n",
    "from writeup_func import *"
   ]
  },
  {
   "cell_type": "markdown",
   "metadata": {},
   "source": [
    "### Hong Kong Political Climate\n",
    "\n",
    "In 1997, The People's Republic of China had gained sovreignty of China from the British, under the agreement of \"One County, Two Systems.\" This arrangment (formally called the Sino-British Joint Declaration) granted Hong Kong its status as a a special autonomous region until 2047, meaning that mainland China could not alter the previously existing legal and judicial systems - such as the right to assemble and freedom of speech - present from British rule. However, as we approach the halfway mark of the declaration's lifespan, tensions between Hong Kong and mainland China have increased. \n",
    "\n",
    "In April 2019, mainland China amended the [\"Fugitive Offenders and Mutual Legal Assistance in Criminal Matters Legislation\" bill](https://www.legco.gov.hk/yr18-19/english/bills/b201903291.pdf), allowing Hong Kong locals to face trials for crimes they were wanted for in other countires such as mainland China or Taiwan (both of which Hong Kong has no extradition laws with). This was met with immediate pushback by Hong Kong, as it directly violated their [constitution](https://www.basiclaw.gov.hk/en/basiclawtext/) called \"the Basic Law,\" which states that no mainland official can get involved in local government affairs. Additionally, this risked exposing Hong kong locals to unfair trials, and possibly targetting anyone who spoke out against the mainland. Thus, hundreds of thousands of locals took to the streets to defend their liberties. And eventually, Hong Kong leader Carrie Lam said the bill would be suspended indefinitely, but not withdrawn.\n",
    "\n",
    "This led people to continue protesting, adopting the motto [\"Five demands, not one less!\"](https://mobile.reuters.com/article/amp/idUSKCN1VK0H6?__twitter_impression=true), which demanded:\n",
    "- Full withdrawal of the extradition bill\n",
    "- An independent commission of inquirty into alleged police brutality\n",
    "- Retracting the classification of protestors as \"rioters\"\n",
    "- Amnesty for arrested protestors\n",
    "- Dual universal suffrage\n",
    "\n",
    "However, only the first demand has been met, and protestors still fight on, even during this pandemic\n",
    "\n",
    "_UPDATE:\n",
    "Though out of the scope of the data, mainland China has now passed a [bill](https://www.scmp.com/news/hong-kong/politics/article/3091595/hong-kong-national-security-law-read-full-text) devastating Hong Kong local's civil liberties (and not just people living in Hong Kong, people ANYWHERE could be tried based on the wording). One of the most worrying articles states that secession, subversion, terrorism, and collusion with foreign forces incur life sentences - though this could literally mean anything that the mainland doesn't like._"
   ]
  },
  {
   "cell_type": "markdown",
   "metadata": {},
   "source": [
    "### China and Social Media\n",
    "Twitter is banned in mainland China, and Weibo is the mainland China equivalent of Twitter."
   ]
  },
  {
   "cell_type": "markdown",
   "metadata": {},
   "source": [
    "### Dataset\n",
    "\n",
    "In August 2019, as a direct response to an information operation directed at Hong Kong by the Chinese Communist Party, Twitter suspended 936 accounts from within the People's Republic of China. These accounts had violated Twitter's [platform manipulation policies](https://help.twitter.com/en/rules-and-policies/platform-manipulation), and were [\"deliberately and specifically attempting to sow political discord in Hong Kong, including undermining the legitimacy and political positions of the protest movement on the ground.\"](https://blog.twitter.com/en_us/topics/company/2019/information_operations_directed_at_Hong_Kong.html). With these suspensions Twitter released the suspended accounts, including all previously publically available tweets and user information (tweet content, tweet times, user language, account creation, etc.).\n",
    "\n",
    "More accounts have been suspended since then, and we now have a total of 5,241 accounts, and 13,847,731 separate tweets."
   ]
  },
  {
   "cell_type": "markdown",
   "metadata": {},
   "source": [
    "## 2. Surface Level Analysis"
   ]
  },
  {
   "cell_type": "markdown",
   "metadata": {},
   "source": [
    "### Account Creation Dates"
   ]
  },
  {
   "cell_type": "code",
   "execution_count": null,
   "metadata": {},
   "outputs": [],
   "source": []
  },
  {
   "cell_type": "markdown",
   "metadata": {},
   "source": [
    "### Tweet Language"
   ]
  },
  {
   "cell_type": "markdown",
   "metadata": {},
   "source": [
    "### Tweet Times"
   ]
  },
  {
   "cell_type": "markdown",
   "metadata": {},
   "source": [
    "### Twitterverse "
   ]
  },
  {
   "cell_type": "markdown",
   "metadata": {},
   "source": [
    "## 3. Deep Dive"
   ]
  },
  {
   "cell_type": "code",
   "execution_count": null,
   "metadata": {},
   "outputs": [],
   "source": []
  },
  {
   "cell_type": "code",
   "execution_count": null,
   "metadata": {},
   "outputs": [],
   "source": []
  },
  {
   "cell_type": "code",
   "execution_count": null,
   "metadata": {},
   "outputs": [],
   "source": []
  },
  {
   "cell_type": "code",
   "execution_count": null,
   "metadata": {},
   "outputs": [],
   "source": []
  }
 ],
 "metadata": {
  "kernelspec": {
   "display_name": "Python 3",
   "language": "python",
   "name": "python3"
  },
  "language_info": {
   "codemirror_mode": {
    "name": "ipython",
    "version": 3
   },
   "file_extension": ".py",
   "mimetype": "text/x-python",
   "name": "python",
   "nbconvert_exporter": "python",
   "pygments_lexer": "ipython3",
   "version": "3.7.6"
  }
 },
 "nbformat": 4,
 "nbformat_minor": 4
}
