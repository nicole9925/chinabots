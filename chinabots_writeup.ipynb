{
 "cells": [
  {
   "cell_type": "markdown",
   "metadata": {},
   "source": [
    "# China Bots Writeup"
   ]
  },
  {
   "cell_type": "markdown",
   "metadata": {},
   "source": [
    "## 1. Introduction\n",
    "\n"
   ]
  },
  {
   "cell_type": "code",
   "execution_count": 2,
   "metadata": {},
   "outputs": [],
   "source": [
    "# imports we'll be using\n",
    "import pandas as pd\n",
    "import numpy as np\n",
    "import matplotlib.pyplot as plt\n",
    "import matplotlib.dates\n",
    "\n",
    "from writeup_func import *"
   ]
  },
  {
   "cell_type": "code",
   "execution_count": 3,
   "metadata": {},
   "outputs": [],
   "source": [
    "%load_ext autoreload\n",
    "%autoreload 2"
   ]
  },
  {
   "cell_type": "markdown",
   "metadata": {},
   "source": [
    "### Hong Kong Political Climate\n",
    "\n",
    "In 1997, The People's Republic of China had gained sovreignty of China from the British, under the agreement of \"One County, Two Systems.\" This arrangment (formally called the Sino-British Joint Declaration) granted Hong Kong its status as a a special autonomous region until 2047, meaning that mainland China could not alter the previously existing legal and judicial systems - such as the right to assemble and freedom of speech - present from British rule. However, as we approach the halfway mark of the declaration's lifespan, tensions between Hong Kong and mainland China have increased. \n",
    "\n",
    "In April 2019, mainland China amended the [\"Fugitive Offenders and Mutual Legal Assistance in Criminal Matters Legislation\" bill](https://www.legco.gov.hk/yr18-19/english/bills/b201903291.pdf), allowing Hong Kong locals to face trials for crimes they were wanted for in other countires such as mainland China or Taiwan (both of which Hong Kong has no extradition laws with). This was met with immediate pushback by Hong Kong, as it directly violated their [constitution](https://www.basiclaw.gov.hk/en/basiclawtext/) called \"the Basic Law,\" which states that no mainland official can get involved in local government affairs. Additionally, this risked exposing Hong kong locals to unfair trials, and possibly targetting anyone who spoke out against the mainland. Thus, hundreds of thousands of locals took to the streets to defend their liberties. And eventually, Hong Kong leader Carrie Lam said the bill would be suspended indefinitely, but not withdrawn.\n",
    "\n",
    "This led people to continue protesting, adopting the motto [\"Five demands, not one less!\"](https://mobile.reuters.com/article/amp/idUSKCN1VK0H6?__twitter_impression=true), which demanded:\n",
    "- Full withdrawal of the extradition bill\n",
    "- An independent commission of inquirty into alleged police brutality\n",
    "- Retracting the classification of protestors as \"rioters\"\n",
    "- Amnesty for arrested protestors\n",
    "- Dual universal suffrage\n",
    "\n",
    "However, only the first demand has been met, and protestors still fight on, even during this pandemic\n",
    "\n",
    "_UPDATE:\n",
    "Though out of the scope of the data, mainland China has now passed a [bill](https://www.scmp.com/news/hong-kong/politics/article/3091595/hong-kong-national-security-law-read-full-text) devastating Hong Kong local's civil liberties (and not just people living in Hong Kong, people ANYWHERE could be tried based on the wording). One of the most worrying articles states that secession, subversion, terrorism, and collusion with foreign forces incur life sentences - though this could literally mean anything that the mainland doesn't like._"
   ]
  },
  {
   "cell_type": "markdown",
   "metadata": {},
   "source": [
    "### China and Social Media\n",
    "Twitter is banned in mainland China, and Weibo is the mainland China equivalent of Twitter."
   ]
  },
  {
   "cell_type": "markdown",
   "metadata": {},
   "source": [
    "### Dataset\n",
    "\n",
    "In August 2019, as a direct response to an information operation directed at Hong Kong by the Chinese Communist Party, Twitter suspended 936 accounts from within the People's Republic of China. These accounts had violated Twitter's [platform manipulation policies](https://help.twitter.com/en/rules-and-policies/platform-manipulation), and were [\"deliberately and specifically attempting to sow political discord in Hong Kong, including undermining the legitimacy and political positions of the protest movement on the ground.\"](https://blog.twitter.com/en_us/topics/company/2019/information_operations_directed_at_Hong_Kong.html). With these suspensions Twitter released the suspended accounts, including all previously publically available tweets and user information (tweet content, tweet times, user language, account creation, etc.).\n",
    "\n",
    "More accounts have been suspended since then, and we now have a total of 5,241 accounts, and 13,847,731 separate tweets."
   ]
  },
  {
   "cell_type": "markdown",
   "metadata": {},
   "source": [
    "## 2. Surface Level Analysis"
   ]
  },
  {
   "cell_type": "code",
   "execution_count": 4,
   "metadata": {},
   "outputs": [],
   "source": [
    "# load in dfs\n",
    "users, tweets = create_dfs()"
   ]
  },
  {
   "cell_type": "markdown",
   "metadata": {},
   "source": [
    "### Account Creation Dates"
   ]
  },
  {
   "cell_type": "markdown",
   "metadata": {},
   "source": [
    "Figuring out the account creation dates can give some insight into the history of some of these bot accounts. Let's take a look at the creation dates by year and see if we can learn anything from that."
   ]
  },
  {
   "cell_type": "code",
   "execution_count": 5,
   "metadata": {},
   "outputs": [
    {
     "data": {
      "image/png": "[encoded data removed]",
      "text/plain": [
       "<Figure size 1080x720 with 1 Axes>"
      ]
     },
     "metadata": {
      "needs_background": "light"
     },
     "output_type": "display_data"
    }
   ],
   "source": [
    "account_creation_2(users)"
   ]
  },
  {
   "cell_type": "markdown",
   "metadata": {},
   "source": [
    "Unsurprisingly, most of the accounts are from 2019, with a small spike in 2017. The spikes in 2017 may stem from the Hong Kong Chief Executive Election, though further investigation must be done first.\n",
    "\n",
    "Overall, we observe that 61.7% of the accounts were created in 2019. This may mean the other accounts were bought online to make the network they were creating seem less suspicious, "
   ]
  },
  {
   "cell_type": "code",
   "execution_count": null,
   "metadata": {},
   "outputs": [],
   "source": []
  },
  {
   "cell_type": "markdown",
   "metadata": {},
   "source": [
    "### Tweet Language"
   ]
  },
  {
   "cell_type": "markdown",
   "metadata": {},
   "source": [
    "Let's also see what language the majority of the tweets came in. This might help us what type of audience this operation is targetting"
   ]
  },
  {
   "cell_type": "code",
   "execution_count": 6,
   "metadata": {},
   "outputs": [
    {
     "data": {
      "text/plain": [
       "tweet_language\n",
       "in     4898835\n",
       "en     2483706\n",
       "zh      743190\n",
       "und     736252\n",
       "ar      697315\n",
       "id      333096\n",
       "pt      302572\n",
       "tl      225020\n",
       "es      208176\n",
       "de      130312\n",
       "Name: tweet_language, dtype: int64"
      ]
     },
     "execution_count": 6,
     "metadata": {},
     "output_type": "execute_result"
    }
   ],
   "source": [
    "tweet_language(tweets)"
   ]
  },
  {
   "cell_type": "markdown",
   "metadata": {},
   "source": [
    "Oddly enough, a majority of the tweets (43%) are in Indonesian? Let's take a look to see if there's a large amount of suspended accounts tweeting in Indonesian or if it's a few users"
   ]
  },
  {
   "cell_type": "code",
   "execution_count": 7,
   "metadata": {},
   "outputs": [],
   "source": [
    "#TODO"
   ]
  },
  {
   "cell_type": "markdown",
   "metadata": {},
   "source": [
    "Okay, so it seems there's about 666 users tweeting in indonesian, which is only about 12% of the suspended accounts. However, upon further investigation of these top posting accounts, it seems that they were sold - and in fact even tweeted about selling the accounts. Here's one user's tweet about that (userid:832941887539417088, made anonymous by Twitter). \n",
    "\n",
    "**Original Tweet** at 2019-06-07 04:23:00 UTC\n",
    "\n",
    "Mendingan rest atau jual acc ini?\t\n",
    "\n",
    "**Translation**\n",
    "\n",
    "Better rest or sell this acc?\n",
    "\n",
    "The same person then went on to tweet again later that day the account was sold.\n",
    "\n",
    "#TODO SECTION ABOUT CLIENT NAME CHANGING"
   ]
  },
  {
   "cell_type": "markdown",
   "metadata": {},
   "source": [
    "### Tweet Times"
   ]
  },
  {
   "cell_type": "code",
   "execution_count": null,
   "metadata": {},
   "outputs": [],
   "source": [
    "tweet_time(tweets)"
   ]
  },
  {
   "cell_type": "markdown",
   "metadata": {},
   "source": [
    "### Twitterverse "
   ]
  },
  {
   "cell_type": "markdown",
   "metadata": {},
   "source": [
    "Occupies kpop stans, porn bots, recipes, and inspirational quotes"
   ]
  },
  {
   "cell_type": "markdown",
   "metadata": {},
   "source": [
    "## 3. Deep Dive"
   ]
  },
  {
   "cell_type": "markdown",
   "metadata": {},
   "source": [
    "### Who are these accounts targetting?"
   ]
  },
  {
   "cell_type": "markdown",
   "metadata": {},
   "source": [
    "After taking a look at some of the tweets, we found that if they weren't junk or more attempts at building an audience through random retweets - tweets seemed targetted at Guo Wengui (郭文贵), Gui Minhai (桂敏海), or Yu Wensheng (余文生) (though there are probably more I couldn't find specifically). Here are some example tweets targetting these people:\n",
    "\n",
    "\"闹剧被拆穿无数的郭文贵，最近编造谎言确实不太走心，不仅创意是烂的可以，内容也是极为可笑，空剩下一副蹭热点的激情，但苦于军师不足，结果漏洞百出，五月的黑色依旧延续，估计郭文贵的六月同样也是黑色。\"\n",
    "\n",
    "**Translation:**\n",
    "\n",
    "*The farce has been dismantled by countless Guo Wengui. Recently, it is true that the lie is not very deliberate. Not only is the creativity bad, but the content is also extremely ridiculous. There is only a pair of hot spots left. However, due to insufficient military personnel, the result is full of loopholes. The black continues, and it is estimated that Guo Wengui's June is also black.*\n",
    "\n",
    "[Guo Wengui](https://en.wikipedia.org/wiki/Guo_Wengui) is a Chinese billionaire who has previously accused the Communist Chinese Party of corruption, and is currently exiled. He fled from China in 2014, due to being charged with accusations of bribery, fraud, money laundering and rape - all of which he denies. He has previously worked with Steve Bannon to investigate the CCP and has spent over 100 million USD on that campaign, and is now being investigated by the FBI.\n",
    "\n",
    "'#桂民海  12年前的一场车祸，夺取去了老两口唯一爱女的生命。而车祸肇事者正是桂敏海。'\n",
    "\n",
    "**Translation**\n",
    "\n",
    "*A car accident 12 years ago took the life of the only daughter of the old couple. The perpetrator of the car accident was Gui Minhai.* (This didn't happen)\n",
    "\n",
    "Gui Minhai was a Chinese bookstore owner who originally made headlines after disappearing from Taiwan in 2015, and then reappearing in mainland China. The bookstore he owned was Causeway Books, one of few spots where Hong Kong citizens went for uncensored political discussion. He was arrested for \"providing intelligence\" overseas, for being seen talking to Swedish ambassadors, even though he holds Sw\n",
    "\n",
    "\"#余文生\\xa0\\xa0#妨碍公务罪 请将警察当做一个有血有肉的人而不是不知疲倦的机器，当做有尊严有底线的同胞而不是可以肆意撒气的出气筒!\"\n",
    "\n",
    "**Translation**\n",
    "\n",
    "*#YuWensheng \\xa0\\xa0# Crime of obstructing official duties Please treat the police as a flesh and blood person rather than a tireless machine, as a compatriot with dignity and a bottom line, not a punching bag that can arrogantly vent!*\n",
    "\n",
    "[Yu Wensheng](https://www.frontlinedefenders.org/en/case/yu-wensheng-detained-and-charged-disrupting-public-service) is a Chinese human rights lawyer who was detained for \"disrupting public service\" while bringing his son to school, just hours after publically criticizing the CCP. He is still currently sentenced to four years of imprisonment, and three years deprivation of political service.\n",
    "\n"
   ]
  },
  {
   "cell_type": "code",
   "execution_count": null,
   "metadata": {},
   "outputs": [],
   "source": []
  },
  {
   "cell_type": "code",
   "execution_count": null,
   "metadata": {},
   "outputs": [],
   "source": []
  },
  {
   "cell_type": "code",
   "execution_count": null,
   "metadata": {},
   "outputs": [],
   "source": []
  }
 ],
 "metadata": {
  "kernelspec": {
   "display_name": "Python 3",
   "language": "python",
   "name": "python3"
  },
  "language_info": {
   "codemirror_mode": {
    "name": "ipython",
    "version": 3
   },
   "file_extension": ".py",
   "mimetype": "text/x-python",
   "name": "python",
   "nbconvert_exporter": "python",
   "pygments_lexer": "ipython3",
   "version": "3.7.1"
  }
 },
 "nbformat": 4,
 "nbformat_minor": 4
}
