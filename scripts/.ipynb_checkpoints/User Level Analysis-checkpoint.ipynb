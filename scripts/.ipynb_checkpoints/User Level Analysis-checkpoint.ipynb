{
 "cells": [
  {
   "cell_type": "code",
   "execution_count": 1,
   "metadata": {},
   "outputs": [
    {
     "ename": "ModuleNotFoundError",
     "evalue": "No module named 'plotly'",
     "output_type": "error",
     "traceback": [
      "\u001b[1;31m---------------------------------------------------------------------------\u001b[0m",
      "\u001b[1;31mModuleNotFoundError\u001b[0m                       Traceback (most recent call last)",
      "\u001b[1;32m<ipython-input-1-819eb9f675d2>\u001b[0m in \u001b[0;36m<module>\u001b[1;34m\u001b[0m\n\u001b[0;32m      1\u001b[0m \u001b[1;32mimport\u001b[0m \u001b[0mpandas\u001b[0m \u001b[1;32mas\u001b[0m \u001b[0mpd\u001b[0m\u001b[1;33m\u001b[0m\u001b[1;33m\u001b[0m\u001b[0m\n\u001b[1;32m----> 2\u001b[1;33m \u001b[1;32mimport\u001b[0m \u001b[0mplotly\u001b[0m\u001b[1;33m.\u001b[0m\u001b[0mexpress\u001b[0m \u001b[1;32mas\u001b[0m \u001b[0mpx\u001b[0m\u001b[1;33m\u001b[0m\u001b[1;33m\u001b[0m\u001b[0m\n\u001b[0m\u001b[0;32m      3\u001b[0m \u001b[1;32mimport\u001b[0m \u001b[0mgensim\u001b[0m\u001b[1;33m\u001b[0m\u001b[1;33m\u001b[0m\u001b[0m\n\u001b[0;32m      4\u001b[0m \u001b[1;32mfrom\u001b[0m \u001b[0mcollections\u001b[0m \u001b[1;32mimport\u001b[0m \u001b[0mdefaultdict\u001b[0m\u001b[1;33m\u001b[0m\u001b[1;33m\u001b[0m\u001b[0m\n\u001b[0;32m      5\u001b[0m \u001b[1;32mimport\u001b[0m \u001b[0mnumpy\u001b[0m \u001b[1;32mas\u001b[0m \u001b[0mnp\u001b[0m\u001b[1;33m\u001b[0m\u001b[1;33m\u001b[0m\u001b[0m\n",
      "\u001b[1;31mModuleNotFoundError\u001b[0m: No module named 'plotly'"
     ]
    }
   ],
   "source": [
    "import pandas as pd\n",
    "import plotly.express as px\n",
    "import gensim\n",
    "from collections import defaultdict\n",
    "import numpy as np"
   ]
  },
  {
   "cell_type": "markdown",
   "metadata": {},
   "source": [
    "# User Level Analysis\n",
    "The goal of this notebook is to analyze data on a user level."
   ]
  },
  {
   "cell_type": "code",
   "execution_count": 6,
   "metadata": {},
   "outputs": [],
   "source": [
    "users1 = pd.read_csv(\"data/users1.csv\")\n",
    "users2 = pd.read_csv(\"data/users2.csv\")\n",
    "users3 = pd.read_csv(\"data/users3.csv\")"
   ]
  },
  {
   "cell_type": "code",
   "execution_count": 7,
   "metadata": {},
   "outputs": [],
   "source": [
    "users = pd.concat([users1, users2, users3])"
   ]
  },
  {
   "cell_type": "code",
   "execution_count": 8,
   "metadata": {},
   "outputs": [
    {
     "name": "stderr",
     "output_type": "stream",
     "text": [
      "//anaconda3/lib/python3.7/site-packages/IPython/core/interactiveshell.py:3057: DtypeWarning:\n",
      "\n",
      "Columns (6,15,19,30) have mixed types. Specify dtype option on import or set low_memory=False.\n",
      "\n",
      "//anaconda3/lib/python3.7/site-packages/IPython/core/interactiveshell.py:3057: DtypeWarning:\n",
      "\n",
      "Columns (15,19,30) have mixed types. Specify dtype option on import or set low_memory=False.\n",
      "\n",
      "//anaconda3/lib/python3.7/site-packages/IPython/core/interactiveshell.py:3057: DtypeWarning:\n",
      "\n",
      "Columns (15) have mixed types. Specify dtype option on import or set low_memory=False.\n",
      "\n",
      "//anaconda3/lib/python3.7/site-packages/IPython/core/interactiveshell.py:3057: DtypeWarning:\n",
      "\n",
      "Columns (1,15,30) have mixed types. Specify dtype option on import or set low_memory=False.\n",
      "\n"
     ]
    }
   ],
   "source": [
    "tweets1 = pd.read_csv(\"data/tweets1.csv\")\n",
    "tweets2 = pd.read_csv(\"data/tweets2.csv\")\n",
    "tweets3 = pd.read_csv(\"data/tweets3_1.csv\")\n",
    "tweets4 = pd.read_csv(\"data/tweets3_2.csv\")\n",
    "tweets5 = pd.read_csv(\"data/tweets3_3.csv\")"
   ]
  },
  {
   "cell_type": "code",
   "execution_count": 9,
   "metadata": {},
   "outputs": [],
   "source": [
    "tweets = pd.concat([tweets1, tweets2, tweets3, tweets4, tweets5])"
   ]
  },
  {
   "cell_type": "markdown",
   "metadata": {},
   "source": [
    "First, we write function to randomly pick a user from our dataset. Since there are a users in our dataset with no recorded tweets, we will continue to choose random users until we find one."
   ]
  },
  {
   "cell_type": "code",
   "execution_count": 10,
   "metadata": {},
   "outputs": [],
   "source": [
    "def find_random_user():\n",
    "    df = None\n",
    "    while df is None or df.shape[0] == 0:\n",
    "        user = users.sample(1)[\"user_display_name\"].item()\n",
    "        df = tweets.loc[tweets[\"user_display_name\"] == user]\n",
    "    return df"
   ]
  },
  {
   "cell_type": "markdown",
   "metadata": {},
   "source": [
    "Now, we will visualize the tweet frequency. In order to proceed with the same user in our future investigation, we rerun our find_random_user function until we see English results."
   ]
  },
  {
   "cell_type": "code",
   "execution_count": 23,
   "metadata": {},
   "outputs": [],
   "source": [
    "user = find_random_user()\n",
    "#First, we want to see what time this specific user tweets everyday."
   ]
  },
  {
   "cell_type": "code",
   "execution_count": 25,
   "metadata": {},
   "outputs": [
    {
     "data": {
      "application/vnd.plotly.v1+json": {
       "config": {
        "plotlyServerURL": "https://plot.ly"
       },
       "data": [
        {
         "hovertemplate": "hour=%{x}<br># of tweets=%{y}<extra></extra>",
         "legendgroup": "",
         "line": {
          "color": "#636efa",
          "dash": "solid"
         },
         "mode": "lines",
         "name": "",
         "showlegend": false,
         "type": "scatter",
         "x": [
          1,
          2,
          3,
          4,
          5,
          6,
          7,
          12
         ],
         "xaxis": "x",
         "y": [
          76,
          45,
          4,
          9,
          25,
          48,
          34,
          3
         ],
         "yaxis": "y"
        }
       ],
       "layout": {
        "font": {
         "color": "#7f7f7f",
         "family": "Times",
         "size": 18
        },
        "legend": {
         "tracegroupgap": 0
        },
        "margin": {
         "t": 60
        },
        "template": {
         "data": {
          "bar": [
           {
            "error_x": {
             "color": "#2a3f5f"
            },
            "error_y": {
             "color": "#2a3f5f"
            },
            "marker": {
             "line": {
              "color": "#E5ECF6",
              "width": 0.5
             }
            },
            "type": "bar"
           }
          ],
          "barpolar": [
           {
            "marker": {
             "line": {
              "color": "#E5ECF6",
              "width": 0.5
             }
            },
            "type": "barpolar"
           }
          ],
          "carpet": [
           {
            "aaxis": {
             "endlinecolor": "#2a3f5f",
             "gridcolor": "white",
             "linecolor": "white",
             "minorgridcolor": "white",
             "startlinecolor": "#2a3f5f"
            },
            "baxis": {
             "endlinecolor": "#2a3f5f",
             "gridcolor": "white",
             "linecolor": "white",
             "minorgridcolor": "white",
             "startlinecolor": "#2a3f5f"
            },
            "type": "carpet"
           }
          ],
          "choropleth": [
           {
            "colorbar": {
             "outlinewidth": 0,
             "ticks": ""
            },
            "type": "choropleth"
           }
          ],
          "contour": [
           {
            "colorbar": {
             "outlinewidth": 0,
             "ticks": ""
            },
            "colorscale": [
             [
              0,
              "#0d0887"
             ],
             [
              0.1111111111111111,
              "#46039f"
             ],
             [
              0.2222222222222222,
              "#7201a8"
             ],
             [
              0.3333333333333333,
              "#9c179e"
             ],
             [
              0.4444444444444444,
              "#bd3786"
             ],
             [
              0.5555555555555556,
              "#d8576b"
             ],
             [
              0.6666666666666666,
              "#ed7953"
             ],
             [
              0.7777777777777778,
              "#fb9f3a"
             ],
             [
              0.8888888888888888,
              "#fdca26"
             ],
             [
              1,
              "#f0f921"
             ]
            ],
            "type": "contour"
           }
          ],
          "contourcarpet": [
           {
            "colorbar": {
             "outlinewidth": 0,
             "ticks": ""
            },
            "type": "contourcarpet"
           }
          ],
          "heatmap": [
           {
            "colorbar": {
             "outlinewidth": 0,
             "ticks": ""
            },
            "colorscale": [
             [
              0,
              "#0d0887"
             ],
             [
              0.1111111111111111,
              "#46039f"
             ],
             [
              0.2222222222222222,
              "#7201a8"
             ],
             [
              0.3333333333333333,
              "#9c179e"
             ],
             [
              0.4444444444444444,
              "#bd3786"
             ],
             [
              0.5555555555555556,
              "#d8576b"
             ],
             [
              0.6666666666666666,
              "#ed7953"
             ],
             [
              0.7777777777777778,
              "#fb9f3a"
             ],
             [
              0.8888888888888888,
              "#fdca26"
             ],
             [
              1,
              "#f0f921"
             ]
            ],
            "type": "heatmap"
           }
          ],
          "heatmapgl": [
           {
            "colorbar": {
             "outlinewidth": 0,
             "ticks": ""
            },
            "colorscale": [
             [
              0,
              "#0d0887"
             ],
             [
              0.1111111111111111,
              "#46039f"
             ],
             [
              0.2222222222222222,
              "#7201a8"
             ],
             [
              0.3333333333333333,
              "#9c179e"
             ],
             [
              0.4444444444444444,
              "#bd3786"
             ],
             [
              0.5555555555555556,
              "#d8576b"
             ],
             [
              0.6666666666666666,
              "#ed7953"
             ],
             [
              0.7777777777777778,
              "#fb9f3a"
             ],
             [
              0.8888888888888888,
              "#fdca26"
             ],
             [
              1,
              "#f0f921"
             ]
            ],
            "type": "heatmapgl"
           }
          ],
          "histogram": [
           {
            "marker": {
             "colorbar": {
              "outlinewidth": 0,
              "ticks": ""
             }
            },
            "type": "histogram"
           }
          ],
          "histogram2d": [
           {
            "colorbar": {
             "outlinewidth": 0,
             "ticks": ""
            },
            "colorscale": [
             [
              0,
              "#0d0887"
             ],
             [
              0.1111111111111111,
              "#46039f"
             ],
             [
              0.2222222222222222,
              "#7201a8"
             ],
             [
              0.3333333333333333,
              "#9c179e"
             ],
             [
              0.4444444444444444,
              "#bd3786"
             ],
             [
              0.5555555555555556,
              "#d8576b"
             ],
             [
              0.6666666666666666,
              "#ed7953"
             ],
             [
              0.7777777777777778,
              "#fb9f3a"
             ],
             [
              0.8888888888888888,
              "#fdca26"
             ],
             [
              1,
              "#f0f921"
             ]
            ],
            "type": "histogram2d"
           }
          ],
          "histogram2dcontour": [
           {
            "colorbar": {
             "outlinewidth": 0,
             "ticks": ""
            },
            "colorscale": [
             [
              0,
              "#0d0887"
             ],
             [
              0.1111111111111111,
              "#46039f"
             ],
             [
              0.2222222222222222,
              "#7201a8"
             ],
             [
              0.3333333333333333,
              "#9c179e"
             ],
             [
              0.4444444444444444,
              "#bd3786"
             ],
             [
              0.5555555555555556,
              "#d8576b"
             ],
             [
              0.6666666666666666,
              "#ed7953"
             ],
             [
              0.7777777777777778,
              "#fb9f3a"
             ],
             [
              0.8888888888888888,
              "#fdca26"
             ],
             [
              1,
              "#f0f921"
             ]
            ],
            "type": "histogram2dcontour"
           }
          ],
          "mesh3d": [
           {
            "colorbar": {
             "outlinewidth": 0,
             "ticks": ""
            },
            "type": "mesh3d"
           }
          ],
          "parcoords": [
           {
            "line": {
             "colorbar": {
              "outlinewidth": 0,
              "ticks": ""
             }
            },
            "type": "parcoords"
           }
          ],
          "pie": [
           {
            "automargin": true,
            "type": "pie"
           }
          ],
          "scatter": [
           {
            "marker": {
             "colorbar": {
              "outlinewidth": 0,
              "ticks": ""
             }
            },
            "type": "scatter"
           }
          ],
          "scatter3d": [
           {
            "line": {
             "colorbar": {
              "outlinewidth": 0,
              "ticks": ""
             }
            },
            "marker": {
             "colorbar": {
              "outlinewidth": 0,
              "ticks": ""
             }
            },
            "type": "scatter3d"
           }
          ],
          "scattercarpet": [
           {
            "marker": {
             "colorbar": {
              "outlinewidth": 0,
              "ticks": ""
             }
            },
            "type": "scattercarpet"
           }
          ],
          "scattergeo": [
           {
            "marker": {
             "colorbar": {
              "outlinewidth": 0,
              "ticks": ""
             }
            },
            "type": "scattergeo"
           }
          ],
          "scattergl": [
           {
            "marker": {
             "colorbar": {
              "outlinewidth": 0,
              "ticks": ""
             }
            },
            "type": "scattergl"
           }
          ],
          "scattermapbox": [
           {
            "marker": {
             "colorbar": {
              "outlinewidth": 0,
              "ticks": ""
             }
            },
            "type": "scattermapbox"
           }
          ],
          "scatterpolar": [
           {
            "marker": {
             "colorbar": {
              "outlinewidth": 0,
              "ticks": ""
             }
            },
            "type": "scatterpolar"
           }
          ],
          "scatterpolargl": [
           {
            "marker": {
             "colorbar": {
              "outlinewidth": 0,
              "ticks": ""
             }
            },
            "type": "scatterpolargl"
           }
          ],
          "scatterternary": [
           {
            "marker": {
             "colorbar": {
              "outlinewidth": 0,
              "ticks": ""
             }
            },
            "type": "scatterternary"
           }
          ],
          "surface": [
           {
            "colorbar": {
             "outlinewidth": 0,
             "ticks": ""
            },
            "colorscale": [
             [
              0,
              "#0d0887"
             ],
             [
              0.1111111111111111,
              "#46039f"
             ],
             [
              0.2222222222222222,
              "#7201a8"
             ],
             [
              0.3333333333333333,
              "#9c179e"
             ],
             [
              0.4444444444444444,
              "#bd3786"
             ],
             [
              0.5555555555555556,
              "#d8576b"
             ],
             [
              0.6666666666666666,
              "#ed7953"
             ],
             [
              0.7777777777777778,
              "#fb9f3a"
             ],
             [
              0.8888888888888888,
              "#fdca26"
             ],
             [
              1,
              "#f0f921"
             ]
            ],
            "type": "surface"
           }
          ],
          "table": [
           {
            "cells": {
             "fill": {
              "color": "#EBF0F8"
             },
             "line": {
              "color": "white"
             }
            },
            "header": {
             "fill": {
              "color": "#C8D4E3"
             },
             "line": {
              "color": "white"
             }
            },
            "type": "table"
           }
          ]
         },
         "layout": {
          "annotationdefaults": {
           "arrowcolor": "#2a3f5f",
           "arrowhead": 0,
           "arrowwidth": 1
          },
          "coloraxis": {
           "colorbar": {
            "outlinewidth": 0,
            "ticks": ""
           }
          },
          "colorscale": {
           "diverging": [
            [
             0,
             "#8e0152"
            ],
            [
             0.1,
             "#c51b7d"
            ],
            [
             0.2,
             "#de77ae"
            ],
            [
             0.3,
             "#f1b6da"
            ],
            [
             0.4,
             "#fde0ef"
            ],
            [
             0.5,
             "#f7f7f7"
            ],
            [
             0.6,
             "#e6f5d0"
            ],
            [
             0.7,
             "#b8e186"
            ],
            [
             0.8,
             "#7fbc41"
            ],
            [
             0.9,
             "#4d9221"
            ],
            [
             1,
             "#276419"
            ]
           ],
           "sequential": [
            [
             0,
             "#0d0887"
            ],
            [
             0.1111111111111111,
             "#46039f"
            ],
            [
             0.2222222222222222,
             "#7201a8"
            ],
            [
             0.3333333333333333,
             "#9c179e"
            ],
            [
             0.4444444444444444,
             "#bd3786"
            ],
            [
             0.5555555555555556,
             "#d8576b"
            ],
            [
             0.6666666666666666,
             "#ed7953"
            ],
            [
             0.7777777777777778,
             "#fb9f3a"
            ],
            [
             0.8888888888888888,
             "#fdca26"
            ],
            [
             1,
             "#f0f921"
            ]
           ],
           "sequentialminus": [
            [
             0,
             "#0d0887"
            ],
            [
             0.1111111111111111,
             "#46039f"
            ],
            [
             0.2222222222222222,
             "#7201a8"
            ],
            [
             0.3333333333333333,
             "#9c179e"
            ],
            [
             0.4444444444444444,
             "#bd3786"
            ],
            [
             0.5555555555555556,
             "#d8576b"
            ],
            [
             0.6666666666666666,
             "#ed7953"
            ],
            [
             0.7777777777777778,
             "#fb9f3a"
            ],
            [
             0.8888888888888888,
             "#fdca26"
            ],
            [
             1,
             "#f0f921"
            ]
           ]
          },
          "colorway": [
           "#636efa",
           "#EF553B",
           "#00cc96",
           "#ab63fa",
           "#FFA15A",
           "#19d3f3",
           "#FF6692",
           "#B6E880",
           "#FF97FF",
           "#FECB52"
          ],
          "font": {
           "color": "#2a3f5f"
          },
          "geo": {
           "bgcolor": "white",
           "lakecolor": "white",
           "landcolor": "#E5ECF6",
           "showlakes": true,
           "showland": true,
           "subunitcolor": "white"
          },
          "hoverlabel": {
           "align": "left"
          },
          "hovermode": "closest",
          "mapbox": {
           "style": "light"
          },
          "paper_bgcolor": "white",
          "plot_bgcolor": "#E5ECF6",
          "polar": {
           "angularaxis": {
            "gridcolor": "white",
            "linecolor": "white",
            "ticks": ""
           },
           "bgcolor": "#E5ECF6",
           "radialaxis": {
            "gridcolor": "white",
            "linecolor": "white",
            "ticks": ""
           }
          },
          "scene": {
           "xaxis": {
            "backgroundcolor": "#E5ECF6",
            "gridcolor": "white",
            "gridwidth": 2,
            "linecolor": "white",
            "showbackground": true,
            "ticks": "",
            "zerolinecolor": "white"
           },
           "yaxis": {
            "backgroundcolor": "#E5ECF6",
            "gridcolor": "white",
            "gridwidth": 2,
            "linecolor": "white",
            "showbackground": true,
            "ticks": "",
            "zerolinecolor": "white"
           },
           "zaxis": {
            "backgroundcolor": "#E5ECF6",
            "gridcolor": "white",
            "gridwidth": 2,
            "linecolor": "white",
            "showbackground": true,
            "ticks": "",
            "zerolinecolor": "white"
           }
          },
          "shapedefaults": {
           "line": {
            "color": "#2a3f5f"
           }
          },
          "ternary": {
           "aaxis": {
            "gridcolor": "white",
            "linecolor": "white",
            "ticks": ""
           },
           "baxis": {
            "gridcolor": "white",
            "linecolor": "white",
            "ticks": ""
           },
           "bgcolor": "#E5ECF6",
           "caxis": {
            "gridcolor": "white",
            "linecolor": "white",
            "ticks": ""
           }
          },
          "title": {
           "x": 0.05
          },
          "xaxis": {
           "automargin": true,
           "gridcolor": "white",
           "linecolor": "white",
           "ticks": "",
           "title": {
            "standoff": 15
           },
           "zerolinecolor": "white",
           "zerolinewidth": 2
          },
          "yaxis": {
           "automargin": true,
           "gridcolor": "white",
           "linecolor": "white",
           "ticks": "",
           "title": {
            "standoff": 15
           },
           "zerolinecolor": "white",
           "zerolinewidth": 2
          }
         }
        },
        "title": {
         "text": "@乾坤 Tweet Times"
        },
        "xaxis": {
         "anchor": "y",
         "domain": [
          0,
          1
         ],
         "title": {
          "text": "hour"
         }
        },
        "yaxis": {
         "anchor": "x",
         "domain": [
          0,
          1
         ],
         "title": {
          "text": "# of tweets"
         }
        }
       }
      },
      "text/html": [
       "<div>\n",
       "        \n",
       "        \n",
       "            <div id=\"534a721e-34fb-4f48-b8c3-fc374ea5b28b\" class=\"plotly-graph-div\" style=\"height:525px; width:100%;\"></div>\n",
       "            <script type=\"text/javascript\">\n",
       "                require([\"plotly\"], function(Plotly) {\n",
       "                    window.PLOTLYENV=window.PLOTLYENV || {};\n",
       "                    \n",
       "                if (document.getElementById(\"534a721e-34fb-4f48-b8c3-fc374ea5b28b\")) {\n",
       "                    Plotly.newPlot(\n",
       "                        '534a721e-34fb-4f48-b8c3-fc374ea5b28b',\n",
       "                        [{\"hovertemplate\": \"hour=%{x}<br># of tweets=%{y}<extra></extra>\", \"legendgroup\": \"\", \"line\": {\"color\": \"#636efa\", \"dash\": \"solid\"}, \"mode\": \"lines\", \"name\": \"\", \"showlegend\": false, \"type\": \"scatter\", \"x\": [1, 2, 3, 4, 5, 6, 7, 12], \"xaxis\": \"x\", \"y\": [76, 45, 4, 9, 25, 48, 34, 3], \"yaxis\": \"y\"}],\n",
       "                        {\"font\": {\"color\": \"#7f7f7f\", \"family\": \"Times\", \"size\": 18}, \"legend\": {\"tracegroupgap\": 0}, \"margin\": {\"t\": 60}, \"template\": {\"data\": {\"bar\": [{\"error_x\": {\"color\": \"#2a3f5f\"}, \"error_y\": {\"color\": \"#2a3f5f\"}, \"marker\": {\"line\": {\"color\": \"#E5ECF6\", \"width\": 0.5}}, \"type\": \"bar\"}], \"barpolar\": [{\"marker\": {\"line\": {\"color\": \"#E5ECF6\", \"width\": 0.5}}, \"type\": \"barpolar\"}], \"carpet\": [{\"aaxis\": {\"endlinecolor\": \"#2a3f5f\", \"gridcolor\": \"white\", \"linecolor\": \"white\", \"minorgridcolor\": \"white\", \"startlinecolor\": \"#2a3f5f\"}, \"baxis\": {\"endlinecolor\": \"#2a3f5f\", \"gridcolor\": \"white\", \"linecolor\": \"white\", \"minorgridcolor\": \"white\", \"startlinecolor\": \"#2a3f5f\"}, \"type\": \"carpet\"}], \"choropleth\": [{\"colorbar\": {\"outlinewidth\": 0, \"ticks\": \"\"}, \"type\": \"choropleth\"}], \"contour\": [{\"colorbar\": {\"outlinewidth\": 0, \"ticks\": \"\"}, \"colorscale\": [[0.0, \"#0d0887\"], [0.1111111111111111, \"#46039f\"], [0.2222222222222222, \"#7201a8\"], [0.3333333333333333, \"#9c179e\"], [0.4444444444444444, \"#bd3786\"], [0.5555555555555556, \"#d8576b\"], [0.6666666666666666, \"#ed7953\"], [0.7777777777777778, \"#fb9f3a\"], [0.8888888888888888, \"#fdca26\"], [1.0, \"#f0f921\"]], \"type\": \"contour\"}], \"contourcarpet\": [{\"colorbar\": {\"outlinewidth\": 0, \"ticks\": \"\"}, \"type\": \"contourcarpet\"}], \"heatmap\": [{\"colorbar\": {\"outlinewidth\": 0, \"ticks\": \"\"}, \"colorscale\": [[0.0, \"#0d0887\"], [0.1111111111111111, \"#46039f\"], [0.2222222222222222, \"#7201a8\"], [0.3333333333333333, \"#9c179e\"], [0.4444444444444444, \"#bd3786\"], [0.5555555555555556, \"#d8576b\"], [0.6666666666666666, \"#ed7953\"], [0.7777777777777778, \"#fb9f3a\"], [0.8888888888888888, \"#fdca26\"], [1.0, \"#f0f921\"]], \"type\": \"heatmap\"}], \"heatmapgl\": [{\"colorbar\": {\"outlinewidth\": 0, \"ticks\": \"\"}, \"colorscale\": [[0.0, \"#0d0887\"], [0.1111111111111111, \"#46039f\"], [0.2222222222222222, \"#7201a8\"], [0.3333333333333333, \"#9c179e\"], [0.4444444444444444, \"#bd3786\"], [0.5555555555555556, \"#d8576b\"], [0.6666666666666666, \"#ed7953\"], [0.7777777777777778, \"#fb9f3a\"], [0.8888888888888888, \"#fdca26\"], [1.0, \"#f0f921\"]], \"type\": \"heatmapgl\"}], \"histogram\": [{\"marker\": {\"colorbar\": {\"outlinewidth\": 0, \"ticks\": \"\"}}, \"type\": \"histogram\"}], \"histogram2d\": [{\"colorbar\": {\"outlinewidth\": 0, \"ticks\": \"\"}, \"colorscale\": [[0.0, \"#0d0887\"], [0.1111111111111111, \"#46039f\"], [0.2222222222222222, \"#7201a8\"], [0.3333333333333333, \"#9c179e\"], [0.4444444444444444, \"#bd3786\"], [0.5555555555555556, \"#d8576b\"], [0.6666666666666666, \"#ed7953\"], [0.7777777777777778, \"#fb9f3a\"], [0.8888888888888888, \"#fdca26\"], [1.0, \"#f0f921\"]], \"type\": \"histogram2d\"}], \"histogram2dcontour\": [{\"colorbar\": {\"outlinewidth\": 0, \"ticks\": \"\"}, \"colorscale\": [[0.0, \"#0d0887\"], [0.1111111111111111, \"#46039f\"], [0.2222222222222222, \"#7201a8\"], [0.3333333333333333, \"#9c179e\"], [0.4444444444444444, \"#bd3786\"], [0.5555555555555556, \"#d8576b\"], [0.6666666666666666, \"#ed7953\"], [0.7777777777777778, \"#fb9f3a\"], [0.8888888888888888, \"#fdca26\"], [1.0, \"#f0f921\"]], \"type\": \"histogram2dcontour\"}], \"mesh3d\": [{\"colorbar\": {\"outlinewidth\": 0, \"ticks\": \"\"}, \"type\": \"mesh3d\"}], \"parcoords\": [{\"line\": {\"colorbar\": {\"outlinewidth\": 0, \"ticks\": \"\"}}, \"type\": \"parcoords\"}], \"pie\": [{\"automargin\": true, \"type\": \"pie\"}], \"scatter\": [{\"marker\": {\"colorbar\": {\"outlinewidth\": 0, \"ticks\": \"\"}}, \"type\": \"scatter\"}], \"scatter3d\": [{\"line\": {\"colorbar\": {\"outlinewidth\": 0, \"ticks\": \"\"}}, \"marker\": {\"colorbar\": {\"outlinewidth\": 0, \"ticks\": \"\"}}, \"type\": \"scatter3d\"}], \"scattercarpet\": [{\"marker\": {\"colorbar\": {\"outlinewidth\": 0, \"ticks\": \"\"}}, \"type\": \"scattercarpet\"}], \"scattergeo\": [{\"marker\": {\"colorbar\": {\"outlinewidth\": 0, \"ticks\": \"\"}}, \"type\": \"scattergeo\"}], \"scattergl\": [{\"marker\": {\"colorbar\": {\"outlinewidth\": 0, \"ticks\": \"\"}}, \"type\": \"scattergl\"}], \"scattermapbox\": [{\"marker\": {\"colorbar\": {\"outlinewidth\": 0, \"ticks\": \"\"}}, \"type\": \"scattermapbox\"}], \"scatterpolar\": [{\"marker\": {\"colorbar\": {\"outlinewidth\": 0, \"ticks\": \"\"}}, \"type\": \"scatterpolar\"}], \"scatterpolargl\": [{\"marker\": {\"colorbar\": {\"outlinewidth\": 0, \"ticks\": \"\"}}, \"type\": \"scatterpolargl\"}], \"scatterternary\": [{\"marker\": {\"colorbar\": {\"outlinewidth\": 0, \"ticks\": \"\"}}, \"type\": \"scatterternary\"}], \"surface\": [{\"colorbar\": {\"outlinewidth\": 0, \"ticks\": \"\"}, \"colorscale\": [[0.0, \"#0d0887\"], [0.1111111111111111, \"#46039f\"], [0.2222222222222222, \"#7201a8\"], [0.3333333333333333, \"#9c179e\"], [0.4444444444444444, \"#bd3786\"], [0.5555555555555556, \"#d8576b\"], [0.6666666666666666, \"#ed7953\"], [0.7777777777777778, \"#fb9f3a\"], [0.8888888888888888, \"#fdca26\"], [1.0, \"#f0f921\"]], \"type\": \"surface\"}], \"table\": [{\"cells\": {\"fill\": {\"color\": \"#EBF0F8\"}, \"line\": {\"color\": \"white\"}}, \"header\": {\"fill\": {\"color\": \"#C8D4E3\"}, \"line\": {\"color\": \"white\"}}, \"type\": \"table\"}]}, \"layout\": {\"annotationdefaults\": {\"arrowcolor\": \"#2a3f5f\", \"arrowhead\": 0, \"arrowwidth\": 1}, \"coloraxis\": {\"colorbar\": {\"outlinewidth\": 0, \"ticks\": \"\"}}, \"colorscale\": {\"diverging\": [[0, \"#8e0152\"], [0.1, \"#c51b7d\"], [0.2, \"#de77ae\"], [0.3, \"#f1b6da\"], [0.4, \"#fde0ef\"], [0.5, \"#f7f7f7\"], [0.6, \"#e6f5d0\"], [0.7, \"#b8e186\"], [0.8, \"#7fbc41\"], [0.9, \"#4d9221\"], [1, \"#276419\"]], \"sequential\": [[0.0, \"#0d0887\"], [0.1111111111111111, \"#46039f\"], [0.2222222222222222, \"#7201a8\"], [0.3333333333333333, \"#9c179e\"], [0.4444444444444444, \"#bd3786\"], [0.5555555555555556, \"#d8576b\"], [0.6666666666666666, \"#ed7953\"], [0.7777777777777778, \"#fb9f3a\"], [0.8888888888888888, \"#fdca26\"], [1.0, \"#f0f921\"]], \"sequentialminus\": [[0.0, \"#0d0887\"], [0.1111111111111111, \"#46039f\"], [0.2222222222222222, \"#7201a8\"], [0.3333333333333333, \"#9c179e\"], [0.4444444444444444, \"#bd3786\"], [0.5555555555555556, \"#d8576b\"], [0.6666666666666666, \"#ed7953\"], [0.7777777777777778, \"#fb9f3a\"], [0.8888888888888888, \"#fdca26\"], [1.0, \"#f0f921\"]]}, \"colorway\": [\"#636efa\", \"#EF553B\", \"#00cc96\", \"#ab63fa\", \"#FFA15A\", \"#19d3f3\", \"#FF6692\", \"#B6E880\", \"#FF97FF\", \"#FECB52\"], \"font\": {\"color\": \"#2a3f5f\"}, \"geo\": {\"bgcolor\": \"white\", \"lakecolor\": \"white\", \"landcolor\": \"#E5ECF6\", \"showlakes\": true, \"showland\": true, \"subunitcolor\": \"white\"}, \"hoverlabel\": {\"align\": \"left\"}, \"hovermode\": \"closest\", \"mapbox\": {\"style\": \"light\"}, \"paper_bgcolor\": \"white\", \"plot_bgcolor\": \"#E5ECF6\", \"polar\": {\"angularaxis\": {\"gridcolor\": \"white\", \"linecolor\": \"white\", \"ticks\": \"\"}, \"bgcolor\": \"#E5ECF6\", \"radialaxis\": {\"gridcolor\": \"white\", \"linecolor\": \"white\", \"ticks\": \"\"}}, \"scene\": {\"xaxis\": {\"backgroundcolor\": \"#E5ECF6\", \"gridcolor\": \"white\", \"gridwidth\": 2, \"linecolor\": \"white\", \"showbackground\": true, \"ticks\": \"\", \"zerolinecolor\": \"white\"}, \"yaxis\": {\"backgroundcolor\": \"#E5ECF6\", \"gridcolor\": \"white\", \"gridwidth\": 2, \"linecolor\": \"white\", \"showbackground\": true, \"ticks\": \"\", \"zerolinecolor\": \"white\"}, \"zaxis\": {\"backgroundcolor\": \"#E5ECF6\", \"gridcolor\": \"white\", \"gridwidth\": 2, \"linecolor\": \"white\", \"showbackground\": true, \"ticks\": \"\", \"zerolinecolor\": \"white\"}}, \"shapedefaults\": {\"line\": {\"color\": \"#2a3f5f\"}}, \"ternary\": {\"aaxis\": {\"gridcolor\": \"white\", \"linecolor\": \"white\", \"ticks\": \"\"}, \"baxis\": {\"gridcolor\": \"white\", \"linecolor\": \"white\", \"ticks\": \"\"}, \"bgcolor\": \"#E5ECF6\", \"caxis\": {\"gridcolor\": \"white\", \"linecolor\": \"white\", \"ticks\": \"\"}}, \"title\": {\"x\": 0.05}, \"xaxis\": {\"automargin\": true, \"gridcolor\": \"white\", \"linecolor\": \"white\", \"ticks\": \"\", \"title\": {\"standoff\": 15}, \"zerolinecolor\": \"white\", \"zerolinewidth\": 2}, \"yaxis\": {\"automargin\": true, \"gridcolor\": \"white\", \"linecolor\": \"white\", \"ticks\": \"\", \"title\": {\"standoff\": 15}, \"zerolinecolor\": \"white\", \"zerolinewidth\": 2}}}, \"title\": {\"text\": \"@\\u4e7e\\u5764 Tweet Times\"}, \"xaxis\": {\"anchor\": \"y\", \"domain\": [0.0, 1.0], \"title\": {\"text\": \"hour\"}}, \"yaxis\": {\"anchor\": \"x\", \"domain\": [0.0, 1.0], \"title\": {\"text\": \"# of tweets\"}}},\n",
       "                        {\"responsive\": true}\n",
       "                    ).then(function(){\n",
       "                            \n",
       "var gd = document.getElementById('534a721e-34fb-4f48-b8c3-fc374ea5b28b');\n",
       "var x = new MutationObserver(function (mutations, observer) {{\n",
       "        var display = window.getComputedStyle(gd).display;\n",
       "        if (!display || display === 'none') {{\n",
       "            console.log([gd, 'removed!']);\n",
       "            Plotly.purge(gd);\n",
       "            observer.disconnect();\n",
       "        }}\n",
       "}});\n",
       "\n",
       "// Listen for the removal of the full notebook cells\n",
       "var notebookContainer = gd.closest('#notebook-container');\n",
       "if (notebookContainer) {{\n",
       "    x.observe(notebookContainer, {childList: true});\n",
       "}}\n",
       "\n",
       "// Listen for the clearing of the current output cell\n",
       "var outputEl = gd.closest('.output');\n",
       "if (outputEl) {{\n",
       "    x.observe(outputEl, {childList: true});\n",
       "}}\n",
       "\n",
       "                        })\n",
       "                };\n",
       "                });\n",
       "            </script>\n",
       "        </div>"
      ]
     },
     "metadata": {},
     "output_type": "display_data"
    }
   ],
   "source": [
    "#Visualize tweet times\n",
    "user_copy = user.copy()\n",
    "user_copy[\"tweet_time\"] = pd.to_datetime(user_copy[\"tweet_time\"]).apply(lambda x: int(x.hour))\n",
    "tweet_times = user_copy.groupby(\"tweet_time\")[\"userid\"].count().to_frame().reset_index()\n",
    "tweet_times.columns = [\"hour\", '# of tweets']\n",
    "fig = px.line(tweet_times, x=\"hour\", y=\"# of tweets\")\n",
    "fig.update_layout(\n",
    "    title_text=\"@\"+user[\"user_display_name\"].iloc[0]+\" Tweet Times\", \n",
    "    font=dict(\n",
    "        family=\"Times\",\n",
    "        size=18,\n",
    "        color=\"#7f7f7f\"\n",
    "    ))\n",
    "fig.show()"
   ]
  },
  {
   "cell_type": "markdown",
   "metadata": {},
   "source": [
    "The goal of this part was to look for peaks of the day in which a user tweets. We expect a normal user to tweet uniformly between a 14-18 hour period.\n",
    "\n",
    "Next, we will look at the content of the tweets, looking at the variance ."
   ]
  },
  {
   "cell_type": "code",
   "execution_count": 26,
   "metadata": {},
   "outputs": [
    {
     "data": {
      "text/plain": [
       "724983     RT @sheeraf: Here’s a story about what it took...\n",
       "798480     RT @SpursCoyote: With the guys for a good caus...\n",
       "916678                               https://t.co/zPgFBK1uhk\n",
       "1003890                              https://t.co/RV4J8w2Tc7\n",
       "1089139                              https://t.co/9W4AinvklK\n",
       "Name: tweet_text, dtype: object"
      ]
     },
     "execution_count": 26,
     "metadata": {},
     "output_type": "execute_result"
    }
   ],
   "source": [
    "user[\"tweet_text\"].head()"
   ]
  },
  {
   "cell_type": "markdown",
   "metadata": {},
   "source": [
    "At first glance, it seems like this user many of the users tweet in multiple languages. We will be using the gensim package, so first we will preprocess the data."
   ]
  },
  {
   "cell_type": "code",
   "execution_count": 27,
   "metadata": {},
   "outputs": [],
   "source": [
    "# first, remove stop words\n",
    "stop_words = pd.read_csv(\"data/stop_words.csv\")[\"words\"].tolist()\n",
    "cleaned_tweets = user[\"tweet_text\"].apply(lambda tweet: [x.lower() for x in [x.replace(\",\", \"\").replace(\".\", \"\").replace(\"!\", \"\").replace(\"?\", \"\").replace(\" \", \"\").replace(\"*\", \"\").replace('\"', '').strip().lower() for x in tweet.split() if x not in stop_words] if x != ''])\n",
    "cleaned_tweets = cleaned_tweets.tolist()"
   ]
  },
  {
   "cell_type": "markdown",
   "metadata": {},
   "source": [
    "To further clean our data, we remove words with only 1 frequency, as those will likely not be as significant when we calculate similarity between documents."
   ]
  },
  {
   "cell_type": "code",
   "execution_count": 28,
   "metadata": {},
   "outputs": [],
   "source": [
    "# remove words with only 1 frequency\n",
    "frequency = defaultdict(int)\n",
    "for tweet in cleaned_tweets:\n",
    "    for token in tweet:\n",
    "        frequency[token] += 1"
   ]
  },
  {
   "cell_type": "code",
   "execution_count": 29,
   "metadata": {},
   "outputs": [],
   "source": [
    "texts = [\n",
    "    [token for token in tweets if frequency[token] > 1]\n",
    "    for tweets in cleaned_tweets\n",
    "]\n",
    "dictionary = gensim.corpora.Dictionary(texts)\n",
    "corpus = [dictionary.doc2bow(text) for text in texts]"
   ]
  },
  {
   "cell_type": "markdown",
   "metadata": {},
   "source": [
    "We've preprocessed the data, but knowing that there may be stop words we have missed, that there are tweets in other languages, and that users (particularly this user) tend to repeat words, we will transform our corpus using tf-idf."
   ]
  },
  {
   "cell_type": "code",
   "execution_count": 30,
   "metadata": {},
   "outputs": [],
   "source": [
    "tfidf = gensim.models.TfidfModel(corpus, smartirs='ntc')"
   ]
  },
  {
   "cell_type": "code",
   "execution_count": 31,
   "metadata": {},
   "outputs": [
    {
     "name": "stdout",
     "output_type": "stream",
     "text": [
      "[['rt', 0.01], ['story', 0.88], ['talk', 0.48]]\n",
      "[['rt', 0.01], ['#gospursgo', 0.48], ['good', 0.6], ['with', 0.64]]\n",
      "[]\n",
      "[]\n",
      "[]\n",
      "[]\n",
      "[]\n",
      "[['rt', 0.01], ['22', 0.46], ['3', 0.46], ['5', 0.42], ['@okcthunder:', 0.32], ['https://tco…', 0.46], ['in', 0.31]]\n",
      "[['rt', 0.01], ['@okcthunder:', 0.45], ['#nationalhandshakeday', 0.6], ['partner', 0.66]]\n",
      "[['rt', 0.01], ['@okcthunder:', 0.3], ['christmas', 0.43], ['nba', 0.43], ['night', 0.4], ['opening', 0.43], ['thunder', 0.43]]\n",
      "[['rt', 0.01], ['@karaswisher:', 0.45], ['francisco', 0.41], ['i', 0.29], ['love', 0.45], ['san', 0.37], ['strong', 0.45]]\n",
      "[['rt', 0.02], ['@karaswisher:', 1.0]]\n",
      "[['rt', 0.01], ['5', 0.36], ['https://tco…', 0.39], ['@cavs', 0.36], ['@kingjames', 0.34], ['game', 0.29], ['pts', 0.36], ['when', 0.39], ['|', 0.32]]\n",
      "[['rt', 0.01], ['@soundcloud:', 0.32], ['first', 0.57], ['get', 0.34], ['soundcloud', 0.4], ['start', 0.37], ['your', 0.4]]\n",
      "[['rt', 0.03], ['@alfredburnejon1:', 1.0]]\n",
      "[['rt', 0.0], ['get', 0.23], ['fast', 0.24], ['powerful', 0.26], ['✔︎', 0.91]]\n",
      "[['rt', 0.01], ['@kingjames', 0.25], ['#kiamvp', 0.29], ['#nbaawards', 0.25], ['2018', 0.25], ['9pm/et', 0.29], ['@jharden13', 0.26], ['@nba:', 0.15], ['@nbaontnt', 0.29], ['air', 0.29], ['finalists', 0.29], ['http…', 0.26], ['monday', 0.29], ['the', 0.31], ['three', 0.26]]\n",
      "[['rt', 0.02], ['@nba:', 0.55], ['best', 0.83]]\n",
      "[['rt', 0.01], ['game', 0.39], ['@nba:', 0.27], ['a', 0.52], ['breaks', 0.52], ['out', 0.48]]\n",
      "[['rt', 0.01], ['@nba:', 0.2], ['&amp;', 0.28], ['james', 0.38], ['w', 0.38], ['👑', 0.77]]\n",
      "[['rt', 0.01], ['pts', 0.66], ['@nba:', 0.37], ['#nbasummer', 0.66]]\n",
      "[['rt', 0.01], ['@billgates:', 0.4], ['i’m', 0.62], ['optimistic', 0.68]]\n",
      "[['rt', 0.01], ['@billgates:', 0.22], ['life', 0.31], ['me', 0.37], ['work', 0.31], ['year', 0.28], ['you’re', 0.73]]\n",
      "[['rt', 0.01], ['i', 0.3], ['best', 0.36], ['@billgates:', 0.27], ['year', 0.36], ['17', 0.46], ['at', 0.4], ['books', 0.46]]\n",
      "[['rt', 0.01], ['@billgates:', 0.27], ['bringing', 0.45], ['congrats', 0.41], ['fans', 0.41], ['fight', 0.45], ['incredible', 0.45]]\n",
      "[['rt', 0.01], ['i', 0.19], ['@billgates:', 0.18], ['i’m', 0.27], ['a…', 0.3], ['for', 0.27], ['inspired', 0.3], ['making', 0.27], ['people', 0.27], ['progress', 0.68]]\n",
      "[['rt', 0.01], ['i', 0.35], ['@billgates:', 0.32], ['more', 0.44], ['things', 0.54], ['years', 0.54]]\n",
      "[['rt', 0.01], ['@billgates:', 0.19], ['book', 0.32], ['learning', 0.32], ['machine', 0.73], ['read', 0.32], ['this', 0.19], ['vision', 0.32]]\n",
      "[['rt', 0.01], ['good', 0.54], ['http…', 0.58], ['@billgates:', 0.38], ['great', 0.47]]\n",
      "[['rt', 0.01], ['@billgates:', 0.29], ['making', 0.45], ['this', 0.29], ['great', 0.37], ['data', 0.49], ['easier', 0.49]]\n",
      "[['rt', 0.01], ['#granitystudios', 0.39], ['@granity:', 0.39], ['achieve', 0.35], ['dream', 0.35], ['inspire', 0.39], ['our', 0.39], ['young', 0.39]]\n",
      "[['rt', 0.01], ['@espn:', 0.58], ['💯', 0.81]]\n",
      "[['rt', 0.01], ['@kingjames', 0.5], ['@espn:', 0.42], ['court', 0.54], ['knew', 0.54]]\n",
      "[['rt', 0.01], ['@espn:', 0.39], ['6', 0.55], ['down', 0.55], ['no', 0.5]]\n",
      "[['rt', 0.01], ['|', 0.88], ['#thunderup', 0.47]]\n",
      "[['rt', 0.01], ['talk', 0.53], ['i', 0.34], ['https://tc…', 0.41], ['ribs', 0.53], ['today', 0.38]]\n",
      "[['rt', 0.01], ['i', 0.36], ['first', 0.4], ['@stephencurry30:', 0.35], ['live', 0.52], ['record', 0.56]]\n",
      "[['rt', 0.01], ['this', 0.34], ['@stephencurry30:', 0.35], ['big', 0.56], ['don’t', 0.48], ['time', 0.46]]\n",
      "[['rt', 0.02], ['this', 0.69], ['@stephencurry30:', 0.73]]\n",
      "[['rt', 0.01], ['work', 0.4], ['#thepunies', 0.47], ['@kobebryant:', 0.28], ['easy', 0.47], ['find', 0.4], ['kids', 0.4]]\n",
      "[['rt', 0.02], ['@sfgiants:', 1.0]]\n",
      "[['rt', 0.01], ['this', 0.29], ['our', 0.49], ['@sfgiants:', 0.36], ['#walkoff', 0.49], ['we', 0.34], ['win', 0.42]]\n",
      "[['rt', 0.01], ['|', 0.33], ['@sfgiants:', 0.31], ['#forever44', 0.41], ['#sfgiants', 0.33], ['mccovey', 0.41], ['rest', 0.41], ['willie', 0.41]]\n",
      "[['rt', 0.01], ['out', 0.5], ['summer', 0.5], ['watch', 0.44], ['–', 0.55]]\n",
      "[['rt', 0.01], ['get', 0.46], ['more', 0.44], ['@nyknicks:', 0.54], ['🎟', 0.54]]\n",
      "[['rt', 0.01], ['in', 0.26], ['court', 0.35], ['today', 0.28], ['don’t', 0.33], ['@nyknicks:', 0.39], ['celebrate', 0.33], ['play', 0.39], ['pride', 0.39], ['you', 0.26]]\n",
      "[['rt', 0.01], ['san', 0.48], ['@tim_cook:', 0.34], ['apple', 0.55], ['proud', 0.6]]\n",
      "[['rt', 0.01], ['#gospursgo', 0.3], ['more', 0.35], ['summer', 0.4], ['@spurs:', 0.23], ['league', 0.44], ['media', 0.44], ['ready', 0.44]]\n",
      "[['rt', 0.01], ['2018', 0.64], ['@tim_cook:', 0.42], ['celebrating', 0.64]]\n",
      "[['rt', 0.01], ['the', 0.24], ['best', 0.34], ['life', 0.38], ['this', 0.27], ['big', 0.45], ['@tim_cook:', 0.25], ['beautiful', 0.45], ['pro', 0.38]]\n",
      "[['rt', 0.01], ['@spurs:', 0.15], ['#summerspurs', 0.27], ['1st', 0.29], ['2️⃣', 0.66], ['assists', 0.29], ['derrick', 0.27], ['points', 0.27], ['rebounds', 0.29], ['white', 0.27]]\n",
      "[['rt', 0.01], ['#gospursgo', 0.37], ['time', 0.44], ['@spurs:', 0.28], ['https://t…', 0.54], ['pass', 0.54]]\n",
      "[['rt', 0.03], ['@tim_cook:', 1.0]]\n",
      "[['rt', 0.01], ['@tim_cook:', 0.39], ['#shotoniphone', 0.62], ['cover', 0.68]]\n",
      "[['rt', 0.02], ['#gospursgo', 0.8], ['@spurs:', 0.6]]\n",
      "[['rt', 0.02], ['you', 0.58], ['@spurs:', 0.46], ['thank', 0.67]]\n",
      "[['rt', 0.01], ['story', 0.45], ['this', 0.29], ['@tim_cook:', 0.28], ['thank', 0.38], ['do', 0.49], ['sharing', 0.49]]\n",
      "[['rt', 0.01], ['life', 0.38], ['great', 0.33], ['we', 0.31], ['@tim_cook:', 0.25], ['american', 0.44], ['george', 0.44], ['taught', 0.44]]\n",
      "[['rt', 1.0]]\n",
      "[['rt', 0.01], ['i', 0.29], ['at', 0.39], ['fans', 0.42], ['@jerrydunleavy:', 0.46], ['can’t', 0.42], ['where', 0.46]]\n",
      "[['rt', 0.01], ['learning', 0.74], ['excited', 0.68]]\n",
      "[['rt', 0.01], ['you', 0.55], ['where', 0.83]]\n",
      "[['rt', 0.01], ['4', 0.94], ['@klaythompson:', 0.35]]\n",
      "[['rt', 0.01], ['&amp;', 0.46], ['change', 0.63], ['delicious', 0.63]]\n",
      "[['rt', 0.01], ['easier', 0.41], ['easy', 0.41], ['league', 0.41], ['@tdameritrade:', 0.38], ['not', 0.41], ['winning', 0.41]]\n",
      "[['rt', 0.01], ['you’re', 0.66], ['you', 0.44], ['@tdameritrade:', 0.61]]\n",
      "[['rt', 0.02], ['@tdameritrade:', 1.0]]\n",
      "[['rt', 0.02], ['more', 1.0]]\n",
      "[['rt', 0.01], ['you', 0.34], ['happy', 0.37], ['okay', 0.47], [\"that's\", 0.51], [\"we're\", 0.51]]\n",
      "[['rt', 0.01], ['a…', 0.4], ['american', 0.4], ['@xhnews:', 0.21], ['north', 0.4], ['office', 0.4], ['second', 0.4], ['weekend', 0.4]]\n",
      "[['rt', 0.01], ['@xhnews:', 0.37], ['face', 0.7], ['h…', 0.6]]\n",
      "[['rt', 0.01], ['fans', 0.54], ['celebrate', 0.51], ['@xhnews:', 0.31], ['face', 0.59]]\n",
      "[['rt', 0.01], ['live', 0.43], ['8/7c', 0.47], ['below', 0.47], ['family', 0.37], ['hit', 0.47]]\n",
      "[['rt', 0.01], ['@okcthunder:', 0.46], ['#thunderup', 0.58], ['welcome', 0.67]]\n",
      "[['rt', 0.01], ['@okcthunder:', 0.52], ['you', 0.5], ['okay', 0.69]]\n",
      "[['rt', 0.01], ['@okcthunder:', 0.33], ['happy', 0.35], ['birthday', 0.37], ['join', 0.44], ['wishing', 0.44], ['🎉', 0.49]]\n",
      "[['rt', 0.01], ['good', 0.39], ['@okcthunder:', 0.32], ['thunder', 0.46], ['you', 0.31], ['happy', 0.33], ['birthday', 0.35], ['🎉', 0.46]]\n",
      "[['rt', 0.01], ['@okcthunder:', 0.28], ['#thunderup', 0.35], ['points', 0.38], ['george', 0.41], ['-', 0.38], ['over', 0.41], ['performance', 0.41]]\n",
      "[['rt', 0.02], ['@okcthunder:', 0.63], ['#thunderup', 0.78]]\n",
      "[['rt', 0.01], ['win', 0.4], ['happy', 0.33], ['birthday', 0.36], ['@jaketapper:', 0.46], ['played', 0.46], ['world', 0.42]]\n",
      "[['rt', 0.01], ['@jaketapper:', 0.71], ['death', 0.71]]\n",
      "[['rt', 0.01], ['@soundcloud:', 0.32], ['first', 0.57], ['get', 0.34], ['soundcloud', 0.4], ['start', 0.37], ['your', 0.4]]\n",
      "[['rt', 0.01], ['@soundcloud:', 0.36], ['first', 0.64], ['pro', 0.38], ['make', 0.41], ['moves', 0.38]]\n",
      "[['rt', 0.01], ['@soundcloud:', 0.36], ['first', 0.64], ['pro', 0.38], ['make', 0.41], ['moves', 0.38]]\n",
      "[['rt', 0.01], ['@soundcloud:', 0.34], ['first', 0.59], ['pro', 0.35], ['make', 0.38], ['moves', 0.35], ['stream', 0.38]]\n",
      "[['rt', 0.03], ['@alfredburnejon1:', 1.0]]\n",
      "[['rt', 0.03], ['@alfredburnejon1:', 1.0]]\n",
      "[['rt', 0.03], ['@alfredburnejon1:', 1.0]]\n",
      "[['rt', 0.03], ['@alfredburnejon1:', 1.0]]\n",
      "[['rt', 0.03], ['@alfredburnejon1:', 1.0]]\n",
      "[['rt', 0.03], ['@alfredburnejon1:', 1.0]]\n",
      "[['rt', 0.03], ['@alfredburnejon1:', 1.0]]\n",
      "[['rt', 0.03], ['@alfredburnejon1:', 1.0]]\n",
      "[['rt', 0.03], ['@alfredburnejon1:', 1.0]]\n",
      "[['rt', 0.03], ['@alfredburnejon1:', 1.0]]\n",
      "[['rt', 0.03], ['@alfredburnejon1:', 1.0]]\n",
      "[['rt', 0.03], ['@alfredburnejon1:', 1.0]]\n",
      "[['rt', 0.03], ['@alfredburnejon1:', 1.0]]\n",
      "[['rt', 0.03], ['@alfredburnejon1:', 1.0]]\n",
      "[['rt', 1.0]]\n",
      "[]\n",
      "[]\n",
      "[['rt', 0.02], ['this', 0.54], ['now', 0.84]]\n",
      "[['rt', 0.01], ['first', 0.3], ['out', 0.39], ['this', 0.25], ['@glassesusa:', 0.39], ['check', 0.42], ['glasses', 0.42], ['new', 0.42]]\n",
      "[['rt', 0.01], ['this', 0.29], ['over', 0.49], ['@glassesusa:', 0.45], ['glasses', 0.49], ['going', 0.49]]\n",
      "[['rt', 0.01], ['@glassesusa:', 0.57], ['+', 0.62], ['free', 0.53]]\n",
      "[['rt', 0.01], ['@billgates:', 0.3], ['celebrate', 0.43], ['all', 0.5], ['as', 0.46], ['let’s', 0.5]]\n",
      "[['rt', 0.01], ['in', 0.48], ['i', 0.46], ['@billgates:', 0.43], ['find', 0.61]]\n",
      "[['rt', 0.01], ['@billgates:', 0.31], ['books', 0.52], ['you', 0.35], ['can’t', 0.48], ['lives', 0.52]]\n",
      "[['rt', 0.01], ['@billgates:', 0.48], ['this', 0.48], ['https:/…', 0.74]]\n",
      "[['rt', 0.01], ['@billgates:', 0.17], ['optimistic', 0.29], ['data', 0.29], ['new', 0.86], ['these', 0.26]]\n",
      "[['rt', 0.01], ['@nba:', 0.39], ['watch', 0.61], ['now', 0.69]]\n",
      "[['rt', 0.01], ['#nationalhandshakeday', 0.54], ['@nba:', 0.3], ['celebrating', 0.51], [\"we're\", 0.59]]\n",
      "[['rt', 0.01], ['@nba:', 0.23], ['the', 0.24], ['best', 0.35], ['#nbasummer', 0.41], ['history', 0.45], ['🎟️:', 0.45], ['💻:', 0.45]]\n",
      "[['rt', 0.01], ['@nba:', 0.34], ['state', 0.66], ['top', 0.66]]\n",
      "[['rt', 0.01], ['@cavs', 0.38], ['@nba:', 0.21], ['incredible', 0.41], ['15', 0.41], ['2017-18', 0.41], [\"@kingjames'\", 0.41], ['season', 0.38]]\n",
      "[['rt', 0.01], ['#nbaawards', 0.28], ['2018', 0.28], ['9pm/et', 0.32], ['@nba:', 0.17], ['@nbaontnt', 0.32], ['air', 0.32], ['finalists', 0.32], ['monday', 0.32], ['the', 0.35], ['three', 0.3], ['h…', 0.28]]\n",
      "[['rt', 0.01], ['@nba:', 0.23], ['the', 0.24], ['best', 0.35], ['#nbasummer', 0.41], ['history', 0.45], ['🎟️:', 0.45], ['💻:', 0.45]]\n",
      "[['rt', 0.01], ['@nba:', 0.29], ['happy', 0.41], ['birthday', 0.44], ['join', 0.53], ['wishing', 0.53]]\n",
      "[['rt', 0.01], ['#kiamvp', 0.44], ['#nbaawards', 0.38], ['@jharden13', 0.4], ['@nba:', 0.23], ['the', 0.24], ['2017-2018', 0.44], ['is…', 0.44]]\n",
      "[['rt', 0.01], ['3', 0.52], ['game', 0.39], ['@nba:', 0.27], ['derrick', 0.48], [\"that's\", 0.52]]\n",
      "[['rt', 0.01], ['@nba:', 0.16], ['the', 0.17], ['top', 0.32], ['2017-18', 0.32], ['season', 0.3], ['10', 0.32], ['🚨', 0.74]]\n",
      "[['rt', 0.01], ['in', 0.27], ['@nba:', 0.21], ['17', 0.4], ['vision', 0.4], ['find', 0.34], ['espn', 0.4], ['on', 0.34], ['tune', 0.4]]\n",
      "[['rt', 0.01], ['strong', 0.6], ['@nba:', 0.3], ['&amp;', 0.44], ['pass', 0.6]]\n",
      "[['rt', 0.01], ['in', 0.24], ['@cavs', 0.32], ['@nba:', 0.18], ['the', 0.19], ['james', 0.35], ['court', 0.32], ['https://tc…', 0.27], ['espn', 0.35], ['on', 0.3], ['tune', 0.35], ['#thisiswhyweplay', 0.35]]\n",
      "[['rt', 0.01], ['nba', 0.41], ['#nbaawards', 0.35], ['@nba:', 0.21], ['the', 0.22], ['year', 0.32], ['2017-2018', 0.41], ['is…', 0.41], ['coach', 0.41]]\n",
      "[['rt', 0.01], ['night', 0.49], ['@nba:', 0.27], ['the', 0.29], ['&amp;', 0.39], ['https://tc…', 0.41], ['#thisiswhyweplay', 0.53]]\n",
      "[['rt', 0.01], ['life', 0.35], ['for', 0.38], ['we', 0.28], ['you', 0.27], ['thank', 0.32], ['taught', 0.41], ['field', 0.41], ['forever', 0.38]]\n",
      "[['rt', 0.02], ['the', 0.61], ['@espn:', 0.79]]\n",
      "[['rt', 0.01], ['@espn:', 0.38], ['today', 0.38], ['live', 0.49], ['stream', 0.49], ['free', 0.46]]\n",
      "[['rt', 0.01], ['👑', 0.45], ['@espn:', 0.32], ['celebrating', 0.39], ['birthday', 0.35], [\"@kingjames'\", 0.45], ['moments', 0.45]]\n",
      "[['rt', 0.01], ['best', 0.41], ['this', 0.32], ['@espn:', 0.38], ['video', 0.54], ['🙌', 0.54]]\n",
      "[['rt', 0.01], ['the', 0.36], ['@espn:', 0.47], ['today', 0.47], ['🐶', 0.66]]\n",
      "[['rt', 0.02], ['this', 0.51], ['@joelembiid:', 0.86]]\n",
      "[['rt', 0.01], ['i’m', 0.48], ['cover', 0.52], ['excited', 0.48], ['@joelembiid:', 0.52]]\n",
      "[['rt', 0.01], ['@granity:', 0.43], ['young', 0.43], ['we', 0.29], ['change', 0.43], ['learn', 0.43], ['well', 0.43]]\n",
      "[['rt', 0.01], ['@stephencurry30:', 0.35], ['ready', 0.56], ['hear', 0.56], ['tonight', 0.51]]\n",
      "[['rt', 0.01], ['great', 0.42], ['@stephencurry30:', 0.18], ['don’t', 0.25], ['time', 0.46], ['all', 0.29], ['god', 0.66]]\n",
      "[['rt', 0.01], ['@stephencurry30:', 0.3], ['north', 0.49], ['join', 0.45], ['state', 0.49], ['myself', 0.49]]\n",
      "[['rt', 0.01], ['story', 0.64], ['@stephencurry30:', 0.44], ['amazing', 0.64]]\n",
      "[['rt', 0.02], ['in', 0.73], ['@stephencurry30:', 0.69]]\n",
      "[['rt', 0.0], ['@stephencurry30:', 0.12], ['bada', 0.89], ['bing', 0.44]]\n",
      "[['rt', 0.01], ['with', 0.36], ['congrats', 0.36], ['@stephencurry30:', 0.25], ['you', 0.26], ['played', 0.4], ['amazing', 0.36], ['basketball', 0.4], ['career', 0.4]]\n",
      "[['rt', 0.01], ['year', 0.36], ['more', 0.38], ['ribs', 0.46], ['@stephencurry30:', 0.29], ['myself', 0.46], ['guess', 0.46]]\n",
      "[['rt', 0.01], ['@stephencurry30:', 0.26], ['8/7c', 0.42], ['family', 0.32], ['going', 0.42], ['tonight', 0.38], ['thanks', 0.42], ['us', 0.38]]\n",
      "[['rt', 0.01], ['i', 0.38], ['happy', 0.42], ['guess', 0.58], ['#halloween', 0.58]]\n",
      "[['rt', 0.02], ['@maggienyt:', 1.0]]\n",
      "[['rt', 0.01], ['-', 0.47], ['@maggienyt:', 0.51], ['b…', 0.51], ['trump', 0.51]]\n",
      "[['rt', 0.01], ['play', 0.54], ['-', 0.5], ['now', 0.5], ['free', 0.46]]\n",
      "[['rt', 0.02], ['mvp', 1.0]]\n",
      "[['rt', 0.01], ['knew', 0.28], ['today', 0.22], ['on', 0.53], ['trump', 0.31], ['tape', 0.71]]\n",
      "[['rt', 0.0], ['22', 0.22], ['6', 0.22], ['https://tc…', 0.17], ['watch', 0.18], ['@spurs:', 0.11], ['assists', 0.22], ['derrick', 0.2], ['points', 0.2], ['rebounds', 0.22], ['white', 0.2], ['performance', 0.22], ['•', 0.75]]\n",
      "[['rt', 0.01], ['@tim_cook:', 0.37], ['proud', 0.66], ['training', 0.66]]\n",
      "[['rt', 0.02], ['&amp;', 0.79], ['@tim_cook:', 0.61]]\n",
      "[['rt', 0.01], ['#gospursgo', 0.3], ['find', 0.37], ['win', 0.37], ['@spurs:', 0.23], ['below', 0.44], ['check', 0.44], ['chance', 0.44]]\n",
      "[['rt', 0.01], ['2018', 0.4], ['we', 0.32], ['🎟', 0.47], ['@spurs:', 0.25], ['do', 0.47], ['more:', 0.47]]\n",
      "[['rt', 0.03], ['@spurs:', 1.0]]\n",
      "[['rt', 0.01], ['christmas', 0.44], ['@tim_cook:', 0.25], ['apple', 0.4], ['family', 0.34], ['wishing', 0.4], ['world', 0.4], ['hope', 0.4]]\n",
      "[['rt', 0.03], ['@spurs:', 1.0]]\n",
      "[['rt', 0.01], ['#gospursgo', 0.52], ['w', 0.76], ['@spurs:', 0.39]]\n",
      "[['rt', 0.01], ['@tim_cook:', 0.33], ['#shotoniphone', 0.53], ['these', 0.53], ['thanks', 0.58]]\n",
      "[['rt', 0.01], ['achieve', 0.42], ['dream', 0.42], ['rest', 0.46], ['@tim_cook:', 0.26], ['as', 0.42], ['man', 0.42]]\n",
      "[['rt', 0.01], ['@tim_cook:', 0.41], ['free', 0.62], ['human', 0.67]]\n",
      "[['rt', 0.01], ['the', 0.29], ['@spurs:', 0.28], ['#summerspurs', 0.5], ['bucket', 0.54], ['👍', 0.54]]\n",
      "[['rt', 0.01], ['love', 0.4], ['we', 0.27], ['@tim_cook:', 0.23], ['beautiful', 0.4], ['#shotoniphone', 0.36], ['world', 0.36], ['moments', 0.4], ['holiday', 0.36]]\n",
      "[['rt', 0.01], ['#nationalhandshakeday', 0.63], ['when', 0.69], ['@spurs:', 0.36]]\n",
      "[['rt', 0.01], ['#gospursgo', 0.29], ['@spurs:', 0.22], ['media', 0.42], ['https:/…', 0.39], ['coach', 0.42], ['hear', 0.42], ['more:', 0.42]]\n",
      "[['rt', 0.01], ['today', 0.29], ['we', 0.28], ['@spurs:', 0.21], ['office', 0.41], ['weekend', 0.41], ['🐶', 0.41], ['hope', 0.37], ['dog', 0.41]]\n",
      "[['rt', 0.01], ['francisco', 0.39], ['san', 0.35], ['today', 0.31], ['pride', 0.43], ['@tim_cook:', 0.24], ['apple', 0.39], ['celebrating', 0.37], ['happy', 0.31]]\n",
      "[['rt', 0.01], ['san', 0.33], ['@spurs:', 0.21], ['gathers', 0.92]]\n",
      "[['rt', 0.01], ['#gospursgo', 0.52], ['@spurs:', 0.39], ['👍', 0.76]]\n",
      "[['rt', 0.01], ['first', 0.38], ['summer', 0.49], ['@spurs:', 0.28], ['#summerspurs', 0.49], ['bucket', 0.54]]\n",
      "[['rt', 0.01], ['#gospursgo', 0.51], ['@spurs:', 0.38], ['happy', 0.52], ['birthday', 0.57]]\n",
      "[['rt', 0.01], ['we', 0.28], ['@tim_cook:', 0.23], ['thank', 0.32], ['sharing', 0.41], ['video', 0.41], ['us', 0.38], ['hope', 0.38], ['holiday', 0.38]]\n",
      "[['rt', 0.03], ['@spurs:', 1.0]]\n",
      "[['rt', 0.02], ['@kobebryant:', 0.59], ['🙌🏾', 0.81]]\n",
      "[['rt', 0.01], ['partner', 0.47], ['book', 0.47], ['great', 0.35], ['@kobebryant:', 0.28], ['🙌🏾', 0.38], ['#mambamentality', 0.47]]\n",
      "[['rt', 0.01], ['inspired', 0.53], ['#granitystudios', 0.53], ['today', 0.38], ['@kobebryant:', 0.31], ['kids', 0.45]]\n",
      "[['rt', 0.01], ['💯', 0.65], ['@kobebryant:', 0.39], ['training', 0.65]]\n",
      "[['rt', 0.01], ['@kobebryant:', 0.38], ['thank', 0.49], ['man', 0.59], ['🙌🏾', 0.52]]\n",
      "[['rt', 0.01], ['@kobebryant:', 0.25], ['exam', 0.97]]\n",
      "[['rt', 0.01], ['game', 0.41], ['@kobebryant:', 0.33], ['on', 0.47], ['🙌🏾', 0.45], ['#mambamentality', 0.55]]\n",
      "[['rt', 0.01], ['@kingjames', 0.41], ['@kobebryant:', 0.29], ['family', 0.37], ['welcome', 0.48], ['well', 0.48], ['🙌🏾', 0.39]]\n",
      "[['rt', 0.01], ['i', 0.3], ['game', 0.35], ['this', 0.28], ['knew', 0.43], ['@kobebryant:', 0.28], ['basketball', 0.47], ['lead', 0.47]]\n",
      "[['rt', 0.01], ['the', 0.2], ['me', 0.36], ['for', 0.33], ['achieve', 0.33], ['dream', 0.66], ['@kobebryant:', 0.21], ['winning', 0.36]]\n",
      "[['rt', 0.01], ['@kobebryant:', 0.35], ['watch', 0.48], ['–', 0.59], ['tonight', 0.54]]\n",
      "[['rt', 0.01], ['in', 0.29], ['inspire', 0.43], ['#thepunies', 0.43], ['@kobebryant:', 0.26], ['kids', 0.37], ['these', 0.4], ['learn', 0.43]]\n",
      "[['rt', 0.02], ['things', 0.86], ['@kobebryant:', 0.51]]\n",
      "[['rt', 0.01], ['in', 0.24], ['the', 0.2], ['h…', 0.31], ['cave', 0.82], ['wall', 0.36]]\n",
      "[['rt', 0.01], ['game', 0.39], ['no', 0.48], ['@sfgiants:', 0.39], ['#sfgiants', 0.43], ['+', 0.53]]\n",
      "[['rt', 0.01], ['good', 0.5], ['@sfgiants:', 0.43], ['#walkoff', 0.58], ['#sfgiants', 0.47]]\n",
      "[['rt', 0.01], ['|', 0.31], ['@sfgiants:', 0.29], ['#forever44', 0.39], ['#sfgiants', 0.31], ['mccovey', 0.39], ['willie', 0.39], ['lives', 0.39], ['forever', 0.35]]\n",
      "[['rt', 0.01], ['|', 0.38], ['time', 0.38], ['@sfgiants:', 0.35], ['#sfgiants', 0.38], ['field', 0.47], ['takes', 0.47]]\n",
      "[['rt', 0.01], ['at', 0.52], ['better', 0.6], [\"don't\", 0.6]]\n",
      "[['rt', 0.01], ['the', 0.27], ['great', 0.36], ['https://tc…', 0.38], ['win', 0.42], ['chance', 0.49], ['wall', 0.49]]\n",
      "[['rt', 1.0]]\n",
      "[['rt', 0.01], ['start', 0.37], ['excited', 0.37], ['@klaythompson:', 0.35], ['as', 0.37], ['season', 0.37], [\"don't\", 0.41], ['all…', 0.41]]\n",
      "[['rt', 0.01], ['making', 0.48], ['thank', 0.41], ['@klaythompson:', 0.45], ['family', 0.41], ['https:/…', 0.48]]\n",
      "[['rt', 0.01], ['francisco', 0.37], ['san', 0.33], ['the', 0.22], ['@klaythompson:', 0.35], ['family', 0.31], ['let’s', 0.4], ['takes', 0.4], ['up', 0.4]]\n",
      "[['rt', 0.01], ['night', 0.41], ['@jharden13', 0.41], ['year', 0.34], ['bringing', 0.44], ['congrats', 0.41], ['mvp', 0.44]]\n",
      "[['rt', 0.01], ['three', 0.48], ['celebrate', 0.45], ['#halloween', 0.53], ['@cgtnofficial:', 0.53]]\n",
      "[['rt', 0.02], ['@cgtnofficial:', 1.0]]\n",
      "[['rt', 0.01], ['with', 0.51], ['year', 0.43], ['better', 0.55], ['@hillaryclinton:', 0.51]]\n",
      "[['rt', 0.01], ['&amp;', 0.32], ['read', 0.43], ['great', 0.64], ['holiday', 0.39], ['@hillaryclinton:', 0.39]]\n",
      "[['rt', 0.01], ['in', 0.44], ['b…', 0.66], ['@hillaryclinton:', 0.61]]\n",
      "[['rt', 0.01], ['@jerrydunleavy:', 0.38], ['okay', 0.34], ['me:', 0.86]]\n",
      "[['rt', 1.0]]\n",
      "[['rt', 0.02], ['the', 0.48], ['🙌', 0.88]]\n",
      "[['rt', 0.01], ['pts', 0.38], ['1st', 0.41], ['15', 0.41], ['10', 0.41], ['career', 0.41], ['lead', 0.41]]\n",
      "[['rt', 0.02], ['impressive', 1.0]]\n",
      "[['rt', 0.01], ['in', 0.25], ['time', 0.3], ['kids', 0.63], ['we', 0.25], ['can’t', 0.34], ['all…', 0.37], ['up', 0.37]]\n",
      "[['rt', 0.01], ['people', 0.68], ['@chevrolet:', 0.74]]\n",
      "[['rt', 0.01], ['don’t', 0.65], ['@chevrolet:', 0.76]]\n",
      "[['rt', 0.01], ['game', 0.37], ['work', 0.43], ['down', 0.5], ['no', 0.46], ['stream', 0.46]]\n",
      "[['rt', 0.01], ['5', 0.45], ['powerful', 0.49], ['@xhnews:', 0.26], ['death', 0.49], ['earthquake', 0.49]]\n",
      "[['rt', 0.01], ['breaks', 0.49], ['record', 0.49], ['@xhnews:', 0.26], ['second', 0.49], ['chinese', 0.45]]\n",
      "[['rt', 0.01], ['white', 0.65], ['@xhnews:', 0.38], ['chinese', 0.65]]\n",
      "[['rt', 0.02], ['watch', 0.84], ['@xhnews:', 0.55]]\n",
      "[['rt', 0.02], ['not', 0.88], ['@xhnews:', 0.47]]\n",
      "[['rt', 0.01], ['a', 0.57], ['https://t…', 0.57], ['@xhnews:', 0.3], ['chinese', 0.52]]\n",
      "[['rt', 0.02], ['@xhnews:', 0.5], ['us', 0.86]]\n",
      "[['rt', 0.01], ['opening', 0.5], ['@xhnews:', 0.27], ['forever', 0.46], ['human', 0.46], [\"china's\", 0.5]]\n",
      "[['rt', 0.01], ['http…', 0.63], ['years', 0.69], ['@xhnews:', 0.37]]\n",
      "[['rt', 0.01], ['at', 0.41], ['people', 0.43], ['https://tc…', 0.37], ['@xhnews:', 0.25], ['hit', 0.47], ['earthquake', 0.47]]\n",
      "[['rt', 0.01], ['@xhnews:', 0.31], ['moves', 0.49], ['dog', 0.58], ['impressive', 0.58]]\n",
      "[['rt', 0.01], ['fast', 0.52], ['delicious', 0.57], ['@xhnews:', 0.3], ['food', 0.57]]\n",
      "[['rt', 0.02], ['&amp;', 0.81], ['@xhnews:', 0.58]]\n",
      "[['rt', 0.01], ['@xhnews:', 0.38], ['man', 0.65], ['human', 0.65]]\n",
      "[['rt', 0.02], ['@xhnews:', 0.47], [\"china's\", 0.88]]\n",
      "[['rt', 0.01], ['fast', 0.53], ['@xhnews:', 0.31], ['amazing', 0.53], ['food', 0.58]]\n",
      "[['rt', 0.02], ['work', 1.0]]\n",
      "[['rt', 0.01], ['i', 0.44], ['fight', 0.68], ['h…', 0.58]]\n",
      "[]\n",
      "[]\n",
      "[]\n",
      "[]\n",
      "[]\n",
      "[]\n",
      "[]\n",
      "[]\n",
      "[]\n",
      "[]\n",
      "[]\n",
      "[]\n"
     ]
    }
   ],
   "source": [
    "for doc in tfidf[corpus]:\n",
    "    print([[dictionary[token], np.around(freq, 2)] for token, freq in doc])"
   ]
  },
  {
   "cell_type": "code",
   "execution_count": 32,
   "metadata": {},
   "outputs": [],
   "source": [
    "tfidf_corpus = tfidf[corpus]"
   ]
  },
  {
   "cell_type": "code",
   "execution_count": 34,
   "metadata": {},
   "outputs": [],
   "source": [
    "index = gensim.similarities.MatrixSimilarity(tfidf_corpus, num_features=len(dictionary))\n",
    "sims = index[tfidf_corpus]"
   ]
  },
  {
   "cell_type": "code",
   "execution_count": 49,
   "metadata": {},
   "outputs": [
    {
     "data": {
      "text/plain": [
       "array([1.00000000e+00, 1.05164370e-04, 0.00000000e+00, 0.00000000e+00,\n",
       "       0.00000000e+00, 0.00000000e+00, 0.00000000e+00, 6.89509179e-05,\n",
       "       9.88897591e-05, 6.52322196e-05, 6.78398792e-05, 1.50307780e-04,\n",
       "       5.91925091e-05, 6.01213396e-05, 2.58653890e-04, 3.96803407e-05,\n",
       "       4.31218323e-05, 1.62426368e-04, 7.87234167e-05, 5.76148268e-05,\n",
       "       1.07979067e-04, 1.01511963e-04, 5.52076453e-05, 6.93856200e-05,\n",
       "       6.70188820e-05, 4.45996520e-05, 8.12133367e-05, 4.76690911e-05,\n",
       "       9.56076183e-05, 7.42952034e-05, 5.81770582e-05, 1.22467914e-04,\n",
       "       8.80326697e-05, 8.21931026e-05, 8.20923087e-05, 2.55564004e-01,\n",
       "       8.46294861e-05, 8.48926647e-05, 1.73791428e-04, 7.04605191e-05,\n",
       "       2.03243835e-04, 7.41878684e-05, 6.21148502e-05, 8.23514929e-05,\n",
       "       8.16735337e-05, 5.80983469e-05, 8.95843768e-05, 6.56869452e-05,\n",
       "       1.12447677e-04, 6.70177033e-05, 4.36484406e-05, 8.15375897e-05,\n",
       "       2.64765695e-04, 1.02267681e-04, 1.74277069e-04, 1.31361783e-04,\n",
       "       3.96456748e-01, 6.67392087e-05, 8.48788675e-03, 6.84295301e-05,\n",
       "       1.10862915e-04, 1.25150487e-04, 6.15306490e-05, 9.41947728e-05,\n",
       "       6.22141233e-05, 9.95300143e-05, 1.64145531e-04, 1.85680939e-04,\n",
       "       7.72421699e-05, 5.99739651e-05, 1.05889376e-04, 8.89860821e-05,\n",
       "       7.13924237e-05, 1.01238686e-04, 1.13524395e-04, 7.29116146e-05,\n",
       "       6.89820226e-05, 6.19856291e-05, 1.36948831e-04, 6.95432173e-05,\n",
       "       1.06291984e-04, 6.01213396e-05, 6.73327304e-05, 6.73327304e-05,\n",
       "       6.22970110e-05, 2.58653890e-04, 2.58653890e-04, 2.58653890e-04,\n",
       "       2.58653890e-04, 2.58653890e-04, 2.58653890e-04, 2.58653890e-04,\n",
       "       2.58653890e-04, 2.58653890e-04, 2.58653890e-04, 2.58653890e-04,\n",
       "       2.58653890e-04, 2.58653890e-04, 2.58653890e-04, 8.48788675e-03,\n",
       "       0.00000000e+00, 0.00000000e+00, 1.37627547e-04, 6.38808197e-05,\n",
       "       7.34142377e-05, 9.37517834e-05, 7.58747119e-05, 1.07756423e-04,\n",
       "       7.88415055e-05, 1.20846657e-04, 4.30518630e-05, 1.13477283e-04,\n",
       "       8.93264005e-05, 6.72979877e-05, 9.99681870e-05, 6.16905527e-05,\n",
       "       4.88338810e-05, 6.72979877e-05, 8.62208908e-05, 6.63912360e-05,\n",
       "       7.87234167e-05, 4.84407392e-05, 6.05265886e-05, 8.97093269e-05,\n",
       "       5.31387814e-05, 6.19748389e-05, 7.99372647e-05, 6.17873884e-05,\n",
       "       1.67901060e-04, 8.12584985e-05, 6.83714316e-05, 8.08608602e-05,\n",
       "       9.89504770e-05, 1.29160981e-04, 7.83952637e-05, 6.42621890e-05,\n",
       "       8.36164545e-05, 4.30917062e-05, 7.30734755e-05, 5.58562934e-01,\n",
       "       1.64372032e-04, 2.91611505e-05, 5.96486570e-05, 6.97574360e-05,\n",
       "       6.31554722e-05, 8.79236977e-05, 1.50307780e-04, 7.67279707e-05,\n",
       "       8.14128434e-05, 1.50307780e-04, 4.63678552e-05, 3.29468239e-05,\n",
       "       9.86466621e-05, 1.61249161e-04, 6.58677091e-05, 7.10523527e-05,\n",
       "       2.88319774e-04, 6.54765317e-05, 2.88319774e-04, 1.13832575e-04,\n",
       "       8.68041025e-05, 6.95189519e-05, 1.09254717e-04, 8.14665473e-05,\n",
       "       5.98461629e-05, 1.03484628e-04, 6.36259065e-05, 6.09222734e-05,\n",
       "       6.46929766e-05, 6.05532041e-05, 1.13832575e-04, 8.08741606e-05,\n",
       "       1.10651898e-04, 6.18632621e-05, 2.88319774e-04, 1.49596177e-04,\n",
       "       7.04250851e-05, 7.93018771e-05, 9.79678734e-05, 9.61702244e-05,\n",
       "       6.35770921e-05, 8.28917618e-05, 7.21818433e-05, 7.07813888e-05,\n",
       "       5.42452253e-05, 8.90750889e-05, 6.48838322e-05, 1.29160981e-04,\n",
       "       5.41522968e-05, 7.93694198e-05, 8.77537168e-05, 5.80958585e-05,\n",
       "       7.07677318e-05, 9.09385053e-05, 7.36206857e-05, 8.48788675e-03,\n",
       "       6.09344352e-05, 7.92301653e-05, 6.07852744e-05, 6.64968393e-05,\n",
       "       7.95501401e-05, 1.50307780e-04, 8.31023790e-05, 6.46257104e-05,\n",
       "       9.95300143e-05, 5.65171686e-05, 8.48788675e-03, 1.32094370e-04,\n",
       "       6.22141233e-05, 1.50307780e-04, 5.54937251e-05, 1.10862915e-04,\n",
       "       1.14203343e-04, 7.55781293e-05, 7.40490286e-05, 7.40490286e-05,\n",
       "       1.07379521e-04, 1.55197908e-04, 1.32715038e-04, 8.50872675e-05,\n",
       "       1.41951721e-04, 7.55443398e-05, 1.03210325e-04, 7.12700494e-05,\n",
       "       8.65697220e-05, 8.50872675e-05, 1.65022167e-04, 1.07379521e-04,\n",
       "       1.32715038e-04, 8.73783210e-05, 1.75616398e-04, 1.02540173e-04,\n",
       "       0.00000000e+00, 0.00000000e+00, 0.00000000e+00, 0.00000000e+00,\n",
       "       0.00000000e+00, 0.00000000e+00, 0.00000000e+00, 0.00000000e+00,\n",
       "       0.00000000e+00, 0.00000000e+00, 0.00000000e+00, 0.00000000e+00],\n",
       "      dtype=float32)"
      ]
     },
     "execution_count": 49,
     "metadata": {},
     "output_type": "execute_result"
    }
   ],
   "source": [
    "sims[0]"
   ]
  },
  {
   "cell_type": "code",
   "execution_count": null,
   "metadata": {},
   "outputs": [],
   "source": []
  }
 ],
 "metadata": {
  "kernelspec": {
   "display_name": "Python 3",
   "language": "python",
   "name": "python3"
  },
  "language_info": {
   "codemirror_mode": {
    "name": "ipython",
    "version": 3
   },
   "file_extension": ".py",
   "mimetype": "text/x-python",
   "name": "python",
   "nbconvert_exporter": "python",
   "pygments_lexer": "ipython3",
   "version": "3.7.7"
  }
 },
 "nbformat": 4,
 "nbformat_minor": 2
}
