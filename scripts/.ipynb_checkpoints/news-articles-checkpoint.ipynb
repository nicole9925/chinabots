{
 "cells": [
  {
   "cell_type": "code",
   "execution_count": 25,
   "metadata": {},
   "outputs": [],
   "source": [
    "import requests as req\n",
    "from bs4 import BeautifulSoup\n",
    "import json\n",
    "import re\n",
    "import pandas as pd"
   ]
  },
  {
   "cell_type": "markdown",
   "metadata": {},
   "source": [
    "# SMCP"
   ]
  },
  {
   "cell_type": "code",
   "execution_count": 13,
   "metadata": {},
   "outputs": [],
   "source": [
    "url = \"http://web.archive.org/cdx/search/cdx?url=https://www.scmp.com/news/hong-kong&from=2019&to=2020\"\n",
    "urls = req.get(url).text"
   ]
  },
  {
   "cell_type": "code",
   "execution_count": 75,
   "metadata": {},
   "outputs": [],
   "source": [
    "# dates = re.findall(\"\\d{14}\", urls)[::10]\n",
    "# articles = {}\n",
    "# for i in dates:\n",
    "#     print(i)\n",
    "#     if int(i) > 20191203170616:\n",
    "#         break\n",
    "#     request = req.get(\"https://web.archive.org/web/\" + i + \"/https://www.scmp.com/news/hong-kong\")\n",
    "#     soup = BeautifulSoup(request.text)\n",
    "#     attempt = soup.findAll(\"h2\", {\"class\": \"node-title lvl_5-title\"})\n",
    "#     if len(attempt) == 0: \n",
    "#         attempt = soup.findAll(\"div\", {\"class\": \"article__title\"})\n",
    "#         if len(attempt) == 0:\n",
    "#             print(\"changed at \" + i)\n",
    "#             continue\n",
    "#     titles = []\n",
    "#     for title in attempt:\n",
    "#         titles.append(title.text)\n",
    "#     articles[i] = titles"
   ]
  },
  {
   "cell_type": "code",
   "execution_count": 73,
   "metadata": {},
   "outputs": [],
   "source": [
    "articles = pd.Series(articles).to_frame()\n",
    "articles.to_csv(\"../data/articles.csv\", header=True, index=False)"
   ]
  },
  {
   "cell_type": "code",
   "execution_count": 74,
   "metadata": {},
   "outputs": [
    {
     "data": {
      "text/html": [
       "<div>\n",
       "<style scoped>\n",
       "    .dataframe tbody tr th:only-of-type {\n",
       "        vertical-align: middle;\n",
       "    }\n",
       "\n",
       "    .dataframe tbody tr th {\n",
       "        vertical-align: top;\n",
       "    }\n",
       "\n",
       "    .dataframe thead th {\n",
       "        text-align: right;\n",
       "    }\n",
       "</style>\n",
       "<table border=\"1\" class=\"dataframe\">\n",
       "  <thead>\n",
       "    <tr style=\"text-align: right;\">\n",
       "      <th></th>\n",
       "      <th>0</th>\n",
       "    </tr>\n",
       "  </thead>\n",
       "  <tbody>\n",
       "    <tr>\n",
       "      <th>20190101004040</th>\n",
       "      <td>[Higher train fares, tunnel tolls, power bills...</td>\n",
       "    </tr>\n",
       "    <tr>\n",
       "      <th>20190105091102</th>\n",
       "      <td>[No-shows and early exits – rural chiefs’ dism...</td>\n",
       "    </tr>\n",
       "    <tr>\n",
       "      <th>20190109005615</th>\n",
       "      <td>[‘Vatican concern with China relations’ led to...</td>\n",
       "    </tr>\n",
       "    <tr>\n",
       "      <th>20190111130940</th>\n",
       "      <td>[Join us and demand age limit U-turn, pan-dems...</td>\n",
       "    </tr>\n",
       "    <tr>\n",
       "      <th>20190115045903</th>\n",
       "      <td>[Cambodian crackdown after Yingluck used passp...</td>\n",
       "    </tr>\n",
       "  </tbody>\n",
       "</table>\n",
       "</div>"
      ],
      "text/plain": [
       "                                                                0\n",
       "20190101004040  [Higher train fares, tunnel tolls, power bills...\n",
       "20190105091102  [No-shows and early exits – rural chiefs’ dism...\n",
       "20190109005615  [‘Vatican concern with China relations’ led to...\n",
       "20190111130940  [Join us and demand age limit U-turn, pan-dems...\n",
       "20190115045903  [Cambodian crackdown after Yingluck used passp..."
      ]
     },
     "execution_count": 74,
     "metadata": {},
     "output_type": "execute_result"
    }
   ],
   "source": [
    "articles.head()"
   ]
  },
  {
   "cell_type": "markdown",
   "metadata": {},
   "source": [
    "# WenWeiPo"
   ]
  },
  {
   "cell_type": "code",
   "execution_count": 38,
   "metadata": {},
   "outputs": [],
   "source": [
    "url = \"http://web.archive.org/cdx/search/cdx?url=http://news.wenweipo.com&from=2019&to=2020\"\n",
    "urls = req.get(url).text"
   ]
  },
  {
   "cell_type": "code",
   "execution_count": 40,
   "metadata": {},
   "outputs": [
    {
     "name": "stdout",
     "output_type": "stream",
     "text": [
      "changed at 20190118204731\n",
      "changed at 20190329035543\n",
      "changed at 20190329035546\n",
      "changed at 20190510002943\n",
      "changed at 20190614063908\n",
      "changed at 20190912192826\n",
      "changed at 20191104074510\n",
      "changed at 20191112082953\n",
      "changed at 20191112103653\n"
     ]
    }
   ],
   "source": [
    "dates = re.findall(\"\\d{14}\", urls)\n",
    "articles = {}\n",
    "for i in dates:\n",
    "    if int(i) > 20191203170616:\n",
    "        break\n",
    "    request = req.get(\"https://web.archive.org/web/\"+i+\"/http://news.wenweipo.com/list_news.php?cat=000IN&instantCat=hk\")\n",
    "    soup = BeautifulSoup(request.text)\n",
    "    attempt = soup.findAll(\"h2\")\n",
    "    if len(attempt) == 0: \n",
    "        print(\"changed at \" + i)\n",
    "        continue\n",
    "    titles = []\n",
    "    for title in attempt:\n",
    "        titles.append(title.text)\n",
    "    articles[i] = titles"
   ]
  },
  {
   "cell_type": "code",
   "execution_count": 42,
   "metadata": {},
   "outputs": [],
   "source": [
    "articles_df = pd.Series(articles).to_frame()\n",
    "# articles.to_csv(\"../data/wenweipo_articles.csv\", header=True, index=False)"
   ]
  },
  {
   "cell_type": "code",
   "execution_count": 47,
   "metadata": {},
   "outputs": [
    {
     "data": {
      "text/plain": [
       "['王志民會見內蒙古自治區主席布小林',\n",
       " '圖集|萬聖節「搞鬼」 玩具街變「猛鬼街」',\n",
       " '回應馬凱簽證事件 林鄭：國際間沒有絕對自由',\n",
       " '林鄭：維港暢泳亦可檢測「淨化海港計劃」成果',\n",
       " '個稅專項附加扣除優惠 在內地工作港人獲益最多',\n",
       " '林鄭月娥哀悼澳門中聯辦主任鄭曉松逝世',\n",
       " '公共圖書館充電須申請 議員轟多此一舉',\n",
       " '圖集｜維港渡海泳 3600泳手參賽',\n",
       " '澳門中聯辦主任鄭曉松墜樓身亡',\n",
       " '查看更多']"
      ]
     },
     "execution_count": 47,
     "metadata": {},
     "output_type": "execute_result"
    }
   ],
   "source": [
    "articles_df.iloc[2].item()"
   ]
  },
  {
   "cell_type": "code",
   "execution_count": 46,
   "metadata": {},
   "outputs": [
    {
     "data": {
      "text/html": [
       "<div>\n",
       "<style scoped>\n",
       "    .dataframe tbody tr th:only-of-type {\n",
       "        vertical-align: middle;\n",
       "    }\n",
       "\n",
       "    .dataframe tbody tr th {\n",
       "        vertical-align: top;\n",
       "    }\n",
       "\n",
       "    .dataframe thead th {\n",
       "        text-align: right;\n",
       "    }\n",
       "</style>\n",
       "<table border=\"1\" class=\"dataframe\">\n",
       "  <thead>\n",
       "    <tr style=\"text-align: right;\">\n",
       "      <th></th>\n",
       "      <th>0</th>\n",
       "    </tr>\n",
       "  </thead>\n",
       "  <tbody>\n",
       "    <tr>\n",
       "      <th>20190111135917</th>\n",
       "      <td>[王志民會見內蒙古自治區主席布小林, 圖集|萬聖節「搞鬼」 玩具街變「猛鬼街」, 回應馬凱簽...</td>\n",
       "    </tr>\n",
       "    <tr>\n",
       "      <th>20190208152105</th>\n",
       "      <td>[王志民會見內蒙古自治區主席布小林, 圖集|萬聖節「搞鬼」 玩具街變「猛鬼街」, 回應馬凱簽...</td>\n",
       "    </tr>\n",
       "    <tr>\n",
       "      <th>20190215220819</th>\n",
       "      <td>[王志民會見內蒙古自治區主席布小林, 圖集|萬聖節「搞鬼」 玩具街變「猛鬼街」, 回應馬凱簽...</td>\n",
       "    </tr>\n",
       "    <tr>\n",
       "      <th>20190222165926</th>\n",
       "      <td>[王志民會見內蒙古自治區主席布小林, 圖集|萬聖節「搞鬼」 玩具街變「猛鬼街」, 回應馬凱簽...</td>\n",
       "    </tr>\n",
       "    <tr>\n",
       "      <th>20190301170130</th>\n",
       "      <td>[王志民會見內蒙古自治區主席布小林, 圖集|萬聖節「搞鬼」 玩具街變「猛鬼街」, 回應馬凱簽...</td>\n",
       "    </tr>\n",
       "    <tr>\n",
       "      <th>20190308121823</th>\n",
       "      <td>[王志民會見內蒙古自治區主席布小林, 圖集|萬聖節「搞鬼」 玩具街變「猛鬼街」, 回應馬凱簽...</td>\n",
       "    </tr>\n",
       "    <tr>\n",
       "      <th>20190329035552</th>\n",
       "      <td>[王志民會見內蒙古自治區主席布小林, 圖集|萬聖節「搞鬼」 玩具街變「猛鬼街」, 回應馬凱簽...</td>\n",
       "    </tr>\n",
       "    <tr>\n",
       "      <th>20190329035554</th>\n",
       "      <td>[王志民會見內蒙古自治區主席布小林, 圖集|萬聖節「搞鬼」 玩具街變「猛鬼街」, 回應馬凱簽...</td>\n",
       "    </tr>\n",
       "    <tr>\n",
       "      <th>20190330224109</th>\n",
       "      <td>[王志民會見內蒙古自治區主席布小林, 圖集|萬聖節「搞鬼」 玩具街變「猛鬼街」, 回應馬凱簽...</td>\n",
       "    </tr>\n",
       "    <tr>\n",
       "      <th>20190417020640</th>\n",
       "      <td>[民建聯促增建公屋 劉國勳：港府應盡快引用條例收地 , 調查指暴力衝突影響4成港人自身行業 ...</td>\n",
       "    </tr>\n",
       "    <tr>\n",
       "      <th>20190614023947</th>\n",
       "      <td>[民建聯促增建公屋 劉國勳：港府應盡快引用條例收地 , 調查指暴力衝突影響4成港人自身行業 ...</td>\n",
       "    </tr>\n",
       "    <tr>\n",
       "      <th>20190729010147</th>\n",
       "      <td>[民建聯促增建公屋 劉國勳：港府應盡快引用條例收地 , 調查指暴力衝突影響4成港人自身行業 ...</td>\n",
       "    </tr>\n",
       "    <tr>\n",
       "      <th>20190911061953</th>\n",
       "      <td>[民建聯促增建公屋 劉國勳：港府應盡快引用條例收地 , 調查指暴力衝突影響4成港人自身行業 ...</td>\n",
       "    </tr>\n",
       "    <tr>\n",
       "      <th>20191004064158</th>\n",
       "      <td>[「光頭警長」會面央視主播 強調國家是靠山 , 港鐵：125個車站遭破壞 威脅乘客安全 , ...</td>\n",
       "    </tr>\n",
       "    <tr>\n",
       "      <th>20191005070931</th>\n",
       "      <td>[「光頭警長」會面央視主播 強調國家是靠山 , 港鐵：125個車站遭破壞 威脅乘客安全 , ...</td>\n",
       "    </tr>\n",
       "    <tr>\n",
       "      <th>20191013041113</th>\n",
       "      <td>[「光頭警長」會面央視主播 強調國家是靠山 , 港鐵：125個車站遭破壞 威脅乘客安全 , ...</td>\n",
       "    </tr>\n",
       "  </tbody>\n",
       "</table>\n",
       "</div>"
      ],
      "text/plain": [
       "                                                                0\n",
       "20190111135917  [王志民會見內蒙古自治區主席布小林, 圖集|萬聖節「搞鬼」 玩具街變「猛鬼街」, 回應馬凱簽...\n",
       "20190208152105  [王志民會見內蒙古自治區主席布小林, 圖集|萬聖節「搞鬼」 玩具街變「猛鬼街」, 回應馬凱簽...\n",
       "20190215220819  [王志民會見內蒙古自治區主席布小林, 圖集|萬聖節「搞鬼」 玩具街變「猛鬼街」, 回應馬凱簽...\n",
       "20190222165926  [王志民會見內蒙古自治區主席布小林, 圖集|萬聖節「搞鬼」 玩具街變「猛鬼街」, 回應馬凱簽...\n",
       "20190301170130  [王志民會見內蒙古自治區主席布小林, 圖集|萬聖節「搞鬼」 玩具街變「猛鬼街」, 回應馬凱簽...\n",
       "20190308121823  [王志民會見內蒙古自治區主席布小林, 圖集|萬聖節「搞鬼」 玩具街變「猛鬼街」, 回應馬凱簽...\n",
       "20190329035552  [王志民會見內蒙古自治區主席布小林, 圖集|萬聖節「搞鬼」 玩具街變「猛鬼街」, 回應馬凱簽...\n",
       "20190329035554  [王志民會見內蒙古自治區主席布小林, 圖集|萬聖節「搞鬼」 玩具街變「猛鬼街」, 回應馬凱簽...\n",
       "20190330224109  [王志民會見內蒙古自治區主席布小林, 圖集|萬聖節「搞鬼」 玩具街變「猛鬼街」, 回應馬凱簽...\n",
       "20190417020640  [民建聯促增建公屋 劉國勳：港府應盡快引用條例收地 , 調查指暴力衝突影響4成港人自身行業 ...\n",
       "20190614023947  [民建聯促增建公屋 劉國勳：港府應盡快引用條例收地 , 調查指暴力衝突影響4成港人自身行業 ...\n",
       "20190729010147  [民建聯促增建公屋 劉國勳：港府應盡快引用條例收地 , 調查指暴力衝突影響4成港人自身行業 ...\n",
       "20190911061953  [民建聯促增建公屋 劉國勳：港府應盡快引用條例收地 , 調查指暴力衝突影響4成港人自身行業 ...\n",
       "20191004064158  [「光頭警長」會面央視主播 強調國家是靠山 , 港鐵：125個車站遭破壞 威脅乘客安全 , ...\n",
       "20191005070931  [「光頭警長」會面央視主播 強調國家是靠山 , 港鐵：125個車站遭破壞 威脅乘客安全 , ...\n",
       "20191013041113  [「光頭警長」會面央視主播 強調國家是靠山 , 港鐵：125個車站遭破壞 威脅乘客安全 , ..."
      ]
     },
     "execution_count": 46,
     "metadata": {},
     "output_type": "execute_result"
    }
   ],
   "source": [
    "https://web.archive.org/web/20190222165926/http://news.wenweipo.com/list_news.php?cat=000IN&instantCat=hk"
   ]
  },
  {
   "cell_type": "code",
   "execution_count": 110,
   "metadata": {},
   "outputs": [],
   "source": [
    "request = req.get(\"https://web.archive.org/web/\" + dates[0] + \"/https://www.scmp.com/news/hong-kong\")\n",
    "soup = BeautifulSoup(request.text)\n",
    "attempt = soup.findAll(\"h2\", {\"class\": \"node-title\"})"
   ]
  },
  {
   "cell_type": "code",
   "execution_count": 111,
   "metadata": {},
   "outputs": [
    {
     "data": {
      "text/plain": [
       "[<h2 class=\"node-title lvl_5-title\"><a href=\"/web/20190101004040/https://www.scmp.com/news/hong-kong/society/article/2180182/hong-kong-sees-new-year-and-along-it-higher-train-fares\" title=\"Higher train fares, tunnel tolls, power bills and parking fees – happy 2019!\">Higher train fares, tunnel tolls, power bills and parking fees – happy 2019!</a></h2>,\n",
       " <h2 class=\"node-title lvl_2-title\"><a href=\"/web/20190101004040/https://www.scmp.com/news/hong-kong/politics/article/2180056/embattled-rail-boss-beleaguered-justice-minister-rejected\" title=\"A look at some of the people who made the news in Hong Kong this year\">A look at some of the people who made the news in Hong Kong this year</a></h2>,\n",
       " <h2 class=\"node-title lvl_1-title\"><a href=\"/web/20190101004040/https://www.scmp.com/week-asia/society/article/2178913/last-christmas-i-gave-you-my-body-hong-kongs-professional\" title=\"Last Christmas, I gave you my body: Hong Kong’s professional partners\">Last Christmas, I gave you my body: Hong Kong’s professional partners</a></h2>,\n",
       " <h2 class=\"node-title lvl_1-title\"><a href=\"/web/20190101004040/https://www.scmp.com/news/hong-kong/hong-kong-economy/article/2179233/hong-kong-whizz-kid-who-wants-revolutionise-way-we\" title=\"The whizz kid who wants to revolutionise cryptocurrency\">The whizz kid who wants to revolutionise cryptocurrency</a></h2>]"
      ]
     },
     "execution_count": 111,
     "metadata": {},
     "output_type": "execute_result"
    }
   ],
   "source": [
    "attempt"
   ]
  },
  {
   "cell_type": "code",
   "execution_count": null,
   "metadata": {},
   "outputs": [],
   "source": []
  }
 ],
 "metadata": {
  "kernelspec": {
   "display_name": "Python 3",
   "language": "python",
   "name": "python3"
  },
  "language_info": {
   "codemirror_mode": {
    "name": "ipython",
    "version": 3
   },
   "file_extension": ".py",
   "mimetype": "text/x-python",
   "name": "python",
   "nbconvert_exporter": "python",
   "pygments_lexer": "ipython3",
   "version": "3.8.5"
  }
 },
 "nbformat": 4,
 "nbformat_minor": 4
}
