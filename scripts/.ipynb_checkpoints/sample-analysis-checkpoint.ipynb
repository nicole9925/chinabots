{
 "cells": [
  {
   "cell_type": "markdown",
   "metadata": {},
   "source": [
    "# Sample Analysis\n",
    "In this dataset, we will be taking a sample from our full dataset to determine common twitter-bot trends."
   ]
  },
  {
   "cell_type": "code",
   "execution_count": 1,
   "metadata": {},
   "outputs": [],
   "source": [
    "import pandas as pd\n",
    "import plotly.express as px\n",
    "import gensim\n",
    "from collections import defaultdict\n",
    "import numpy as np\n",
    "import matplotlib.pyplot as plt\n",
    "from sklearn.decomposition import PCA\n",
    "from sklearn.manifold import TSNE\n",
    "import hanzidentifier\n",
    "import seaborn as sns"
   ]
  },
  {
   "cell_type": "markdown",
   "metadata": {},
   "source": [
    "## Load in Data"
   ]
  },
  {
   "cell_type": "code",
   "execution_count": 34,
   "metadata": {},
   "outputs": [
    {
     "name": "stderr",
     "output_type": "stream",
     "text": [
      "/Users/nicole/opt/anaconda3/lib/python3.8/site-packages/IPython/core/interactiveshell.py:3071: DtypeWarning: Columns (0,1,2,3,4,5,6,9,10,11,12,13,14,15,16,17,18,19,21,22,27,28,29,30) have mixed types.Specify dtype option on import or set low_memory=False.\n",
      "  has_raised = await self.run_ast_nodes(code_ast.body, cell_name,\n"
     ]
    }
   ],
   "source": [
    "tweets = pd.read_csv(\"../data/sample_tweets.csv\")\n",
    "\n",
    "# For some reason loading the dataframe caused duplicates\n",
    "tweets = tweets.drop_duplicates()\n",
    "tweets[\"tweet_time\"] = pd.to_datetime(tweets[\"tweet_time\"], errors=\"coerce\")"
   ]
  },
  {
   "cell_type": "code",
   "execution_count": 35,
   "metadata": {},
   "outputs": [],
   "source": [
    "users = pd.read_csv(\"../data/sample_users.csv\")"
   ]
  },
  {
   "cell_type": "code",
   "execution_count": 36,
   "metadata": {},
   "outputs": [
    {
     "data": {
      "text/html": [
       "<div>\n",
       "<style scoped>\n",
       "    .dataframe tbody tr th:only-of-type {\n",
       "        vertical-align: middle;\n",
       "    }\n",
       "\n",
       "    .dataframe tbody tr th {\n",
       "        vertical-align: top;\n",
       "    }\n",
       "\n",
       "    .dataframe thead th {\n",
       "        text-align: right;\n",
       "    }\n",
       "</style>\n",
       "<table border=\"1\" class=\"dataframe\">\n",
       "  <thead>\n",
       "    <tr style=\"text-align: right;\">\n",
       "      <th></th>\n",
       "      <th>tweetid</th>\n",
       "      <th>userid</th>\n",
       "      <th>user_display_name</th>\n",
       "      <th>user_screen_name</th>\n",
       "      <th>user_reported_location</th>\n",
       "      <th>user_profile_description</th>\n",
       "      <th>user_profile_url</th>\n",
       "      <th>follower_count</th>\n",
       "      <th>following_count</th>\n",
       "      <th>account_creation_date</th>\n",
       "      <th>...</th>\n",
       "      <th>latitude</th>\n",
       "      <th>longitude</th>\n",
       "      <th>quote_count</th>\n",
       "      <th>reply_count</th>\n",
       "      <th>like_count</th>\n",
       "      <th>retweet_count</th>\n",
       "      <th>hashtags</th>\n",
       "      <th>urls</th>\n",
       "      <th>user_mentions</th>\n",
       "      <th>poll_choices</th>\n",
       "    </tr>\n",
       "  </thead>\n",
       "  <tbody>\n",
       "    <tr>\n",
       "      <th>0</th>\n",
       "      <td>979191057945583616</td>\n",
       "      <td>aPUSrOvMbJCmMI6WEylfaJOH8HUW3C1peP4NwOoaw=</td>\n",
       "      <td>aPUSrOvMbJCmMI6WEylfaJOH8HUW3C1peP4NwOoaw=</td>\n",
       "      <td>aPUSrOvMbJCmMI6WEylfaJOH8HUW3C1peP4NwOoaw=</td>\n",
       "      <td>NaN</td>\n",
       "      <td>NaN</td>\n",
       "      <td>NaN</td>\n",
       "      <td>0.0</td>\n",
       "      <td>34.0</td>\n",
       "      <td>2017-08-18</td>\n",
       "      <td>...</td>\n",
       "      <td>absent</td>\n",
       "      <td>absent</td>\n",
       "      <td>0.0</td>\n",
       "      <td>0.0</td>\n",
       "      <td>0.0</td>\n",
       "      <td>0.0</td>\n",
       "      <td>['砸锅', '郭文贵']</td>\n",
       "      <td>['https://www.youtube.com/watch?v=4LhVfr9tMRg']</td>\n",
       "      <td>[]</td>\n",
       "      <td>NaN</td>\n",
       "    </tr>\n",
       "    <tr>\n",
       "      <th>1</th>\n",
       "      <td>974111659252858880</td>\n",
       "      <td>aPUSrOvMbJCmMI6WEylfaJOH8HUW3C1peP4NwOoaw=</td>\n",
       "      <td>aPUSrOvMbJCmMI6WEylfaJOH8HUW3C1peP4NwOoaw=</td>\n",
       "      <td>aPUSrOvMbJCmMI6WEylfaJOH8HUW3C1peP4NwOoaw=</td>\n",
       "      <td>NaN</td>\n",
       "      <td>NaN</td>\n",
       "      <td>NaN</td>\n",
       "      <td>0.0</td>\n",
       "      <td>34.0</td>\n",
       "      <td>2017-08-18</td>\n",
       "      <td>...</td>\n",
       "      <td>absent</td>\n",
       "      <td>absent</td>\n",
       "      <td>0.0</td>\n",
       "      <td>0.0</td>\n",
       "      <td>0.0</td>\n",
       "      <td>0.0</td>\n",
       "      <td>['郭文贵']</td>\n",
       "      <td>['https://www.youtube.com/watch?v=hrrYA2JWH_Q']</td>\n",
       "      <td>[]</td>\n",
       "      <td>NaN</td>\n",
       "    </tr>\n",
       "    <tr>\n",
       "      <th>2</th>\n",
       "      <td>978115349932490752</td>\n",
       "      <td>aPUSrOvMbJCmMI6WEylfaJOH8HUW3C1peP4NwOoaw=</td>\n",
       "      <td>aPUSrOvMbJCmMI6WEylfaJOH8HUW3C1peP4NwOoaw=</td>\n",
       "      <td>aPUSrOvMbJCmMI6WEylfaJOH8HUW3C1peP4NwOoaw=</td>\n",
       "      <td>NaN</td>\n",
       "      <td>NaN</td>\n",
       "      <td>NaN</td>\n",
       "      <td>0.0</td>\n",
       "      <td>34.0</td>\n",
       "      <td>2017-08-18</td>\n",
       "      <td>...</td>\n",
       "      <td>absent</td>\n",
       "      <td>absent</td>\n",
       "      <td>0.0</td>\n",
       "      <td>0.0</td>\n",
       "      <td>0.0</td>\n",
       "      <td>0.0</td>\n",
       "      <td>['砸锅', '郭文贵']</td>\n",
       "      <td>['https://www.youtube.com/watch?v=jeiDFjiazdE']</td>\n",
       "      <td>[]</td>\n",
       "      <td>NaN</td>\n",
       "    </tr>\n",
       "    <tr>\n",
       "      <th>3</th>\n",
       "      <td>961427222350319616</td>\n",
       "      <td>aPUSrOvMbJCmMI6WEylfaJOH8HUW3C1peP4NwOoaw=</td>\n",
       "      <td>aPUSrOvMbJCmMI6WEylfaJOH8HUW3C1peP4NwOoaw=</td>\n",
       "      <td>aPUSrOvMbJCmMI6WEylfaJOH8HUW3C1peP4NwOoaw=</td>\n",
       "      <td>NaN</td>\n",
       "      <td>NaN</td>\n",
       "      <td>NaN</td>\n",
       "      <td>0.0</td>\n",
       "      <td>34.0</td>\n",
       "      <td>2017-08-18</td>\n",
       "      <td>...</td>\n",
       "      <td>absent</td>\n",
       "      <td>absent</td>\n",
       "      <td>0.0</td>\n",
       "      <td>0.0</td>\n",
       "      <td>0.0</td>\n",
       "      <td>0.0</td>\n",
       "      <td>['桂民海']</td>\n",
       "      <td>['https://www.youtube.com/watch?v=11hc3DqQyaw']</td>\n",
       "      <td>[]</td>\n",
       "      <td>NaN</td>\n",
       "    </tr>\n",
       "    <tr>\n",
       "      <th>4</th>\n",
       "      <td>976645317079609350</td>\n",
       "      <td>aPUSrOvMbJCmMI6WEylfaJOH8HUW3C1peP4NwOoaw=</td>\n",
       "      <td>aPUSrOvMbJCmMI6WEylfaJOH8HUW3C1peP4NwOoaw=</td>\n",
       "      <td>aPUSrOvMbJCmMI6WEylfaJOH8HUW3C1peP4NwOoaw=</td>\n",
       "      <td>NaN</td>\n",
       "      <td>NaN</td>\n",
       "      <td>NaN</td>\n",
       "      <td>0.0</td>\n",
       "      <td>34.0</td>\n",
       "      <td>2017-08-18</td>\n",
       "      <td>...</td>\n",
       "      <td>absent</td>\n",
       "      <td>absent</td>\n",
       "      <td>0.0</td>\n",
       "      <td>0.0</td>\n",
       "      <td>0.0</td>\n",
       "      <td>0.0</td>\n",
       "      <td>['砸锅', '郭文贵']</td>\n",
       "      <td>['https://www.youtube.com/watch?v=8y4Klfq69WI']</td>\n",
       "      <td>[]</td>\n",
       "      <td>NaN</td>\n",
       "    </tr>\n",
       "  </tbody>\n",
       "</table>\n",
       "<p>5 rows × 31 columns</p>\n",
       "</div>"
      ],
      "text/plain": [
       "              tweetid                                      userid  \\\n",
       "0  979191057945583616  aPUSrOvMbJCmMI6WEylfaJOH8HUW3C1peP4NwOoaw=   \n",
       "1  974111659252858880  aPUSrOvMbJCmMI6WEylfaJOH8HUW3C1peP4NwOoaw=   \n",
       "2  978115349932490752  aPUSrOvMbJCmMI6WEylfaJOH8HUW3C1peP4NwOoaw=   \n",
       "3  961427222350319616  aPUSrOvMbJCmMI6WEylfaJOH8HUW3C1peP4NwOoaw=   \n",
       "4  976645317079609350  aPUSrOvMbJCmMI6WEylfaJOH8HUW3C1peP4NwOoaw=   \n",
       "\n",
       "                            user_display_name  \\\n",
       "0  aPUSrOvMbJCmMI6WEylfaJOH8HUW3C1peP4NwOoaw=   \n",
       "1  aPUSrOvMbJCmMI6WEylfaJOH8HUW3C1peP4NwOoaw=   \n",
       "2  aPUSrOvMbJCmMI6WEylfaJOH8HUW3C1peP4NwOoaw=   \n",
       "3  aPUSrOvMbJCmMI6WEylfaJOH8HUW3C1peP4NwOoaw=   \n",
       "4  aPUSrOvMbJCmMI6WEylfaJOH8HUW3C1peP4NwOoaw=   \n",
       "\n",
       "                             user_screen_name user_reported_location  \\\n",
       "0  aPUSrOvMbJCmMI6WEylfaJOH8HUW3C1peP4NwOoaw=                    NaN   \n",
       "1  aPUSrOvMbJCmMI6WEylfaJOH8HUW3C1peP4NwOoaw=                    NaN   \n",
       "2  aPUSrOvMbJCmMI6WEylfaJOH8HUW3C1peP4NwOoaw=                    NaN   \n",
       "3  aPUSrOvMbJCmMI6WEylfaJOH8HUW3C1peP4NwOoaw=                    NaN   \n",
       "4  aPUSrOvMbJCmMI6WEylfaJOH8HUW3C1peP4NwOoaw=                    NaN   \n",
       "\n",
       "  user_profile_description user_profile_url  follower_count  following_count  \\\n",
       "0                      NaN              NaN             0.0             34.0   \n",
       "1                      NaN              NaN             0.0             34.0   \n",
       "2                      NaN              NaN             0.0             34.0   \n",
       "3                      NaN              NaN             0.0             34.0   \n",
       "4                      NaN              NaN             0.0             34.0   \n",
       "\n",
       "  account_creation_date  ... latitude longitude quote_count reply_count  \\\n",
       "0            2017-08-18  ...   absent    absent         0.0         0.0   \n",
       "1            2017-08-18  ...   absent    absent         0.0         0.0   \n",
       "2            2017-08-18  ...   absent    absent         0.0         0.0   \n",
       "3            2017-08-18  ...   absent    absent         0.0         0.0   \n",
       "4            2017-08-18  ...   absent    absent         0.0         0.0   \n",
       "\n",
       "  like_count retweet_count       hashtags  \\\n",
       "0        0.0           0.0  ['砸锅', '郭文贵']   \n",
       "1        0.0           0.0        ['郭文贵']   \n",
       "2        0.0           0.0  ['砸锅', '郭文贵']   \n",
       "3        0.0           0.0        ['桂民海']   \n",
       "4        0.0           0.0  ['砸锅', '郭文贵']   \n",
       "\n",
       "                                              urls user_mentions poll_choices  \n",
       "0  ['https://www.youtube.com/watch?v=4LhVfr9tMRg']            []          NaN  \n",
       "1  ['https://www.youtube.com/watch?v=hrrYA2JWH_Q']            []          NaN  \n",
       "2  ['https://www.youtube.com/watch?v=jeiDFjiazdE']            []          NaN  \n",
       "3  ['https://www.youtube.com/watch?v=11hc3DqQyaw']            []          NaN  \n",
       "4  ['https://www.youtube.com/watch?v=8y4Klfq69WI']            []          NaN  \n",
       "\n",
       "[5 rows x 31 columns]"
      ]
     },
     "execution_count": 36,
     "metadata": {},
     "output_type": "execute_result"
    }
   ],
   "source": [
    "tweets.head()"
   ]
  },
  {
   "cell_type": "markdown",
   "metadata": {},
   "source": [
    "## Locate Language Change (to Chinese)"
   ]
  },
  {
   "cell_type": "code",
   "execution_count": 18,
   "metadata": {},
   "outputs": [],
   "source": [
    "def find_first_chinese_tweet_pd(user, user_metadata):\n",
    "    \"\"\"\n",
    "    Takes in the user and tweets dataframes and returns information on users language changes if they switched to Chinese\n",
    "    \"\"\"\n",
    "    user = user.loc[user[\"user_display_name\"] == user_metadata[\"user_display_name\"]]\n",
    "    user[\"chinese\"] = user[\"tweet_text\"].apply(lambda x: False if type(x) == float else hanzidentifier.has_chinese(x))\n",
    "    user = (user.loc[~user[\"tweet_time\"].isnull()])\n",
    "    chinese_df = (user.groupby(\"chinese\")[\"tweet_time\"]\n",
    "                  .apply(list)\n",
    "                  .to_frame()\n",
    "                  .reset_index())\n",
    "    falses = chinese_df.loc[chinese_df[\"chinese\"] == False]\n",
    "    trues = chinese_df.loc[(chinese_df[\"chinese\"] == True)]\n",
    "    if (falses.shape[0] == 0) or (trues.shape[0] == 0):\n",
    "        return None\n",
    "    \n",
    "    non_chinese = falses[\"tweet_time\"].item()\n",
    "    non_chinese.sort(reverse=False)\n",
    "    num_non = (len(non_chinese))\n",
    "    \n",
    "    chinese = trues[\"tweet_time\"].item()\n",
    "    chinese.sort(reverse=False)\n",
    "    num_chinese = (len(chinese))\n",
    "    \n",
    "#     account_creation = user_metadata[\"account_creation_date\"].iloc[0]\n",
    "    \n",
    "    if non_chinese[0] > chinese[0]:\n",
    "        return None\n",
    "    \n",
    "#     return {\"first_chinese\": chinese[0],  \"last_chinese\": chinese[-1], \"num_chinese\": num_chinese, \"first_non_chinese\": non_chinese[-1], \"last_non_chinese\": non_chinese[0], \"num_non_chinese\": num_non}\n",
    "    print(chinese[0])\n",
    "    return chinese[0]\n"
   ]
  },
  {
   "cell_type": "code",
   "execution_count": 13,
   "metadata": {},
   "outputs": [],
   "source": [
    "#first_chinese = users.apply(lambda x: find_first_chinese_tweet_pd(tweets, x), axis=1)\n",
    "#users[\"chinese\"] = first_chinese"
   ]
  },
  {
   "cell_type": "code",
   "execution_count": 3,
   "metadata": {},
   "outputs": [],
   "source": [
    "users = pd.read_csv(\"../data/sample_first_chinese.csv\")\n",
    "first_chinese = users[\"chinese\"]"
   ]
  },
  {
   "cell_type": "code",
   "execution_count": 17,
   "metadata": {},
   "outputs": [],
   "source": [
    "repeat = 10000\n",
    "means = []\n",
    "for i in range(repeat):\n",
    "    iterations = 500\n",
    "    sample = []\n",
    "    i=0\n",
    "    changed_acc = first_chinese.loc[~first_chinese.isnull()]\n",
    "    random = []\n",
    "    while i < iterations:\n",
    "        random.append(changed_acc.sample(1).item())\n",
    "        i+=1\n",
    "    mean = pd.to_datetime(pd.Series(random)).mean()\n",
    "    means.append(mean)"
   ]
  },
  {
   "cell_type": "code",
   "execution_count": 22,
   "metadata": {},
   "outputs": [
    {
     "name": "stderr",
     "output_type": "stream",
     "text": [
      "<ipython-input-22-8fe42bbf46d7>:3: MatplotlibDeprecationWarning: Adding an axes using the same arguments as a previous axes currently reuses the earlier instance.  In a future version, a new instance will always be created and returned.  Meanwhile, this warning can be suppressed, and the future behavior ensured, by passing a unique label to each axes instance.\n",
      "  ax1 = plt.axes()\n"
     ]
    },
    {
     "data": {
      "image/png": "[encoded data removed]",
      "text/plain": [
       "<Figure size 432x288 with 1 Axes>"
      ]
     },
     "metadata": {
      "needs_background": "light"
     },
     "output_type": "display_data"
    }
   ],
   "source": [
    "chinese_df = pd.DataFrame({\"date\": means})\n",
    "chinese_df.groupby([chinese_df[\"date\"].dt.month, chinese_df[\"date\"].dt.year, chinese_df[\"date\"].dt.day]).count().plot(kind=\"bar\")\n",
    "ax1 = plt.axes()\n",
    "x_axis = ax1.axes.get_xaxis()\n",
    "x_axis.set_visible(False)"
   ]
  },
  {
   "cell_type": "code",
   "execution_count": 34,
   "metadata": {},
   "outputs": [
    {
     "data": {
      "text/plain": [
       "261"
      ]
     },
     "execution_count": 34,
     "metadata": {},
     "output_type": "execute_result"
    }
   ],
   "source": [
    "# Number of accounts that switched to Chinese\n",
    "(~first_chinese.isnull()).sum()"
   ]
  },
  {
   "cell_type": "code",
   "execution_count": 30,
   "metadata": {},
   "outputs": [
    {
     "data": {
      "text/plain": [
       "<matplotlib.axes._subplots.AxesSubplot at 0x7fc85666ad30>"
      ]
     },
     "execution_count": 30,
     "metadata": {},
     "output_type": "execute_result"
    },
    {
     "data": {
      "image/png": "[encoded data removed]",
      "text/plain": [
       "<Figure size 432x288 with 1 Axes>"
      ]
     },
     "metadata": {
      "needs_background": "light"
     },
     "output_type": "display_data"
    }
   ],
   "source": [
    "changed_acc = first_chinese.loc[~first_chinese.isnull()]\n",
    "changed_acc = pd.DataFrame({\"date\": changed_acc})\n",
    "changed_acc[\"date\"] = pd.to_datetime(changed_acc[\"date\"])\n",
    "changed_acc.groupby([changed_acc[\"date\"].dt.month, chinese_df[\"date\"].dt.year]).count().plot(kind=\"bar\")"
   ]
  },
  {
   "cell_type": "code",
   "execution_count": 59,
   "metadata": {},
   "outputs": [
    {
     "data": {
      "text/plain": [
       "<matplotlib.axes._subplots.AxesSubplot at 0x7fc762848eb0>"
      ]
     },
     "execution_count": 59,
     "metadata": {},
     "output_type": "execute_result"
    },
    {
     "name": "stderr",
     "output_type": "stream",
     "text": [
      "/Users/nicole/opt/anaconda3/lib/python3.8/site-packages/matplotlib/backends/backend_agg.py:214: RuntimeWarning: Glyph 20013 missing from current font.\n",
      "  font.set_text(s, 0.0, flags=flags)\n",
      "/Users/nicole/opt/anaconda3/lib/python3.8/site-packages/matplotlib/backends/backend_agg.py:214: RuntimeWarning: Glyph 21326 missing from current font.\n",
      "  font.set_text(s, 0.0, flags=flags)\n",
      "/Users/nicole/opt/anaconda3/lib/python3.8/site-packages/matplotlib/backends/backend_agg.py:214: RuntimeWarning: Glyph 20154 missing from current font.\n",
      "  font.set_text(s, 0.0, flags=flags)\n",
      "/Users/nicole/opt/anaconda3/lib/python3.8/site-packages/matplotlib/backends/backend_agg.py:214: RuntimeWarning: Glyph 27665 missing from current font.\n",
      "  font.set_text(s, 0.0, flags=flags)\n",
      "/Users/nicole/opt/anaconda3/lib/python3.8/site-packages/matplotlib/backends/backend_agg.py:214: RuntimeWarning: Glyph 20849 missing from current font.\n",
      "  font.set_text(s, 0.0, flags=flags)\n",
      "/Users/nicole/opt/anaconda3/lib/python3.8/site-packages/matplotlib/backends/backend_agg.py:214: RuntimeWarning: Glyph 21644 missing from current font.\n",
      "  font.set_text(s, 0.0, flags=flags)\n",
      "/Users/nicole/opt/anaconda3/lib/python3.8/site-packages/matplotlib/backends/backend_agg.py:214: RuntimeWarning: Glyph 22269 missing from current font.\n",
      "  font.set_text(s, 0.0, flags=flags)\n",
      "/Users/nicole/opt/anaconda3/lib/python3.8/site-packages/matplotlib/backends/backend_agg.py:183: RuntimeWarning: Glyph 20013 missing from current font.\n",
      "  font.set_text(s, 0, flags=flags)\n",
      "/Users/nicole/opt/anaconda3/lib/python3.8/site-packages/matplotlib/backends/backend_agg.py:183: RuntimeWarning: Glyph 21326 missing from current font.\n",
      "  font.set_text(s, 0, flags=flags)\n",
      "/Users/nicole/opt/anaconda3/lib/python3.8/site-packages/matplotlib/backends/backend_agg.py:183: RuntimeWarning: Glyph 20154 missing from current font.\n",
      "  font.set_text(s, 0, flags=flags)\n",
      "/Users/nicole/opt/anaconda3/lib/python3.8/site-packages/matplotlib/backends/backend_agg.py:183: RuntimeWarning: Glyph 27665 missing from current font.\n",
      "  font.set_text(s, 0, flags=flags)\n",
      "/Users/nicole/opt/anaconda3/lib/python3.8/site-packages/matplotlib/backends/backend_agg.py:183: RuntimeWarning: Glyph 20849 missing from current font.\n",
      "  font.set_text(s, 0, flags=flags)\n",
      "/Users/nicole/opt/anaconda3/lib/python3.8/site-packages/matplotlib/backends/backend_agg.py:183: RuntimeWarning: Glyph 21644 missing from current font.\n",
      "  font.set_text(s, 0, flags=flags)\n",
      "/Users/nicole/opt/anaconda3/lib/python3.8/site-packages/matplotlib/backends/backend_agg.py:183: RuntimeWarning: Glyph 22269 missing from current font.\n",
      "  font.set_text(s, 0, flags=flags)\n"
     ]
    },
    {
     "data": {
      "image/png": "[encoded data removed]",
      "text/plain": [
       "<Figure size 432x288 with 1 Axes>"
      ]
     },
     "metadata": {
      "needs_background": "light"
     },
     "output_type": "display_data"
    }
   ],
   "source": [
    "tweets_location = tweets.groupby(\"user_reported_location\")[\"user_display_name\"].count().to_frame()\n",
    "tweets_location.loc[tweets_location[\"user_display_name\"] > 2000].plot(kind=\"bar\")"
   ]
  },
  {
   "cell_type": "code",
   "execution_count": 71,
   "metadata": {},
   "outputs": [
    {
     "data": {
      "text/plain": [
       "<matplotlib.axes._subplots.AxesSubplot at 0x7fc79250e1c0>"
      ]
     },
     "execution_count": 71,
     "metadata": {},
     "output_type": "execute_result"
    },
    {
     "data": {
      "image/png": "[encoded data removed]",
      "text/plain": [
       "<Figure size 432x288 with 1 Axes>"
      ]
     },
     "metadata": {
      "needs_background": "light"
     },
     "output_type": "display_data"
    }
   ],
   "source": [
    "users_location = users.groupby(\"user_reported_location\")[\"user_display_name\"].count().to_frame()\n",
    "users_location.loc[users_location[\"user_display_name\"] > 4].plot(kind=\"bar\")"
   ]
  },
  {
   "cell_type": "code",
   "execution_count": null,
   "metadata": {},
   "outputs": [],
   "source": []
  }
 ],
 "metadata": {
  "kernelspec": {
   "display_name": "Python 3",
   "language": "python",
   "name": "python3"
  },
  "language_info": {
   "codemirror_mode": {
    "name": "ipython",
    "version": 3
   },
   "file_extension": ".py",
   "mimetype": "text/x-python",
   "name": "python",
   "nbconvert_exporter": "python",
   "pygments_lexer": "ipython3",
   "version": "3.8.3"
  }
 },
 "nbformat": 4,
 "nbformat_minor": 4
}
