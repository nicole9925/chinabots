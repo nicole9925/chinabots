{
 "cells": [
  {
   "cell_type": "markdown",
   "metadata": {},
   "source": [
    "# Sandbox"
   ]
  },
  {
   "cell_type": "code",
   "execution_count": 1,
   "metadata": {},
   "outputs": [],
   "source": [
    "import pandas as pd\n",
    "import numpy as np\n",
    "import matplotlib.pyplot as plt\n",
    "import matplotlib.dates\n",
    "\n",
    "from writeup_func import *"
   ]
  },
  {
   "cell_type": "code",
   "execution_count": 2,
   "metadata": {},
   "outputs": [],
   "source": [
    "users1 = pd.read_csv(\"../data/users1.csv\")\n",
    "users2 = pd.read_csv(\"../data/users2.csv\")\n",
    "users3 = pd.read_csv(\"../data/users3.csv\")"
   ]
  },
  {
   "cell_type": "code",
   "execution_count": 3,
   "metadata": {},
   "outputs": [
    {
     "data": {
      "text/plain": [
       "(5241, 10)"
      ]
     },
     "execution_count": 3,
     "metadata": {},
     "output_type": "execute_result"
    }
   ],
   "source": [
    "users = pd.concat([users1, users2, users3])\n",
    "users.shape"
   ]
  },
  {
   "cell_type": "code",
   "execution_count": 4,
   "metadata": {},
   "outputs": [],
   "source": [
    "tweets1 = pd.read_csv(\"../data/tweets1.csv\", low_memory=False)\n",
    "tweets2 = pd.read_csv(\"../data/tweets2.csv\", low_memory=False)\n",
    "tweets3 = pd.read_csv(\"../data/tweets3_1.csv\", low_memory=False)\n",
    "tweets4 = pd.read_csv(\"../data/tweets3_2.csv\", low_memory=False)\n",
    "tweets5 = pd.read_csv(\"../data/tweets3_3.csv\", low_memory=False)"
   ]
  },
  {
   "cell_type": "code",
   "execution_count": 5,
   "metadata": {},
   "outputs": [
    {
     "data": {
      "text/plain": [
       "(13847731, 31)"
      ]
     },
     "execution_count": 5,
     "metadata": {},
     "output_type": "execute_result"
    }
   ],
   "source": [
    "tweets = pd.concat([tweets1, tweets2, tweets3, tweets4, tweets5])\n",
    "tweets.shape"
   ]
  },
  {
   "cell_type": "code",
   "execution_count": 6,
   "metadata": {},
   "outputs": [],
   "source": [
    "# to datetime\n",
    "users_dt = pd.to_datetime(users.account_creation_date)\n",
    "users.loc[:,'account_creation_date'] = users_dt.values\n",
    "tweets.loc[:, 'tweet_time'] = pd.to_datetime(tweets.tweet_time).values"
   ]
  },
  {
   "cell_type": "code",
   "execution_count": 13,
   "metadata": {},
   "outputs": [
    {
     "data": {
      "text/plain": [
       "'。，。，。郭没有任何隐私了，还能扛多久？。，。，。'"
      ]
     },
     "execution_count": 13,
     "metadata": {},
     "output_type": "execute_result"
    }
   ],
   "source": [
    "tweets[tweets['tweet_time'].dt.year == 2017][['userid', 'tweet_text']].tweet_text.iloc[-1]"
   ]
  },
  {
   "cell_type": "code",
   "execution_count": 9,
   "metadata": {},
   "outputs": [
    {
     "data": {
      "text/plain": [
       "0          2012\n",
       "1          2012\n",
       "2          2015\n",
       "3          2015\n",
       "4          2015\n",
       "           ... \n",
       "2875329    2019\n",
       "2875330    2019\n",
       "2875331    2018\n",
       "2875332    2018\n",
       "2875333    2018\n",
       "Name: tweet_time, Length: 13847731, dtype: int64"
      ]
     },
     "execution_count": 9,
     "metadata": {},
     "output_type": "execute_result"
    }
   ],
   "source": []
  },
  {
   "cell_type": "code",
   "execution_count": 31,
   "metadata": {},
   "outputs": [
    {
     "data": {
      "text/html": [
       "<div>\n",
       "<style scoped>\n",
       "    .dataframe tbody tr th:only-of-type {\n",
       "        vertical-align: middle;\n",
       "    }\n",
       "\n",
       "    .dataframe tbody tr th {\n",
       "        vertical-align: top;\n",
       "    }\n",
       "\n",
       "    .dataframe thead th {\n",
       "        text-align: right;\n",
       "    }\n",
       "</style>\n",
       "<table border=\"1\" class=\"dataframe\">\n",
       "  <thead>\n",
       "    <tr style=\"text-align: right;\">\n",
       "      <th></th>\n",
       "      <th>userid</th>\n",
       "      <th>tweet_text</th>\n",
       "    </tr>\n",
       "  </thead>\n",
       "  <tbody>\n",
       "    <tr>\n",
       "      <th>79</th>\n",
       "      <td>620912741</td>\n",
       "      <td>Nanti akuw jadi shownu https://t.co/oXfC4lsmvA</td>\n",
       "    </tr>\n",
       "    <tr>\n",
       "      <th>82</th>\n",
       "      <td>620912741</td>\n",
       "      <td>Mau bales mt tp ngelag mulu\\n\\nq bisa apa</td>\n",
       "    </tr>\n",
       "    <tr>\n",
       "      <th>85</th>\n",
       "      <td>620912741</td>\n",
       "      <td>At warung dimsum pak bejo with @euigont \\n\\nJo...</td>\n",
       "    </tr>\n",
       "    <tr>\n",
       "      <th>119</th>\n",
       "      <td>620912741</td>\n",
       "      <td>Caur https://t.co/gzBTLRuHd2</td>\n",
       "    </tr>\n",
       "    <tr>\n",
       "      <th>120</th>\n",
       "      <td>620912741</td>\n",
       "      <td>Woee ini kita nyepam wkwk https://t.co/Wr8vVZ83Aa</td>\n",
       "    </tr>\n",
       "  </tbody>\n",
       "</table>\n",
       "</div>"
      ],
      "text/plain": [
       "        userid                                         tweet_text\n",
       "79   620912741     Nanti akuw jadi shownu https://t.co/oXfC4lsmvA\n",
       "82   620912741          Mau bales mt tp ngelag mulu\\n\\nq bisa apa\n",
       "85   620912741  At warung dimsum pak bejo with @euigont \\n\\nJo...\n",
       "119  620912741                       Caur https://t.co/gzBTLRuHd2\n",
       "120  620912741  Woee ini kita nyepam wkwk https://t.co/Wr8vVZ83Aa"
      ]
     },
     "execution_count": 31,
     "metadata": {},
     "output_type": "execute_result"
    }
   ],
   "source": [
    "tweets[tweets['tweet_time'].dt.year == 2017][['userid', 'tweet_text']].head()"
   ]
  },
  {
   "cell_type": "code",
   "execution_count": 32,
   "metadata": {},
   "outputs": [
    {
     "data": {
      "text/html": [
       "<div>\n",
       "<style scoped>\n",
       "    .dataframe tbody tr th:only-of-type {\n",
       "        vertical-align: middle;\n",
       "    }\n",
       "\n",
       "    .dataframe tbody tr th {\n",
       "        vertical-align: top;\n",
       "    }\n",
       "\n",
       "    .dataframe thead th {\n",
       "        text-align: right;\n",
       "    }\n",
       "</style>\n",
       "<table border=\"1\" class=\"dataframe\">\n",
       "  <thead>\n",
       "    <tr style=\"text-align: right;\">\n",
       "      <th></th>\n",
       "      <th>tweet_text</th>\n",
       "      <th>tweet_time</th>\n",
       "      <th>tweet_language</th>\n",
       "    </tr>\n",
       "  </thead>\n",
       "  <tbody>\n",
       "    <tr>\n",
       "      <th>550803</th>\n",
       "      <td>PLAYMFS: #PTL to pkrjim 祝你生日快乐 🎇🎁🎉🎂😍😘❤💋 fr : 裴...</td>\n",
       "      <td>2016-10-12 15:38:00</td>\n",
       "      <td>zh</td>\n",
       "    </tr>\n",
       "    <tr>\n",
       "      <th>1606044</th>\n",
       "      <td>knockknock0408: [DL] 161119 SEHUN cr.嗯_那好吧_9P\\...</td>\n",
       "      <td>2016-11-22 12:22:00</td>\n",
       "      <td>zh</td>\n",
       "    </tr>\n",
       "    <tr>\n",
       "      <th>370124</th>\n",
       "      <td>knockknock0408: [DL] 161125 LAY cr.山顶洞人早饭_10P\\...</td>\n",
       "      <td>2016-11-26 06:53:00</td>\n",
       "      <td>zh</td>\n",
       "    </tr>\n",
       "    <tr>\n",
       "      <th>1733058</th>\n",
       "      <td>knockknock0408: cr.多比小金魚 https://t.co/KqW9LyVHB4</td>\n",
       "      <td>2016-11-26 12:21:00</td>\n",
       "      <td>zh</td>\n",
       "    </tr>\n",
       "    <tr>\n",
       "      <th>1768398</th>\n",
       "      <td>knockknock0408: cr.荼火君 \\nhttps://t.co/f1xFxQB1...</td>\n",
       "      <td>2016-12-03 12:20:00</td>\n",
       "      <td>zh</td>\n",
       "    </tr>\n",
       "  </tbody>\n",
       "</table>\n",
       "</div>"
      ],
      "text/plain": [
       "                                                tweet_text  \\\n",
       "550803   PLAYMFS: #PTL to pkrjim 祝你生日快乐 🎇🎁🎉🎂😍😘❤💋 fr : 裴...   \n",
       "1606044  knockknock0408: [DL] 161119 SEHUN cr.嗯_那好吧_9P\\...   \n",
       "370124   knockknock0408: [DL] 161125 LAY cr.山顶洞人早饭_10P\\...   \n",
       "1733058   knockknock0408: cr.多比小金魚 https://t.co/KqW9LyVHB4   \n",
       "1768398  knockknock0408: cr.荼火君 \\nhttps://t.co/f1xFxQB1...   \n",
       "\n",
       "                 tweet_time tweet_language  \n",
       "550803  2016-10-12 15:38:00             zh  \n",
       "1606044 2016-11-22 12:22:00             zh  \n",
       "370124  2016-11-26 06:53:00             zh  \n",
       "1733058 2016-11-26 12:21:00             zh  \n",
       "1768398 2016-12-03 12:20:00             zh  "
      ]
     },
     "execution_count": 32,
     "metadata": {},
     "output_type": "execute_result"
    }
   ],
   "source": [
    "# looking at user 769790067183190016, porn bot?\n",
    "tweets[(tweets['userid'] == '769790067183190016') & (tweets['tweet_language'] == 'zh')][['tweet_text', 'tweet_time', 'tweet_language']].sort_values(by='tweet_time').head()"
   ]
  },
  {
   "cell_type": "code",
   "execution_count": 33,
   "metadata": {},
   "outputs": [
    {
     "data": {
      "text/html": [
       "<div>\n",
       "<style scoped>\n",
       "    .dataframe tbody tr th:only-of-type {\n",
       "        vertical-align: middle;\n",
       "    }\n",
       "\n",
       "    .dataframe tbody tr th {\n",
       "        vertical-align: top;\n",
       "    }\n",
       "\n",
       "    .dataframe thead th {\n",
       "        text-align: right;\n",
       "    }\n",
       "</style>\n",
       "<table border=\"1\" class=\"dataframe\">\n",
       "  <thead>\n",
       "    <tr style=\"text-align: right;\">\n",
       "      <th></th>\n",
       "      <th>userid</th>\n",
       "      <th>tweet_text</th>\n",
       "      <th>tweet_time</th>\n",
       "      <th>tweet_language</th>\n",
       "    </tr>\n",
       "  </thead>\n",
       "  <tbody>\n",
       "    <tr>\n",
       "      <th>0</th>\n",
       "      <td>206027550</td>\n",
       "      <td>VOU SEGUIR T-O-D-O-S QUE SEGUIREM O @OBobMarle...</td>\n",
       "      <td>2012-08-15 22:15:00</td>\n",
       "      <td>NaN</td>\n",
       "    </tr>\n",
       "    <tr>\n",
       "      <th>1</th>\n",
       "      <td>206027550</td>\n",
       "      <td>vai? #LetrasChoraoAdmiraFamiliaRebelde</td>\n",
       "      <td>2012-06-02 20:59:00</td>\n",
       "      <td>NaN</td>\n",
       "    </tr>\n",
       "    <tr>\n",
       "      <th>2</th>\n",
       "      <td>206027550</td>\n",
       "      <td>GALERAAAAAAA ASSISTE ESSE VÍDEO, SÉRIO KKKKKKK...</td>\n",
       "      <td>2015-02-22 23:15:00</td>\n",
       "      <td>pt</td>\n",
       "    </tr>\n",
       "    <tr>\n",
       "      <th>3</th>\n",
       "      <td>206027550</td>\n",
       "      <td>CARAMBA.  \\n\\nSEGUI O @versosbuda E ELE ME IND...</td>\n",
       "      <td>2015-02-10 21:24:00</td>\n",
       "      <td>pt</td>\n",
       "    </tr>\n",
       "    <tr>\n",
       "      <th>4</th>\n",
       "      <td>206027550</td>\n",
       "      <td>10 CARACTERÍSTICAS FEMININAS CAPAZ DE DEIXAR Q...</td>\n",
       "      <td>2015-03-15 22:02:00</td>\n",
       "      <td>pt</td>\n",
       "    </tr>\n",
       "  </tbody>\n",
       "</table>\n",
       "</div>"
      ],
      "text/plain": [
       "      userid                                         tweet_text  \\\n",
       "0  206027550  VOU SEGUIR T-O-D-O-S QUE SEGUIREM O @OBobMarle...   \n",
       "1  206027550             vai? #LetrasChoraoAdmiraFamiliaRebelde   \n",
       "2  206027550  GALERAAAAAAA ASSISTE ESSE VÍDEO, SÉRIO KKKKKKK...   \n",
       "3  206027550  CARAMBA.  \\n\\nSEGUI O @versosbuda E ELE ME IND...   \n",
       "4  206027550  10 CARACTERÍSTICAS FEMININAS CAPAZ DE DEIXAR Q...   \n",
       "\n",
       "           tweet_time tweet_language  \n",
       "0 2012-08-15 22:15:00            NaN  \n",
       "1 2012-06-02 20:59:00            NaN  \n",
       "2 2015-02-22 23:15:00             pt  \n",
       "3 2015-02-10 21:24:00             pt  \n",
       "4 2015-03-15 22:02:00             pt  "
      ]
     },
     "execution_count": 33,
     "metadata": {},
     "output_type": "execute_result"
    }
   ],
   "source": [
    "tweets[['userid','tweet_text', 'tweet_time', 'tweet_language']].head()"
   ]
  },
  {
   "cell_type": "code",
   "execution_count": 41,
   "metadata": {},
   "outputs": [
    {
     "data": {
      "text/plain": [
       "'#桂民海  12年前的一场车祸，夺取去了老两口唯一爱女的生命。而车祸肇事者正是桂敏海。 https://t.co/7Z6300g10M'"
      ]
     },
     "execution_count": 41,
     "metadata": {},
     "output_type": "execute_result"
    }
   ],
   "source": [
    "tweets[tweets['tweet_text'].str.contains('桂敏海')].tweet_text.iloc[2]"
   ]
  },
  {
   "cell_type": "code",
   "execution_count": null,
   "metadata": {},
   "outputs": [],
   "source": []
  }
 ],
 "metadata": {
  "kernelspec": {
   "display_name": "Python 3",
   "language": "python",
   "name": "python3"
  },
  "language_info": {
   "codemirror_mode": {
    "name": "ipython",
    "version": 3
   },
   "file_extension": ".py",
   "mimetype": "text/x-python",
   "name": "python",
   "nbconvert_exporter": "python",
   "pygments_lexer": "ipython3",
   "version": "3.7.6"
  }
 },
 "nbformat": 4,
 "nbformat_minor": 4
}
