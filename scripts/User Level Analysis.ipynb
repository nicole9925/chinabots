{
 "cells": [
  {
   "cell_type": "code",
   "execution_count": 1,
   "metadata": {},
   "outputs": [],
   "source": [
    "import pandas as pd\n",
    "import plotly.express as px\n",
    "import gensim\n",
    "from collections import defaultdict\n",
    "import numpy as np\n",
    "import json"
   ]
  },
  {
   "cell_type": "markdown",
   "metadata": {},
   "source": [
    "# User Level Analysis\n",
    "The goal of this notebook is to analyze data on a user level."
   ]
  },
  {
   "cell_type": "code",
   "execution_count": 2,
   "metadata": {},
   "outputs": [],
   "source": [
    "users1 = pd.read_csv(\"../data/users1.csv\")\n",
    "users2 = pd.read_csv(\"../data/users2.csv\")\n",
    "users3 = pd.read_csv(\"../data/users3.csv\")"
   ]
  },
  {
   "cell_type": "code",
   "execution_count": 3,
   "metadata": {},
   "outputs": [],
   "source": [
    "users = pd.concat([users1, users2, users3])"
   ]
  },
  {
   "cell_type": "code",
   "execution_count": 4,
   "metadata": {},
   "outputs": [
    {
     "name": "stderr",
     "output_type": "stream",
     "text": [
      "C:\\Users\\Niko\\Anaconda3\\envs\\TwitterBots_backup\\lib\\site-packages\\IPython\\core\\interactiveshell.py:3072: DtypeWarning: Columns (6,15,19,30) have mixed types.Specify dtype option on import or set low_memory=False.\n",
      "  interactivity=interactivity, compiler=compiler, result=result)\n",
      "C:\\Users\\Niko\\Anaconda3\\envs\\TwitterBots_backup\\lib\\site-packages\\IPython\\core\\interactiveshell.py:3072: DtypeWarning: Columns (15,19,30) have mixed types.Specify dtype option on import or set low_memory=False.\n",
      "  interactivity=interactivity, compiler=compiler, result=result)\n",
      "C:\\Users\\Niko\\Anaconda3\\envs\\TwitterBots_backup\\lib\\site-packages\\IPython\\core\\interactiveshell.py:3072: DtypeWarning: Columns (15) have mixed types.Specify dtype option on import or set low_memory=False.\n",
      "  interactivity=interactivity, compiler=compiler, result=result)\n",
      "C:\\Users\\Niko\\Anaconda3\\envs\\TwitterBots_backup\\lib\\site-packages\\IPython\\core\\interactiveshell.py:3072: DtypeWarning: Columns (1,15,30) have mixed types.Specify dtype option on import or set low_memory=False.\n",
      "  interactivity=interactivity, compiler=compiler, result=result)\n"
     ]
    }
   ],
   "source": [
    "tweets1 = pd.read_csv(\"../data/tweets1.csv\")\n",
    "tweets2 = pd.read_csv(\"../data/tweets2.csv\")\n",
    "tweets3 = pd.read_csv(\"../data/tweets3_1.csv\")\n",
    "tweets4 = pd.read_csv(\"../data/tweets3_2.csv\")\n",
    "tweets5 = pd.read_csv(\"../data/tweets3_3.csv\")"
   ]
  },
  {
   "cell_type": "code",
   "execution_count": 5,
   "metadata": {},
   "outputs": [],
   "source": [
    "tweets = pd.concat([tweets1, tweets2, tweets3, tweets4, tweets5])"
   ]
  },
  {
   "cell_type": "markdown",
   "metadata": {},
   "source": [
    "First, we write function to randomly pick a user from our dataset. Since there are a users in our dataset with no recorded tweets, we will continue to choose random users until we find one."
   ]
  },
  {
   "cell_type": "code",
   "execution_count": 12,
   "metadata": {},
   "outputs": [],
   "source": [
    "def find_random_user():\n",
    "    df = None\n",
    "    while df is None or df.shape[0] == 0:\n",
    "        user = users.sample(1)[\"user_display_name\"].item()\n",
    "        df = tweets.loc[tweets[\"user_display_name\"] == user]\n",
    "    return df"
   ]
  },
  {
   "cell_type": "markdown",
   "metadata": {},
   "source": [
    "Now, we will visualize the tweet frequency. In order to proceed with the same user in our future investigation, we rerun our find_random_user function until we see English results."
   ]
  },
  {
   "cell_type": "code",
   "execution_count": 13,
   "metadata": {},
   "outputs": [],
   "source": [
    "user = find_random_user()\n",
    "#First, we want to see what time this specific user tweets everyday."
   ]
  },
  {
   "cell_type": "code",
   "execution_count": null,
   "metadata": {
    "scrolled": true
   },
   "outputs": [],
   "source": [
    "#Visualize tweet times\n",
    "user_copy = user.copy()\n",
    "user_copy[\"tweet_time\"] = pd.to_datetime(user_copy[\"tweet_time\"]).apply(lambda x: int(x.hour))\n",
    "tweet_times = user_copy.groupby(\"tweet_time\")[\"userid\"].count().to_frame().reset_index()\n",
    "tweet_times.columns = [\"hour\", '# of tweets']\n",
    "fig = px.line(tweet_times, x=\"hour\", y=\"# of tweets\")\n",
    "fig.update_layout(\n",
    "    title_text=\"@\"+user[\"user_display_name\"].iloc[0]+\" Tweet Times\", \n",
    "    font=dict(\n",
    "        family=\"Times\",\n",
    "        size=18,\n",
    "        color=\"#7f7f7f\"\n",
    "    ))\n",
    "fig.show()"
   ]
  },
  {
   "cell_type": "markdown",
   "metadata": {},
   "source": [
    "The goal of this part was to look for peaks of the day in which a user tweets. We expect a normal user to tweet uniformly between a 14-18 hour period.\n",
    "\n",
    "Next, we will look at the content of the tweets, looking at the variance ."
   ]
  },
  {
   "cell_type": "code",
   "execution_count": null,
   "metadata": {},
   "outputs": [],
   "source": [
    "user[\"tweet_text\"].head()"
   ]
  },
  {
   "cell_type": "code",
   "execution_count": null,
   "metadata": {},
   "outputs": [],
   "source": [
    "user_copy.tweet_time.var()"
   ]
  },
  {
   "cell_type": "code",
   "execution_count": null,
   "metadata": {},
   "outputs": [],
   "source": [
    "tweets.columns"
   ]
  },
  {
   "cell_type": "markdown",
   "metadata": {},
   "source": [
    "Let's look at the tweet time variance per user (using the hour convention to determin variance in user tweet habits), first let's drop all the columns we don't need for this "
   ]
  },
  {
   "cell_type": "code",
   "execution_count": null,
   "metadata": {},
   "outputs": [],
   "source": [
    "tweets_id = tweets.loc[:,['tweetid', 'userid', 'tweet_time' ]]\n",
    "tweets_id.shape"
   ]
  },
  {
   "cell_type": "code",
   "execution_count": null,
   "metadata": {},
   "outputs": [],
   "source": [
    "user_copy.tweet_time.hist()"
   ]
  },
  {
   "cell_type": "code",
   "execution_count": null,
   "metadata": {},
   "outputs": [],
   "source": [
    "# asssign tweet_time to datetime object\n",
    "tweets_id['tweet_time'] = pd.to_datetime(tweets.loc[:,'tweet_time']).dt.hour\n",
    "tweets_id.tweet_time"
   ]
  },
  {
   "cell_type": "code",
   "execution_count": null,
   "metadata": {},
   "outputs": [],
   "source": [
    "tweets_id.groupby('userid').tweet_time.var().hist()\n",
    "print('average user variance from this df is: ' + str(tweets_id.groupby('userid').tweet_time.var().mean()))"
   ]
  },
  {
   "cell_type": "markdown",
   "metadata": {},
   "source": [
    "variance seems to be pretty low, let's compare this to user data we got from https://botometer.iuni.iu.edu/bot-repository/datasets.html (verified_2019)"
   ]
  },
  {
   "cell_type": "code",
   "execution_count": null,
   "metadata": {},
   "outputs": [],
   "source": [
    "tweets_id.groupby('tweet_time').count()"
   ]
  },
  {
   "cell_type": "code",
   "execution_count": null,
   "metadata": {},
   "outputs": [],
   "source": [
    "# load json\n",
    "with open('../data/verified-2019_tweets.json') as f:\n",
    "    verified_json = json.load(f)"
   ]
  },
  {
   "cell_type": "code",
   "execution_count": null,
   "metadata": {},
   "outputs": [],
   "source": [
    "verified_json = [i['user'] for i in verified_json]"
   ]
  },
  {
   "cell_type": "code",
   "execution_count": null,
   "metadata": {},
   "outputs": [],
   "source": [
    "tweets_verified = pd.DataFrame.from_dict(verified_json)\n",
    "tweets_verified"
   ]
  },
  {
   "cell_type": "code",
   "execution_count": null,
   "metadata": {},
   "outputs": [],
   "source": []
  },
  {
   "cell_type": "code",
   "execution_count": null,
   "metadata": {},
   "outputs": [],
   "source": []
  },
  {
   "cell_type": "code",
   "execution_count": null,
   "metadata": {},
   "outputs": [],
   "source": []
  },
  {
   "cell_type": "markdown",
   "metadata": {},
   "source": [
    "At first glance, it seems like this user many of the users tweet in multiple languages. We will be using the gensim package, so first we will preprocess the data."
   ]
  },
  {
   "cell_type": "code",
   "execution_count": 36,
   "metadata": {},
   "outputs": [],
   "source": [
    "# first, remove stop words\n",
    "#stop_words = pd.read_csv(\"../data/stop_words.csv\")[\"words\"].tolist()\n",
    "#cleaned_tweets = user[\"tweet_text\"].apply(lambda tweet: [x.lower() for x in [x.replace(\",\", \"\").replace(\".\", \"\").replace(\"!\", \"\").replace(\"?\", \"\").replace(\" \", \"\").replace(\"*\", \"\").replace('\"', '').strip().lower() for x in tweet.split() if x not in stop_words] if x != ''])\n",
    "#cleaned_tweets = cleaned_tweets.tolist()"
   ]
  },
  {
   "cell_type": "markdown",
   "metadata": {},
   "source": [
    "To further clean our data, we remove words with only 1 frequency, as those will likely not be as significant when we calculate similarity between documents."
   ]
  },
  {
   "cell_type": "code",
   "execution_count": null,
   "metadata": {},
   "outputs": [],
   "source": [
    "# remove words with only 1 frequency\n",
    "frequency = defaultdict(int)\n",
    "for tweet in cleaned_tweets:\n",
    "    for token in tweet:\n",
    "        frequency[token] += 1"
   ]
  },
  {
   "cell_type": "code",
   "execution_count": null,
   "metadata": {},
   "outputs": [],
   "source": [
    "texts = [\n",
    "    [token for token in tweets if frequency[token] > 1]\n",
    "    for tweets in cleaned_tweets\n",
    "]\n",
    "dictionary = gensim.corpora.Dictionary(texts)\n",
    "corpus = [dictionary.doc2bow(text) for text in texts]"
   ]
  },
  {
   "cell_type": "markdown",
   "metadata": {},
   "source": [
    "We've preprocessed the data, but knowing that there may be stop words we have missed, that there are tweets in other languages, and that users (particularly this user) tend to repeat words, we will transform our corpus using tf-idf."
   ]
  },
  {
   "cell_type": "code",
   "execution_count": null,
   "metadata": {},
   "outputs": [],
   "source": [
    "tfidf = gensim.models.TfidfModel(corpus, smartirs='ntc')"
   ]
  },
  {
   "cell_type": "code",
   "execution_count": null,
   "metadata": {},
   "outputs": [],
   "source": [
    "for doc in tfidf[corpus]:\n",
    "    print([[dictionary[token], np.around(freq, 2)] for token, freq in doc])"
   ]
  },
  {
   "cell_type": "code",
   "execution_count": null,
   "metadata": {},
   "outputs": [],
   "source": [
    "tfidf_corpus = tfidf[corpus]"
   ]
  },
  {
   "cell_type": "code",
   "execution_count": null,
   "metadata": {},
   "outputs": [],
   "source": [
    "index = gensim.similarities.MatrixSimilarity(tfidf_corpus, num_features=len(dictionary))\n",
    "sims = index[tfidf_corpus]"
   ]
  },
  {
   "cell_type": "code",
   "execution_count": null,
   "metadata": {},
   "outputs": [],
   "source": [
    "sims[0]"
   ]
  },
  {
   "cell_type": "code",
   "execution_count": 20,
   "metadata": {},
   "outputs": [],
   "source": [
    "tweet_language_count = tweets.groupby('tweet_language').count()"
   ]
  },
  {
   "cell_type": "code",
   "execution_count": 28,
   "metadata": {},
   "outputs": [],
   "source": [
    "#tweet_language_count['tweetid'].sort_values(ascending=False).to_dict()"
   ]
  },
  {
   "cell_type": "code",
   "execution_count": 30,
   "metadata": {},
   "outputs": [
    {
     "data": {
      "text/plain": [
       "Index(['userid', 'user_display_name', 'user_screen_name',\n",
       "       'user_reported_location', 'user_profile_description',\n",
       "       'user_profile_url', 'follower_count', 'following_count',\n",
       "       'account_creation_date', 'account_language'],\n",
       "      dtype='object')"
      ]
     },
     "execution_count": 30,
     "metadata": {},
     "output_type": "execute_result"
    }
   ],
   "source": [
    "users.columns"
   ]
  },
  {
   "cell_type": "code",
   "execution_count": 46,
   "metadata": {},
   "outputs": [
    {
     "data": {
      "text/plain": [
       "0       zh-cn\n",
       "1       zh-cn\n",
       "2       zh-cn\n",
       "3       zh-cn\n",
       "4       zh-cn\n",
       "        ...  \n",
       "4296    zh-cn\n",
       "4297       en\n",
       "4298    zh-cn\n",
       "4299       en\n",
       "4300       en\n",
       "Name: account_language, Length: 5241, dtype: object"
      ]
     },
     "execution_count": 46,
     "metadata": {},
     "output_type": "execute_result"
    }
   ],
   "source": [
    "users.account_language"
   ]
  },
  {
   "cell_type": "code",
   "execution_count": 37,
   "metadata": {},
   "outputs": [],
   "source": [
    "tweets_indonesian = tweets[tweets['tweet_language'] == 'in']"
   ]
  },
  {
   "cell_type": "code",
   "execution_count": 6,
   "metadata": {},
   "outputs": [],
   "source": [
    "mismatched_users = tweets[tweets['tweet_language'] != tweets['account_language']]"
   ]
  },
  {
   "cell_type": "code",
   "execution_count": 13,
   "metadata": {},
   "outputs": [],
   "source": [
    "mismatched_userid = mismatched_users.groupby('userid').count().index.to_list()"
   ]
  },
  {
   "cell_type": "code",
   "execution_count": 17,
   "metadata": {},
   "outputs": [
    {
     "data": {
      "text/plain": [
       "((5179, 10), (5241, 10))"
      ]
     },
     "execution_count": 17,
     "metadata": {},
     "output_type": "execute_result"
    }
   ],
   "source": [
    "mismatched_user_acc = users[users['userid'].isin(mismatched_userid)]\n",
    "mismatched_user_acc.shape, users.shape"
   ]
  },
  {
   "cell_type": "code",
   "execution_count": 40,
   "metadata": {},
   "outputs": [
    {
     "data": {
      "text/html": [
       "<div>\n",
       "<style scoped>\n",
       "    .dataframe tbody tr th:only-of-type {\n",
       "        vertical-align: middle;\n",
       "    }\n",
       "\n",
       "    .dataframe tbody tr th {\n",
       "        vertical-align: top;\n",
       "    }\n",
       "\n",
       "    .dataframe thead th {\n",
       "        text-align: right;\n",
       "    }\n",
       "</style>\n",
       "<table border=\"1\" class=\"dataframe\">\n",
       "  <thead>\n",
       "    <tr style=\"text-align: right;\">\n",
       "      <th></th>\n",
       "      <th>tweetid</th>\n",
       "      <th>user_display_name</th>\n",
       "      <th>user_screen_name</th>\n",
       "      <th>user_reported_location</th>\n",
       "      <th>user_profile_description</th>\n",
       "      <th>user_profile_url</th>\n",
       "      <th>follower_count</th>\n",
       "      <th>following_count</th>\n",
       "      <th>account_creation_date</th>\n",
       "      <th>account_language</th>\n",
       "      <th>...</th>\n",
       "      <th>latitude</th>\n",
       "      <th>longitude</th>\n",
       "      <th>quote_count</th>\n",
       "      <th>reply_count</th>\n",
       "      <th>like_count</th>\n",
       "      <th>retweet_count</th>\n",
       "      <th>hashtags</th>\n",
       "      <th>urls</th>\n",
       "      <th>user_mentions</th>\n",
       "      <th>poll_choices</th>\n",
       "    </tr>\n",
       "    <tr>\n",
       "      <th>userid</th>\n",
       "      <th></th>\n",
       "      <th></th>\n",
       "      <th></th>\n",
       "      <th></th>\n",
       "      <th></th>\n",
       "      <th></th>\n",
       "      <th></th>\n",
       "      <th></th>\n",
       "      <th></th>\n",
       "      <th></th>\n",
       "      <th></th>\n",
       "      <th></th>\n",
       "      <th></th>\n",
       "      <th></th>\n",
       "      <th></th>\n",
       "      <th></th>\n",
       "      <th></th>\n",
       "      <th></th>\n",
       "      <th></th>\n",
       "      <th></th>\n",
       "      <th></th>\n",
       "    </tr>\n",
       "  </thead>\n",
       "  <tbody>\n",
       "    <tr>\n",
       "      <th>54107005</th>\n",
       "      <td>74836</td>\n",
       "      <td>74836</td>\n",
       "      <td>74836</td>\n",
       "      <td>0</td>\n",
       "      <td>0</td>\n",
       "      <td>0</td>\n",
       "      <td>74836</td>\n",
       "      <td>74836</td>\n",
       "      <td>74836</td>\n",
       "      <td>74836</td>\n",
       "      <td>...</td>\n",
       "      <td>74836</td>\n",
       "      <td>74836</td>\n",
       "      <td>74836</td>\n",
       "      <td>74836</td>\n",
       "      <td>74836</td>\n",
       "      <td>74836</td>\n",
       "      <td>71489</td>\n",
       "      <td>71489</td>\n",
       "      <td>74836</td>\n",
       "      <td>0</td>\n",
       "    </tr>\n",
       "    <tr>\n",
       "      <th>109273574</th>\n",
       "      <td>1698</td>\n",
       "      <td>1698</td>\n",
       "      <td>1698</td>\n",
       "      <td>1698</td>\n",
       "      <td>1698</td>\n",
       "      <td>0</td>\n",
       "      <td>1698</td>\n",
       "      <td>1698</td>\n",
       "      <td>1698</td>\n",
       "      <td>1698</td>\n",
       "      <td>...</td>\n",
       "      <td>1698</td>\n",
       "      <td>1698</td>\n",
       "      <td>1698</td>\n",
       "      <td>1698</td>\n",
       "      <td>1698</td>\n",
       "      <td>1698</td>\n",
       "      <td>1516</td>\n",
       "      <td>1698</td>\n",
       "      <td>1698</td>\n",
       "      <td>0</td>\n",
       "    </tr>\n",
       "    <tr>\n",
       "      <th>534528879</th>\n",
       "      <td>593</td>\n",
       "      <td>593</td>\n",
       "      <td>593</td>\n",
       "      <td>593</td>\n",
       "      <td>593</td>\n",
       "      <td>0</td>\n",
       "      <td>593</td>\n",
       "      <td>593</td>\n",
       "      <td>593</td>\n",
       "      <td>593</td>\n",
       "      <td>...</td>\n",
       "      <td>593</td>\n",
       "      <td>593</td>\n",
       "      <td>593</td>\n",
       "      <td>593</td>\n",
       "      <td>593</td>\n",
       "      <td>593</td>\n",
       "      <td>547</td>\n",
       "      <td>552</td>\n",
       "      <td>593</td>\n",
       "      <td>0</td>\n",
       "    </tr>\n",
       "    <tr>\n",
       "      <th>824772841</th>\n",
       "      <td>39569</td>\n",
       "      <td>39569</td>\n",
       "      <td>39569</td>\n",
       "      <td>39569</td>\n",
       "      <td>39569</td>\n",
       "      <td>0</td>\n",
       "      <td>39569</td>\n",
       "      <td>39569</td>\n",
       "      <td>39569</td>\n",
       "      <td>39569</td>\n",
       "      <td>...</td>\n",
       "      <td>39569</td>\n",
       "      <td>39569</td>\n",
       "      <td>39567</td>\n",
       "      <td>39567</td>\n",
       "      <td>39567</td>\n",
       "      <td>39567</td>\n",
       "      <td>39569</td>\n",
       "      <td>39569</td>\n",
       "      <td>39569</td>\n",
       "      <td>0</td>\n",
       "    </tr>\n",
       "    <tr>\n",
       "      <th>907691540</th>\n",
       "      <td>321</td>\n",
       "      <td>321</td>\n",
       "      <td>321</td>\n",
       "      <td>321</td>\n",
       "      <td>321</td>\n",
       "      <td>0</td>\n",
       "      <td>321</td>\n",
       "      <td>321</td>\n",
       "      <td>321</td>\n",
       "      <td>321</td>\n",
       "      <td>...</td>\n",
       "      <td>321</td>\n",
       "      <td>321</td>\n",
       "      <td>321</td>\n",
       "      <td>321</td>\n",
       "      <td>321</td>\n",
       "      <td>321</td>\n",
       "      <td>321</td>\n",
       "      <td>321</td>\n",
       "      <td>321</td>\n",
       "      <td>0</td>\n",
       "    </tr>\n",
       "    <tr>\n",
       "      <th>...</th>\n",
       "      <td>...</td>\n",
       "      <td>...</td>\n",
       "      <td>...</td>\n",
       "      <td>...</td>\n",
       "      <td>...</td>\n",
       "      <td>...</td>\n",
       "      <td>...</td>\n",
       "      <td>...</td>\n",
       "      <td>...</td>\n",
       "      <td>...</td>\n",
       "      <td>...</td>\n",
       "      <td>...</td>\n",
       "      <td>...</td>\n",
       "      <td>...</td>\n",
       "      <td>...</td>\n",
       "      <td>...</td>\n",
       "      <td>...</td>\n",
       "      <td>...</td>\n",
       "      <td>...</td>\n",
       "      <td>...</td>\n",
       "      <td>...</td>\n",
       "    </tr>\n",
       "    <tr>\n",
       "      <th>ztZzXBmqhWF5N2qG+b91QU65UAZemBn2hspUFwJjP5k=</th>\n",
       "      <td>6</td>\n",
       "      <td>6</td>\n",
       "      <td>6</td>\n",
       "      <td>0</td>\n",
       "      <td>0</td>\n",
       "      <td>0</td>\n",
       "      <td>6</td>\n",
       "      <td>6</td>\n",
       "      <td>6</td>\n",
       "      <td>6</td>\n",
       "      <td>...</td>\n",
       "      <td>6</td>\n",
       "      <td>6</td>\n",
       "      <td>6</td>\n",
       "      <td>6</td>\n",
       "      <td>6</td>\n",
       "      <td>6</td>\n",
       "      <td>6</td>\n",
       "      <td>6</td>\n",
       "      <td>6</td>\n",
       "      <td>0</td>\n",
       "    </tr>\n",
       "    <tr>\n",
       "      <th>zunmJ76UoF+3kyYtRDKq+ODXXMYv6xx9hkgncIy1vA=</th>\n",
       "      <td>14</td>\n",
       "      <td>14</td>\n",
       "      <td>14</td>\n",
       "      <td>14</td>\n",
       "      <td>14</td>\n",
       "      <td>0</td>\n",
       "      <td>14</td>\n",
       "      <td>14</td>\n",
       "      <td>14</td>\n",
       "      <td>14</td>\n",
       "      <td>...</td>\n",
       "      <td>14</td>\n",
       "      <td>14</td>\n",
       "      <td>14</td>\n",
       "      <td>14</td>\n",
       "      <td>14</td>\n",
       "      <td>14</td>\n",
       "      <td>14</td>\n",
       "      <td>14</td>\n",
       "      <td>14</td>\n",
       "      <td>0</td>\n",
       "    </tr>\n",
       "    <tr>\n",
       "      <th>zvf1RuTkvS2pnDSXmAnXeaZghEnVSp02gJ2wlW6Z2C0=</th>\n",
       "      <td>34</td>\n",
       "      <td>34</td>\n",
       "      <td>34</td>\n",
       "      <td>0</td>\n",
       "      <td>0</td>\n",
       "      <td>0</td>\n",
       "      <td>34</td>\n",
       "      <td>34</td>\n",
       "      <td>34</td>\n",
       "      <td>34</td>\n",
       "      <td>...</td>\n",
       "      <td>34</td>\n",
       "      <td>34</td>\n",
       "      <td>34</td>\n",
       "      <td>34</td>\n",
       "      <td>34</td>\n",
       "      <td>34</td>\n",
       "      <td>34</td>\n",
       "      <td>34</td>\n",
       "      <td>34</td>\n",
       "      <td>0</td>\n",
       "    </tr>\n",
       "    <tr>\n",
       "      <th>zx0B5rBTzMBRZWTqQmMEpRThexa1SKOqv5gPiv86zB4=</th>\n",
       "      <td>97</td>\n",
       "      <td>97</td>\n",
       "      <td>97</td>\n",
       "      <td>0</td>\n",
       "      <td>0</td>\n",
       "      <td>0</td>\n",
       "      <td>97</td>\n",
       "      <td>97</td>\n",
       "      <td>97</td>\n",
       "      <td>97</td>\n",
       "      <td>...</td>\n",
       "      <td>97</td>\n",
       "      <td>97</td>\n",
       "      <td>97</td>\n",
       "      <td>97</td>\n",
       "      <td>97</td>\n",
       "      <td>97</td>\n",
       "      <td>97</td>\n",
       "      <td>97</td>\n",
       "      <td>97</td>\n",
       "      <td>0</td>\n",
       "    </tr>\n",
       "    <tr>\n",
       "      <th>zyGTjWYdHmv1ssAAZwA1w1vIQFBacFT4Qg9ZgqcEtA=</th>\n",
       "      <td>22</td>\n",
       "      <td>22</td>\n",
       "      <td>22</td>\n",
       "      <td>0</td>\n",
       "      <td>0</td>\n",
       "      <td>0</td>\n",
       "      <td>22</td>\n",
       "      <td>22</td>\n",
       "      <td>22</td>\n",
       "      <td>22</td>\n",
       "      <td>...</td>\n",
       "      <td>22</td>\n",
       "      <td>22</td>\n",
       "      <td>22</td>\n",
       "      <td>22</td>\n",
       "      <td>22</td>\n",
       "      <td>22</td>\n",
       "      <td>22</td>\n",
       "      <td>22</td>\n",
       "      <td>22</td>\n",
       "      <td>0</td>\n",
       "    </tr>\n",
       "  </tbody>\n",
       "</table>\n",
       "<p>5214 rows × 30 columns</p>\n",
       "</div>"
      ],
      "text/plain": [
       "                                              tweetid  user_display_name  \\\n",
       "userid                                                                     \n",
       "54107005                                        74836              74836   \n",
       "109273574                                        1698               1698   \n",
       "534528879                                         593                593   \n",
       "824772841                                       39569              39569   \n",
       "907691540                                         321                321   \n",
       "...                                               ...                ...   \n",
       "ztZzXBmqhWF5N2qG+b91QU65UAZemBn2hspUFwJjP5k=        6                  6   \n",
       "zunmJ76UoF+3kyYtRDKq+ODXXMYv6xx9hkgncIy1vA=        14                 14   \n",
       "zvf1RuTkvS2pnDSXmAnXeaZghEnVSp02gJ2wlW6Z2C0=       34                 34   \n",
       "zx0B5rBTzMBRZWTqQmMEpRThexa1SKOqv5gPiv86zB4=       97                 97   \n",
       "zyGTjWYdHmv1ssAAZwA1w1vIQFBacFT4Qg9ZgqcEtA=        22                 22   \n",
       "\n",
       "                                              user_screen_name  \\\n",
       "userid                                                           \n",
       "54107005                                                 74836   \n",
       "109273574                                                 1698   \n",
       "534528879                                                  593   \n",
       "824772841                                                39569   \n",
       "907691540                                                  321   \n",
       "...                                                        ...   \n",
       "ztZzXBmqhWF5N2qG+b91QU65UAZemBn2hspUFwJjP5k=                 6   \n",
       "zunmJ76UoF+3kyYtRDKq+ODXXMYv6xx9hkgncIy1vA=                 14   \n",
       "zvf1RuTkvS2pnDSXmAnXeaZghEnVSp02gJ2wlW6Z2C0=                34   \n",
       "zx0B5rBTzMBRZWTqQmMEpRThexa1SKOqv5gPiv86zB4=                97   \n",
       "zyGTjWYdHmv1ssAAZwA1w1vIQFBacFT4Qg9ZgqcEtA=                 22   \n",
       "\n",
       "                                              user_reported_location  \\\n",
       "userid                                                                 \n",
       "54107005                                                           0   \n",
       "109273574                                                       1698   \n",
       "534528879                                                        593   \n",
       "824772841                                                      39569   \n",
       "907691540                                                        321   \n",
       "...                                                              ...   \n",
       "ztZzXBmqhWF5N2qG+b91QU65UAZemBn2hspUFwJjP5k=                       0   \n",
       "zunmJ76UoF+3kyYtRDKq+ODXXMYv6xx9hkgncIy1vA=                       14   \n",
       "zvf1RuTkvS2pnDSXmAnXeaZghEnVSp02gJ2wlW6Z2C0=                       0   \n",
       "zx0B5rBTzMBRZWTqQmMEpRThexa1SKOqv5gPiv86zB4=                       0   \n",
       "zyGTjWYdHmv1ssAAZwA1w1vIQFBacFT4Qg9ZgqcEtA=                        0   \n",
       "\n",
       "                                              user_profile_description  \\\n",
       "userid                                                                   \n",
       "54107005                                                             0   \n",
       "109273574                                                         1698   \n",
       "534528879                                                          593   \n",
       "824772841                                                        39569   \n",
       "907691540                                                          321   \n",
       "...                                                                ...   \n",
       "ztZzXBmqhWF5N2qG+b91QU65UAZemBn2hspUFwJjP5k=                         0   \n",
       "zunmJ76UoF+3kyYtRDKq+ODXXMYv6xx9hkgncIy1vA=                         14   \n",
       "zvf1RuTkvS2pnDSXmAnXeaZghEnVSp02gJ2wlW6Z2C0=                         0   \n",
       "zx0B5rBTzMBRZWTqQmMEpRThexa1SKOqv5gPiv86zB4=                         0   \n",
       "zyGTjWYdHmv1ssAAZwA1w1vIQFBacFT4Qg9ZgqcEtA=                          0   \n",
       "\n",
       "                                              user_profile_url  \\\n",
       "userid                                                           \n",
       "54107005                                                     0   \n",
       "109273574                                                    0   \n",
       "534528879                                                    0   \n",
       "824772841                                                    0   \n",
       "907691540                                                    0   \n",
       "...                                                        ...   \n",
       "ztZzXBmqhWF5N2qG+b91QU65UAZemBn2hspUFwJjP5k=                 0   \n",
       "zunmJ76UoF+3kyYtRDKq+ODXXMYv6xx9hkgncIy1vA=                  0   \n",
       "zvf1RuTkvS2pnDSXmAnXeaZghEnVSp02gJ2wlW6Z2C0=                 0   \n",
       "zx0B5rBTzMBRZWTqQmMEpRThexa1SKOqv5gPiv86zB4=                 0   \n",
       "zyGTjWYdHmv1ssAAZwA1w1vIQFBacFT4Qg9ZgqcEtA=                  0   \n",
       "\n",
       "                                              follower_count  following_count  \\\n",
       "userid                                                                          \n",
       "54107005                                               74836            74836   \n",
       "109273574                                               1698             1698   \n",
       "534528879                                                593              593   \n",
       "824772841                                              39569            39569   \n",
       "907691540                                                321              321   \n",
       "...                                                      ...              ...   \n",
       "ztZzXBmqhWF5N2qG+b91QU65UAZemBn2hspUFwJjP5k=               6                6   \n",
       "zunmJ76UoF+3kyYtRDKq+ODXXMYv6xx9hkgncIy1vA=               14               14   \n",
       "zvf1RuTkvS2pnDSXmAnXeaZghEnVSp02gJ2wlW6Z2C0=              34               34   \n",
       "zx0B5rBTzMBRZWTqQmMEpRThexa1SKOqv5gPiv86zB4=              97               97   \n",
       "zyGTjWYdHmv1ssAAZwA1w1vIQFBacFT4Qg9ZgqcEtA=               22               22   \n",
       "\n",
       "                                              account_creation_date  \\\n",
       "userid                                                                \n",
       "54107005                                                      74836   \n",
       "109273574                                                      1698   \n",
       "534528879                                                       593   \n",
       "824772841                                                     39569   \n",
       "907691540                                                       321   \n",
       "...                                                             ...   \n",
       "ztZzXBmqhWF5N2qG+b91QU65UAZemBn2hspUFwJjP5k=                      6   \n",
       "zunmJ76UoF+3kyYtRDKq+ODXXMYv6xx9hkgncIy1vA=                      14   \n",
       "zvf1RuTkvS2pnDSXmAnXeaZghEnVSp02gJ2wlW6Z2C0=                     34   \n",
       "zx0B5rBTzMBRZWTqQmMEpRThexa1SKOqv5gPiv86zB4=                     97   \n",
       "zyGTjWYdHmv1ssAAZwA1w1vIQFBacFT4Qg9ZgqcEtA=                      22   \n",
       "\n",
       "                                              account_language  ...  latitude  \\\n",
       "userid                                                          ...             \n",
       "54107005                                                 74836  ...     74836   \n",
       "109273574                                                 1698  ...      1698   \n",
       "534528879                                                  593  ...       593   \n",
       "824772841                                                39569  ...     39569   \n",
       "907691540                                                  321  ...       321   \n",
       "...                                                        ...  ...       ...   \n",
       "ztZzXBmqhWF5N2qG+b91QU65UAZemBn2hspUFwJjP5k=                 6  ...         6   \n",
       "zunmJ76UoF+3kyYtRDKq+ODXXMYv6xx9hkgncIy1vA=                 14  ...        14   \n",
       "zvf1RuTkvS2pnDSXmAnXeaZghEnVSp02gJ2wlW6Z2C0=                34  ...        34   \n",
       "zx0B5rBTzMBRZWTqQmMEpRThexa1SKOqv5gPiv86zB4=                97  ...        97   \n",
       "zyGTjWYdHmv1ssAAZwA1w1vIQFBacFT4Qg9ZgqcEtA=                 22  ...        22   \n",
       "\n",
       "                                              longitude  quote_count  \\\n",
       "userid                                                                 \n",
       "54107005                                          74836        74836   \n",
       "109273574                                          1698         1698   \n",
       "534528879                                           593          593   \n",
       "824772841                                         39569        39567   \n",
       "907691540                                           321          321   \n",
       "...                                                 ...          ...   \n",
       "ztZzXBmqhWF5N2qG+b91QU65UAZemBn2hspUFwJjP5k=          6            6   \n",
       "zunmJ76UoF+3kyYtRDKq+ODXXMYv6xx9hkgncIy1vA=          14           14   \n",
       "zvf1RuTkvS2pnDSXmAnXeaZghEnVSp02gJ2wlW6Z2C0=         34           34   \n",
       "zx0B5rBTzMBRZWTqQmMEpRThexa1SKOqv5gPiv86zB4=         97           97   \n",
       "zyGTjWYdHmv1ssAAZwA1w1vIQFBacFT4Qg9ZgqcEtA=          22           22   \n",
       "\n",
       "                                              reply_count  like_count  \\\n",
       "userid                                                                  \n",
       "54107005                                            74836       74836   \n",
       "109273574                                            1698        1698   \n",
       "534528879                                             593         593   \n",
       "824772841                                           39567       39567   \n",
       "907691540                                             321         321   \n",
       "...                                                   ...         ...   \n",
       "ztZzXBmqhWF5N2qG+b91QU65UAZemBn2hspUFwJjP5k=            6           6   \n",
       "zunmJ76UoF+3kyYtRDKq+ODXXMYv6xx9hkgncIy1vA=            14          14   \n",
       "zvf1RuTkvS2pnDSXmAnXeaZghEnVSp02gJ2wlW6Z2C0=           34          34   \n",
       "zx0B5rBTzMBRZWTqQmMEpRThexa1SKOqv5gPiv86zB4=           97          97   \n",
       "zyGTjWYdHmv1ssAAZwA1w1vIQFBacFT4Qg9ZgqcEtA=            22          22   \n",
       "\n",
       "                                              retweet_count  hashtags   urls  \\\n",
       "userid                                                                         \n",
       "54107005                                              74836     71489  71489   \n",
       "109273574                                              1698      1516   1698   \n",
       "534528879                                               593       547    552   \n",
       "824772841                                             39567     39569  39569   \n",
       "907691540                                               321       321    321   \n",
       "...                                                     ...       ...    ...   \n",
       "ztZzXBmqhWF5N2qG+b91QU65UAZemBn2hspUFwJjP5k=              6         6      6   \n",
       "zunmJ76UoF+3kyYtRDKq+ODXXMYv6xx9hkgncIy1vA=              14        14     14   \n",
       "zvf1RuTkvS2pnDSXmAnXeaZghEnVSp02gJ2wlW6Z2C0=             34        34     34   \n",
       "zx0B5rBTzMBRZWTqQmMEpRThexa1SKOqv5gPiv86zB4=             97        97     97   \n",
       "zyGTjWYdHmv1ssAAZwA1w1vIQFBacFT4Qg9ZgqcEtA=              22        22     22   \n",
       "\n",
       "                                              user_mentions  poll_choices  \n",
       "userid                                                                     \n",
       "54107005                                              74836             0  \n",
       "109273574                                              1698             0  \n",
       "534528879                                               593             0  \n",
       "824772841                                             39569             0  \n",
       "907691540                                               321             0  \n",
       "...                                                     ...           ...  \n",
       "ztZzXBmqhWF5N2qG+b91QU65UAZemBn2hspUFwJjP5k=              6             0  \n",
       "zunmJ76UoF+3kyYtRDKq+ODXXMYv6xx9hkgncIy1vA=              14             0  \n",
       "zvf1RuTkvS2pnDSXmAnXeaZghEnVSp02gJ2wlW6Z2C0=             34             0  \n",
       "zx0B5rBTzMBRZWTqQmMEpRThexa1SKOqv5gPiv86zB4=             97             0  \n",
       "zyGTjWYdHmv1ssAAZwA1w1vIQFBacFT4Qg9ZgqcEtA=              22             0  \n",
       "\n",
       "[5214 rows x 30 columns]"
      ]
     },
     "execution_count": 40,
     "metadata": {},
     "output_type": "execute_result"
    }
   ],
   "source": [
    "tweets.groupby('userid').count()"
   ]
  },
  {
   "cell_type": "code",
   "execution_count": null,
   "metadata": {},
   "outputs": [],
   "source": []
  }
 ],
 "metadata": {
  "kernelspec": {
   "display_name": "Python 3",
   "language": "python",
   "name": "python3"
  },
  "language_info": {
   "codemirror_mode": {
    "name": "ipython",
    "version": 3
   },
   "file_extension": ".py",
   "mimetype": "text/x-python",
   "name": "python",
   "nbconvert_exporter": "python",
   "pygments_lexer": "ipython3",
   "version": "3.7.6"
  }
 },
 "nbformat": 4,
 "nbformat_minor": 4
}
