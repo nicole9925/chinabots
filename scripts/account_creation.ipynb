{
 "cells": [
  {
   "cell_type": "markdown",
   "metadata": {},
   "source": [
    "# Account Creation\n",
    "\n",
    "Looking into if there are large batches of accounts being created at the same time"
   ]
  },
  {
   "cell_type": "code",
   "execution_count": 62,
   "metadata": {},
   "outputs": [],
   "source": [
    "import pandas as pd\n",
    "import numpy as np\n",
    "import matplotlib.pyplot as plt\n",
    "import matplotlib.dates"
   ]
  },
  {
   "cell_type": "code",
   "execution_count": 2,
   "metadata": {},
   "outputs": [],
   "source": [
    "users1 = pd.read_csv(\"../data/users1.csv\")\n",
    "users2 = pd.read_csv(\"../data/users2.csv\")\n",
    "users3 = pd.read_csv(\"../data/users3.csv\")"
   ]
  },
  {
   "cell_type": "code",
   "execution_count": 17,
   "metadata": {},
   "outputs": [
    {
     "data": {
      "text/html": [
       "<div>\n",
       "<style scoped>\n",
       "    .dataframe tbody tr th:only-of-type {\n",
       "        vertical-align: middle;\n",
       "    }\n",
       "\n",
       "    .dataframe tbody tr th {\n",
       "        vertical-align: top;\n",
       "    }\n",
       "\n",
       "    .dataframe thead th {\n",
       "        text-align: right;\n",
       "    }\n",
       "</style>\n",
       "<table border=\"1\" class=\"dataframe\">\n",
       "  <thead>\n",
       "    <tr style=\"text-align: right;\">\n",
       "      <th></th>\n",
       "      <th>userid</th>\n",
       "      <th>user_display_name</th>\n",
       "      <th>user_screen_name</th>\n",
       "      <th>user_reported_location</th>\n",
       "      <th>user_profile_description</th>\n",
       "      <th>user_profile_url</th>\n",
       "      <th>follower_count</th>\n",
       "      <th>following_count</th>\n",
       "      <th>account_creation_date</th>\n",
       "      <th>account_language</th>\n",
       "    </tr>\n",
       "  </thead>\n",
       "  <tbody>\n",
       "    <tr>\n",
       "      <th>0</th>\n",
       "      <td>uGlAuK3VrvANhAQAiFOJm1nbrXmFTwtmNRNE1g9Yd6k=</td>\n",
       "      <td>uGlAuK3VrvANhAQAiFOJm1nbrXmFTwtmNRNE1g9Yd6k=</td>\n",
       "      <td>uGlAuK3VrvANhAQAiFOJm1nbrXmFTwtmNRNE1g9Yd6k=</td>\n",
       "      <td>中华人民共和国</td>\n",
       "      <td>🥳</td>\n",
       "      <td>NaN</td>\n",
       "      <td>1</td>\n",
       "      <td>15</td>\n",
       "      <td>2019-01-12</td>\n",
       "      <td>zh-cn</td>\n",
       "    </tr>\n",
       "    <tr>\n",
       "      <th>1</th>\n",
       "      <td>+tDWZynsin9nF3PNWStld8JMl7zNLFQP9hnKsFkpngk=</td>\n",
       "      <td>+tDWZynsin9nF3PNWStld8JMl7zNLFQP9hnKsFkpngk=</td>\n",
       "      <td>+tDWZynsin9nF3PNWStld8JMl7zNLFQP9hnKsFkpngk=</td>\n",
       "      <td>NaN</td>\n",
       "      <td>NaN</td>\n",
       "      <td>NaN</td>\n",
       "      <td>21</td>\n",
       "      <td>70</td>\n",
       "      <td>2017-09-27</td>\n",
       "      <td>zh-cn</td>\n",
       "    </tr>\n",
       "    <tr>\n",
       "      <th>2</th>\n",
       "      <td>NNPBUwRmLGV+945vErmcyGIc2rCjh+GBdLJWeccGpIo=</td>\n",
       "      <td>NNPBUwRmLGV+945vErmcyGIc2rCjh+GBdLJWeccGpIo=</td>\n",
       "      <td>NNPBUwRmLGV+945vErmcyGIc2rCjh+GBdLJWeccGpIo=</td>\n",
       "      <td>NaN</td>\n",
       "      <td>NaN</td>\n",
       "      <td>NaN</td>\n",
       "      <td>0</td>\n",
       "      <td>9</td>\n",
       "      <td>2017-08-30</td>\n",
       "      <td>zh-cn</td>\n",
       "    </tr>\n",
       "    <tr>\n",
       "      <th>3</th>\n",
       "      <td>kdrlgclBJnrkyaVcGHEnDL9R3xIjEWYf8CzaOrpOOjc=</td>\n",
       "      <td>kdrlgclBJnrkyaVcGHEnDL9R3xIjEWYf8CzaOrpOOjc=</td>\n",
       "      <td>kdrlgclBJnrkyaVcGHEnDL9R3xIjEWYf8CzaOrpOOjc=</td>\n",
       "      <td>NaN</td>\n",
       "      <td>NaN</td>\n",
       "      <td>NaN</td>\n",
       "      <td>1</td>\n",
       "      <td>62</td>\n",
       "      <td>2017-08-30</td>\n",
       "      <td>zh-cn</td>\n",
       "    </tr>\n",
       "    <tr>\n",
       "      <th>4</th>\n",
       "      <td>14sKta+ATygMbCyCTMAF6sGqsR+FfyuwR4HKPzE05K4=</td>\n",
       "      <td>14sKta+ATygMbCyCTMAF6sGqsR+FfyuwR4HKPzE05K4=</td>\n",
       "      <td>14sKta+ATygMbCyCTMAF6sGqsR+FfyuwR4HKPzE05K4=</td>\n",
       "      <td>NaN</td>\n",
       "      <td>NaN</td>\n",
       "      <td>NaN</td>\n",
       "      <td>4</td>\n",
       "      <td>45</td>\n",
       "      <td>2017-08-30</td>\n",
       "      <td>zh-cn</td>\n",
       "    </tr>\n",
       "  </tbody>\n",
       "</table>\n",
       "</div>"
      ],
      "text/plain": [
       "                                         userid  \\\n",
       "0  uGlAuK3VrvANhAQAiFOJm1nbrXmFTwtmNRNE1g9Yd6k=   \n",
       "1  +tDWZynsin9nF3PNWStld8JMl7zNLFQP9hnKsFkpngk=   \n",
       "2  NNPBUwRmLGV+945vErmcyGIc2rCjh+GBdLJWeccGpIo=   \n",
       "3  kdrlgclBJnrkyaVcGHEnDL9R3xIjEWYf8CzaOrpOOjc=   \n",
       "4  14sKta+ATygMbCyCTMAF6sGqsR+FfyuwR4HKPzE05K4=   \n",
       "\n",
       "                              user_display_name  \\\n",
       "0  uGlAuK3VrvANhAQAiFOJm1nbrXmFTwtmNRNE1g9Yd6k=   \n",
       "1  +tDWZynsin9nF3PNWStld8JMl7zNLFQP9hnKsFkpngk=   \n",
       "2  NNPBUwRmLGV+945vErmcyGIc2rCjh+GBdLJWeccGpIo=   \n",
       "3  kdrlgclBJnrkyaVcGHEnDL9R3xIjEWYf8CzaOrpOOjc=   \n",
       "4  14sKta+ATygMbCyCTMAF6sGqsR+FfyuwR4HKPzE05K4=   \n",
       "\n",
       "                               user_screen_name user_reported_location  \\\n",
       "0  uGlAuK3VrvANhAQAiFOJm1nbrXmFTwtmNRNE1g9Yd6k=                中华人民共和国   \n",
       "1  +tDWZynsin9nF3PNWStld8JMl7zNLFQP9hnKsFkpngk=                    NaN   \n",
       "2  NNPBUwRmLGV+945vErmcyGIc2rCjh+GBdLJWeccGpIo=                    NaN   \n",
       "3  kdrlgclBJnrkyaVcGHEnDL9R3xIjEWYf8CzaOrpOOjc=                    NaN   \n",
       "4  14sKta+ATygMbCyCTMAF6sGqsR+FfyuwR4HKPzE05K4=                    NaN   \n",
       "\n",
       "  user_profile_description user_profile_url  follower_count  following_count  \\\n",
       "0                        🥳              NaN               1               15   \n",
       "1                      NaN              NaN              21               70   \n",
       "2                      NaN              NaN               0                9   \n",
       "3                      NaN              NaN               1               62   \n",
       "4                      NaN              NaN               4               45   \n",
       "\n",
       "  account_creation_date account_language  \n",
       "0            2019-01-12            zh-cn  \n",
       "1            2017-09-27            zh-cn  \n",
       "2            2017-08-30            zh-cn  \n",
       "3            2017-08-30            zh-cn  \n",
       "4            2017-08-30            zh-cn  "
      ]
     },
     "execution_count": 17,
     "metadata": {},
     "output_type": "execute_result"
    }
   ],
   "source": [
    "users = pd.concat([users1, users2, users3])\n",
    "users.head()"
   ]
  },
  {
   "cell_type": "code",
   "execution_count": 18,
   "metadata": {},
   "outputs": [
    {
     "data": {
      "text/html": [
       "<div>\n",
       "<style scoped>\n",
       "    .dataframe tbody tr th:only-of-type {\n",
       "        vertical-align: middle;\n",
       "    }\n",
       "\n",
       "    .dataframe tbody tr th {\n",
       "        vertical-align: top;\n",
       "    }\n",
       "\n",
       "    .dataframe thead th {\n",
       "        text-align: right;\n",
       "    }\n",
       "</style>\n",
       "<table border=\"1\" class=\"dataframe\">\n",
       "  <thead>\n",
       "    <tr style=\"text-align: right;\">\n",
       "      <th></th>\n",
       "      <th>userid</th>\n",
       "      <th>user_display_name</th>\n",
       "      <th>user_screen_name</th>\n",
       "      <th>user_profile_description</th>\n",
       "      <th>account_creation_date</th>\n",
       "      <th>account_language</th>\n",
       "    </tr>\n",
       "  </thead>\n",
       "  <tbody>\n",
       "    <tr>\n",
       "      <th>0</th>\n",
       "      <td>uGlAuK3VrvANhAQAiFOJm1nbrXmFTwtmNRNE1g9Yd6k=</td>\n",
       "      <td>uGlAuK3VrvANhAQAiFOJm1nbrXmFTwtmNRNE1g9Yd6k=</td>\n",
       "      <td>uGlAuK3VrvANhAQAiFOJm1nbrXmFTwtmNRNE1g9Yd6k=</td>\n",
       "      <td>🥳</td>\n",
       "      <td>2019-01-12</td>\n",
       "      <td>zh-cn</td>\n",
       "    </tr>\n",
       "    <tr>\n",
       "      <th>1</th>\n",
       "      <td>+tDWZynsin9nF3PNWStld8JMl7zNLFQP9hnKsFkpngk=</td>\n",
       "      <td>+tDWZynsin9nF3PNWStld8JMl7zNLFQP9hnKsFkpngk=</td>\n",
       "      <td>+tDWZynsin9nF3PNWStld8JMl7zNLFQP9hnKsFkpngk=</td>\n",
       "      <td>NaN</td>\n",
       "      <td>2017-09-27</td>\n",
       "      <td>zh-cn</td>\n",
       "    </tr>\n",
       "    <tr>\n",
       "      <th>2</th>\n",
       "      <td>NNPBUwRmLGV+945vErmcyGIc2rCjh+GBdLJWeccGpIo=</td>\n",
       "      <td>NNPBUwRmLGV+945vErmcyGIc2rCjh+GBdLJWeccGpIo=</td>\n",
       "      <td>NNPBUwRmLGV+945vErmcyGIc2rCjh+GBdLJWeccGpIo=</td>\n",
       "      <td>NaN</td>\n",
       "      <td>2017-08-30</td>\n",
       "      <td>zh-cn</td>\n",
       "    </tr>\n",
       "    <tr>\n",
       "      <th>3</th>\n",
       "      <td>kdrlgclBJnrkyaVcGHEnDL9R3xIjEWYf8CzaOrpOOjc=</td>\n",
       "      <td>kdrlgclBJnrkyaVcGHEnDL9R3xIjEWYf8CzaOrpOOjc=</td>\n",
       "      <td>kdrlgclBJnrkyaVcGHEnDL9R3xIjEWYf8CzaOrpOOjc=</td>\n",
       "      <td>NaN</td>\n",
       "      <td>2017-08-30</td>\n",
       "      <td>zh-cn</td>\n",
       "    </tr>\n",
       "    <tr>\n",
       "      <th>4</th>\n",
       "      <td>14sKta+ATygMbCyCTMAF6sGqsR+FfyuwR4HKPzE05K4=</td>\n",
       "      <td>14sKta+ATygMbCyCTMAF6sGqsR+FfyuwR4HKPzE05K4=</td>\n",
       "      <td>14sKta+ATygMbCyCTMAF6sGqsR+FfyuwR4HKPzE05K4=</td>\n",
       "      <td>NaN</td>\n",
       "      <td>2017-08-30</td>\n",
       "      <td>zh-cn</td>\n",
       "    </tr>\n",
       "  </tbody>\n",
       "</table>\n",
       "</div>"
      ],
      "text/plain": [
       "                                         userid  \\\n",
       "0  uGlAuK3VrvANhAQAiFOJm1nbrXmFTwtmNRNE1g9Yd6k=   \n",
       "1  +tDWZynsin9nF3PNWStld8JMl7zNLFQP9hnKsFkpngk=   \n",
       "2  NNPBUwRmLGV+945vErmcyGIc2rCjh+GBdLJWeccGpIo=   \n",
       "3  kdrlgclBJnrkyaVcGHEnDL9R3xIjEWYf8CzaOrpOOjc=   \n",
       "4  14sKta+ATygMbCyCTMAF6sGqsR+FfyuwR4HKPzE05K4=   \n",
       "\n",
       "                              user_display_name  \\\n",
       "0  uGlAuK3VrvANhAQAiFOJm1nbrXmFTwtmNRNE1g9Yd6k=   \n",
       "1  +tDWZynsin9nF3PNWStld8JMl7zNLFQP9hnKsFkpngk=   \n",
       "2  NNPBUwRmLGV+945vErmcyGIc2rCjh+GBdLJWeccGpIo=   \n",
       "3  kdrlgclBJnrkyaVcGHEnDL9R3xIjEWYf8CzaOrpOOjc=   \n",
       "4  14sKta+ATygMbCyCTMAF6sGqsR+FfyuwR4HKPzE05K4=   \n",
       "\n",
       "                               user_screen_name user_profile_description  \\\n",
       "0  uGlAuK3VrvANhAQAiFOJm1nbrXmFTwtmNRNE1g9Yd6k=                        🥳   \n",
       "1  +tDWZynsin9nF3PNWStld8JMl7zNLFQP9hnKsFkpngk=                      NaN   \n",
       "2  NNPBUwRmLGV+945vErmcyGIc2rCjh+GBdLJWeccGpIo=                      NaN   \n",
       "3  kdrlgclBJnrkyaVcGHEnDL9R3xIjEWYf8CzaOrpOOjc=                      NaN   \n",
       "4  14sKta+ATygMbCyCTMAF6sGqsR+FfyuwR4HKPzE05K4=                      NaN   \n",
       "\n",
       "  account_creation_date account_language  \n",
       "0            2019-01-12            zh-cn  \n",
       "1            2017-09-27            zh-cn  \n",
       "2            2017-08-30            zh-cn  \n",
       "3            2017-08-30            zh-cn  \n",
       "4            2017-08-30            zh-cn  "
      ]
     },
     "execution_count": 18,
     "metadata": {},
     "output_type": "execute_result"
    }
   ],
   "source": [
    "# drop unnecessary columns\n",
    "users = users.drop(labels=['follower_count', 'following_count', 'user_profile_url', 'user_reported_location'],\n",
    "                   axis=1)\n",
    "users.head()"
   ]
  },
  {
   "cell_type": "code",
   "execution_count": 40,
   "metadata": {},
   "outputs": [],
   "source": [
    "#convert to datetime, and then date\n",
    "users_dt = pd.to_datetime(users.account_creation_date).apply(lambda x: x.date())\n",
    "users.loc[:,'account_creation_date'] = users_dt.values"
   ]
  },
  {
   "cell_type": "code",
   "execution_count": 55,
   "metadata": {},
   "outputs": [
    {
     "data": {
      "text/plain": [
       "(1359, 2)"
      ]
     },
     "execution_count": 55,
     "metadata": {},
     "output_type": "execute_result"
    }
   ],
   "source": [
    "account_creation_counts = users.groupby('account_creation_date').count().reset_index()[['account_creation_date', 'userid']]\n",
    "account_creation_counts.shape"
   ]
  },
  {
   "cell_type": "code",
   "execution_count": 67,
   "metadata": {},
   "outputs": [],
   "source": [
    "dates = matplotlib.dates.date2num(account_creation_counts.account_creation_date)\n",
    "account_counts = account_creation_counts.userid.values"
   ]
  },
  {
   "cell_type": "code",
   "execution_count": 60,
   "metadata": {},
   "outputs": [
    {
     "data": {
      "text/plain": [
       "array([1, 1, 1, ..., 1, 1, 2], dtype=int64)"
      ]
     },
     "execution_count": 60,
     "metadata": {},
     "output_type": "execute_result"
    }
   ],
   "source": [
    "account_creation_counts.userid.values"
   ]
  },
  {
   "cell_type": "code",
   "execution_count": 68,
   "metadata": {},
   "outputs": [
    {
     "data": {
      "text/plain": [
       "[<matplotlib.lines.Line2D at 0x20791442390>]"
      ]
     },
     "execution_count": 68,
     "metadata": {},
     "output_type": "execute_result"
    },
    {
     "data": {
      "image/png": "[encoded data removed]",
      "text/plain": [
       "<Figure size 432x288 with 1 Axes>"
      ]
     },
     "metadata": {
      "needs_background": "light"
     },
     "output_type": "display_data"
    }
   ],
   "source": [
    "plt.plot_date(dates, account_counts)"
   ]
  },
  {
   "cell_type": "code",
   "execution_count": null,
   "metadata": {},
   "outputs": [],
   "source": []
  }
 ],
 "metadata": {
  "kernelspec": {
   "display_name": "Python 3",
   "language": "python",
   "name": "python3"
  },
  "language_info": {
   "codemirror_mode": {
    "name": "ipython",
    "version": 3
   },
   "file_extension": ".py",
   "mimetype": "text/x-python",
   "name": "python",
   "nbconvert_exporter": "python",
   "pygments_lexer": "ipython3",
   "version": "3.7.6"
  }
 },
 "nbformat": 4,
 "nbformat_minor": 4
}
