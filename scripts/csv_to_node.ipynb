{
 "cells": [
  {
   "cell_type": "markdown",
   "metadata": {},
   "source": [
    "# csv to nodes\n",
    "based on: https://nbviewer.jupyter.org/github/gwu-libraries/notebooks/blob/master/20170720-building-social-network-graphs-CSV.ipynbc"
   ]
  },
  {
   "cell_type": "code",
   "execution_count": 1,
   "metadata": {},
   "outputs": [],
   "source": [
    "import sys\n",
    "import json\n",
    "import re\n",
    "import numpy as np\n",
    "from datetime import datetime\n",
    "import pandas as pd  \n",
    "from ast import literal_eval"
   ]
  },
  {
   "cell_type": "code",
   "execution_count": 2,
   "metadata": {},
   "outputs": [],
   "source": [
    "tweets1 = pd.read_csv(\"../data/tweets1.csv\", low_memory=False)"
   ]
  },
  {
   "cell_type": "code",
   "execution_count": 3,
   "metadata": {},
   "outputs": [],
   "source": [
    "tweets2 = pd.read_csv(\"../data/tweets2.csv\", low_memory=False)\n",
    "tweets3 = pd.read_csv(\"../data/tweets3_1.csv\", low_memory=False)\n",
    "tweets4 = pd.read_csv(\"../data/tweets3_2.csv\", low_memory=False)\n",
    "tweets5 = pd.read_csv(\"../data/tweets3_3.csv\", low_memory=False)"
   ]
  },
  {
   "cell_type": "code",
   "execution_count": 4,
   "metadata": {},
   "outputs": [
    {
     "data": {
      "text/plain": [
       "(13847731, 31)"
      ]
     },
     "execution_count": 4,
     "metadata": {},
     "output_type": "execute_result"
    }
   ],
   "source": [
    "tweets = pd.concat([tweets1, tweets2, tweets3, tweets4, tweets5])\n",
    "tweets.shape"
   ]
  },
  {
   "cell_type": "code",
   "execution_count": 5,
   "metadata": {},
   "outputs": [
    {
     "data": {
      "text/plain": [
       "Index(['tweetid', 'userid', 'user_display_name', 'user_screen_name',\n",
       "       'user_reported_location', 'user_profile_description',\n",
       "       'user_profile_url', 'follower_count', 'following_count',\n",
       "       'account_creation_date', 'account_language', 'tweet_language',\n",
       "       'tweet_text', 'tweet_time', 'tweet_client_name', 'in_reply_to_userid',\n",
       "       'in_reply_to_tweetid', 'quoted_tweet_tweetid', 'is_retweet',\n",
       "       'retweet_userid', 'retweet_tweetid', 'latitude', 'longitude',\n",
       "       'quote_count', 'reply_count', 'like_count', 'retweet_count', 'hashtags',\n",
       "       'urls', 'user_mentions', 'poll_choices'],\n",
       "      dtype='object')"
      ]
     },
     "execution_count": 5,
     "metadata": {},
     "output_type": "execute_result"
    }
   ],
   "source": [
    "tweets.columns"
   ]
  },
  {
   "cell_type": "code",
   "execution_count": 6,
   "metadata": {},
   "outputs": [
    {
     "data": {
      "text/plain": [
       "(3169578, 3)"
      ]
     },
     "execution_count": 6,
     "metadata": {},
     "output_type": "execute_result"
    }
   ],
   "source": [
    "# 1. Export edges from Retweets\n",
    "\n",
    "edges_retweets = tweets[tweets['is_retweet'] == True][['userid', 'retweet_userid','tweet_time']]\n",
    "edges_retweets.columns = ['Source', 'Target', 'Strength']\n",
    "edges_retweets.shape"
   ]
  },
  {
   "cell_type": "code",
   "execution_count": 7,
   "metadata": {},
   "outputs": [],
   "source": [
    "# 2. Export edges from Mentions\n",
    "\n",
    "# remove interactions w/o mentions\n",
    "mentions = tweets[tweets['user_mentions'].notnull()]\n",
    "mentions = mentions[mentions['user_mentions'] != '[]']\n",
    "mentions['user_mentions'] = mentions['user_mentions'].apply(literal_eval)"
   ]
  },
  {
   "cell_type": "code",
   "execution_count": 8,
   "metadata": {},
   "outputs": [],
   "source": [
    "#explode mentions and convert to edge graph\n",
    "mentions_exploded = mentions.explode('user_mentions')\n",
    "edges_mentions = mentions_exploded[['userid','user_mentions','tweet_time']]\n",
    "edges_mentions.columns = ['Source','Target','Strength']"
   ]
  },
  {
   "cell_type": "code",
   "execution_count": 9,
   "metadata": {},
   "outputs": [],
   "source": [
    "# 3. Export edges from Replies\n",
    "\n",
    "replies = tweets[tweets['in_reply_to_userid'].notnull()]\n",
    "\n",
    "edges_replies = replies[['userid', 'in_reply_to_userid','tweet_time']]\n",
    "edges_replies.columns = ['Source', 'Target', 'Strength']"
   ]
  },
  {
   "cell_type": "code",
   "execution_count": 10,
   "metadata": {},
   "outputs": [
    {
     "data": {
      "text/plain": [
       "((3937160, 3), (11443501, 3), (3169578, 3))"
      ]
     },
     "execution_count": 10,
     "metadata": {},
     "output_type": "execute_result"
    }
   ],
   "source": [
    "edges_replies.shape, edges_mentions.shape, edges_retweets.shape"
   ]
  },
  {
   "cell_type": "code",
   "execution_count": 11,
   "metadata": {},
   "outputs": [
    {
     "data": {
      "text/plain": [
       "(18550239, 3)"
      ]
     },
     "execution_count": 11,
     "metadata": {},
     "output_type": "execute_result"
    }
   ],
   "source": [
    "edges = pd.concat([edges_replies, edges_mentions, edges_retweets])\n",
    "edges.shape"
   ]
  },
  {
   "cell_type": "code",
   "execution_count": 12,
   "metadata": {},
   "outputs": [
    {
     "data": {
      "text/plain": [
       "(10986674, 3)"
      ]
     },
     "execution_count": 12,
     "metadata": {},
     "output_type": "execute_result"
    }
   ],
   "source": [
    "edges = edges.drop_duplicates(['Source', 'Target', 'Strength'], keep = 'first')\n",
    "edges.shape"
   ]
  },
  {
   "cell_type": "code",
   "execution_count": 13,
   "metadata": {},
   "outputs": [],
   "source": [
    "strengthLevel = 3  # Network connection strength level: the number of times in total each of the tweeters responded to or mentioned the other.\n",
    "                   # If you have 1 as the level, then all tweeters who mentioned or replied to another at least once will be displayed. But if you have 5, only those who have mentioned or responded to a particular tweeter at least 5 times will be displayed, which means that only the strongest bonds are shown.\n",
    "\n",
    "\n",
    "# CHANGE THIS LINE TO CHANGE TYPE OF EDGE COUNT\n",
    "edges2 = edges.groupby(['Source','Target'])['Strength'].count()\n",
    "edges2 = edges2.reset_index()\n",
    "edges2 = edges2[edges2['Strength'] >= strengthLevel]"
   ]
  },
  {
   "cell_type": "code",
   "execution_count": null,
   "metadata": {},
   "outputs": [],
   "source": []
  },
  {
   "cell_type": "code",
   "execution_count": 14,
   "metadata": {},
   "outputs": [],
   "source": [
    "# Export nodes from the edges and add node attributes for both Sources and Targets.\n",
    "\n",
    "users = tweets[['userid','follower_count', 'following_count']]\n",
    "users = users.sort_values(['userid','follower_count'], ascending=[True, False])\n",
    "users = users.drop_duplicates(['userid'], keep='first') \n",
    "users.columns = ['Id', 'follower_count', 'following_count']\n",
    "\n",
    "ids = edges2['Source'].append(edges2['Target']).to_frame()\n",
    "ids['Label'] = ids\n",
    "ids.columns = ['Id', 'Label']\n",
    "ids = ids.drop_duplicates(['Id'], keep='first')"
   ]
  },
  {
   "cell_type": "code",
   "execution_count": 15,
   "metadata": {},
   "outputs": [],
   "source": [
    "nodes = pd.merge(ids, users, on='Id', how='right')"
   ]
  },
  {
   "cell_type": "code",
   "execution_count": 16,
   "metadata": {},
   "outputs": [
    {
     "name": "stdout",
     "output_type": "stream",
     "text": [
      "(5191, 4)\n",
      "(439728, 3)\n"
     ]
    }
   ],
   "source": [
    "print(nodes.shape)\n",
    "print(edges2.shape)"
   ]
  },
  {
   "cell_type": "code",
   "execution_count": 17,
   "metadata": {},
   "outputs": [
    {
     "data": {
      "text/html": [
       "<div>\n",
       "<style scoped>\n",
       "    .dataframe tbody tr th:only-of-type {\n",
       "        vertical-align: middle;\n",
       "    }\n",
       "\n",
       "    .dataframe tbody tr th {\n",
       "        vertical-align: top;\n",
       "    }\n",
       "\n",
       "    .dataframe thead th {\n",
       "        text-align: right;\n",
       "    }\n",
       "</style>\n",
       "<table border=\"1\" class=\"dataframe\">\n",
       "  <thead>\n",
       "    <tr style=\"text-align: right;\">\n",
       "      <th></th>\n",
       "      <th>Id</th>\n",
       "      <th>Label</th>\n",
       "      <th>follower_count</th>\n",
       "      <th>following_count</th>\n",
       "    </tr>\n",
       "  </thead>\n",
       "  <tbody>\n",
       "    <tr>\n",
       "      <th>0</th>\n",
       "      <td>++ef3C0Kijge2nRlhqtBnIK9ULUQOE0YeSEQ83P+o=</td>\n",
       "      <td>++ef3C0Kijge2nRlhqtBnIK9ULUQOE0YeSEQ83P+o=</td>\n",
       "      <td>0</td>\n",
       "      <td>10</td>\n",
       "    </tr>\n",
       "    <tr>\n",
       "      <th>1</th>\n",
       "      <td>+3IgsYSyatx7xFWru0gBPqI5wU2Mg9XAtMMwA4omJU8=</td>\n",
       "      <td>+3IgsYSyatx7xFWru0gBPqI5wU2Mg9XAtMMwA4omJU8=</td>\n",
       "      <td>1</td>\n",
       "      <td>2</td>\n",
       "    </tr>\n",
       "    <tr>\n",
       "      <th>2</th>\n",
       "      <td>+57fv5Mr90uu0Oihtjow368S6WZhSdFIydtLcHDyzg0=</td>\n",
       "      <td>+57fv5Mr90uu0Oihtjow368S6WZhSdFIydtLcHDyzg0=</td>\n",
       "      <td>6</td>\n",
       "      <td>29</td>\n",
       "    </tr>\n",
       "    <tr>\n",
       "      <th>3</th>\n",
       "      <td>+AG1yidnkMeRXPhzyZCqlfw1B8sKWJy1SiZXYcOkyg8=</td>\n",
       "      <td>+AG1yidnkMeRXPhzyZCqlfw1B8sKWJy1SiZXYcOkyg8=</td>\n",
       "      <td>0</td>\n",
       "      <td>12</td>\n",
       "    </tr>\n",
       "    <tr>\n",
       "      <th>4</th>\n",
       "      <td>+B2YBWL5Sen6rfThzwlgJ++dO8nCOP9MVBeshDa5zWA=</td>\n",
       "      <td>+B2YBWL5Sen6rfThzwlgJ++dO8nCOP9MVBeshDa5zWA=</td>\n",
       "      <td>0</td>\n",
       "      <td>0</td>\n",
       "    </tr>\n",
       "  </tbody>\n",
       "</table>\n",
       "</div>"
      ],
      "text/plain": [
       "                                             Id  \\\n",
       "0    ++ef3C0Kijge2nRlhqtBnIK9ULUQOE0YeSEQ83P+o=   \n",
       "1  +3IgsYSyatx7xFWru0gBPqI5wU2Mg9XAtMMwA4omJU8=   \n",
       "2  +57fv5Mr90uu0Oihtjow368S6WZhSdFIydtLcHDyzg0=   \n",
       "3  +AG1yidnkMeRXPhzyZCqlfw1B8sKWJy1SiZXYcOkyg8=   \n",
       "4  +B2YBWL5Sen6rfThzwlgJ++dO8nCOP9MVBeshDa5zWA=   \n",
       "\n",
       "                                          Label  follower_count  \\\n",
       "0    ++ef3C0Kijge2nRlhqtBnIK9ULUQOE0YeSEQ83P+o=               0   \n",
       "1  +3IgsYSyatx7xFWru0gBPqI5wU2Mg9XAtMMwA4omJU8=               1   \n",
       "2  +57fv5Mr90uu0Oihtjow368S6WZhSdFIydtLcHDyzg0=               6   \n",
       "3  +AG1yidnkMeRXPhzyZCqlfw1B8sKWJy1SiZXYcOkyg8=               0   \n",
       "4  +B2YBWL5Sen6rfThzwlgJ++dO8nCOP9MVBeshDa5zWA=               0   \n",
       "\n",
       "   following_count  \n",
       "0               10  \n",
       "1                2  \n",
       "2               29  \n",
       "3               12  \n",
       "4                0  "
      ]
     },
     "execution_count": 17,
     "metadata": {},
     "output_type": "execute_result"
    }
   ],
   "source": [
    "# Print nodes to check\n",
    "nodes.head()"
   ]
  },
  {
   "cell_type": "code",
   "execution_count": 18,
   "metadata": {},
   "outputs": [
    {
     "data": {
      "text/html": [
       "<div>\n",
       "<style scoped>\n",
       "    .dataframe tbody tr th:only-of-type {\n",
       "        vertical-align: middle;\n",
       "    }\n",
       "\n",
       "    .dataframe tbody tr th {\n",
       "        vertical-align: top;\n",
       "    }\n",
       "\n",
       "    .dataframe thead th {\n",
       "        text-align: right;\n",
       "    }\n",
       "</style>\n",
       "<table border=\"1\" class=\"dataframe\">\n",
       "  <thead>\n",
       "    <tr style=\"text-align: right;\">\n",
       "      <th></th>\n",
       "      <th>Id</th>\n",
       "      <th>follower_count</th>\n",
       "      <th>following_count</th>\n",
       "    </tr>\n",
       "  </thead>\n",
       "  <tbody>\n",
       "    <tr>\n",
       "      <th>2729</th>\n",
       "      <td>++ef3C0Kijge2nRlhqtBnIK9ULUQOE0YeSEQ83P+o=</td>\n",
       "      <td>0</td>\n",
       "      <td>10</td>\n",
       "    </tr>\n",
       "    <tr>\n",
       "      <th>563455</th>\n",
       "      <td>+0llyRnQonFaRwD8XWF3WNBAJ2cbgV2Sot6nZwHzf0c=</td>\n",
       "      <td>0</td>\n",
       "      <td>44</td>\n",
       "    </tr>\n",
       "    <tr>\n",
       "      <th>938354</th>\n",
       "      <td>+1mvzLvnEJsqyRmB62F1YTUfpJU47pZDzk9NttisEo=</td>\n",
       "      <td>0</td>\n",
       "      <td>0</td>\n",
       "    </tr>\n",
       "    <tr>\n",
       "      <th>80821</th>\n",
       "      <td>+3IgsYSyatx7xFWru0gBPqI5wU2Mg9XAtMMwA4omJU8=</td>\n",
       "      <td>1</td>\n",
       "      <td>2</td>\n",
       "    </tr>\n",
       "    <tr>\n",
       "      <th>1836400</th>\n",
       "      <td>+3zsHbEJuQ4nZCRZiUM3F1hQ7YuQWl89kxtOWmcEyks=</td>\n",
       "      <td>0</td>\n",
       "      <td>0</td>\n",
       "    </tr>\n",
       "  </tbody>\n",
       "</table>\n",
       "</div>"
      ],
      "text/plain": [
       "                                                   Id  follower_count  \\\n",
       "2729       ++ef3C0Kijge2nRlhqtBnIK9ULUQOE0YeSEQ83P+o=               0   \n",
       "563455   +0llyRnQonFaRwD8XWF3WNBAJ2cbgV2Sot6nZwHzf0c=               0   \n",
       "938354    +1mvzLvnEJsqyRmB62F1YTUfpJU47pZDzk9NttisEo=               0   \n",
       "80821    +3IgsYSyatx7xFWru0gBPqI5wU2Mg9XAtMMwA4omJU8=               1   \n",
       "1836400  +3zsHbEJuQ4nZCRZiUM3F1hQ7YuQWl89kxtOWmcEyks=               0   \n",
       "\n",
       "         following_count  \n",
       "2729                  10  \n",
       "563455                44  \n",
       "938354                 0  \n",
       "80821                  2  \n",
       "1836400                0  "
      ]
     },
     "execution_count": 18,
     "metadata": {},
     "output_type": "execute_result"
    }
   ],
   "source": [
    "users.head()"
   ]
  },
  {
   "cell_type": "code",
   "execution_count": 20,
   "metadata": {},
   "outputs": [
    {
     "data": {
      "text/plain": [
       "(14054, 3)"
      ]
     },
     "execution_count": 20,
     "metadata": {},
     "output_type": "execute_result"
    }
   ],
   "source": [
    "# see the interactions only within the network\n",
    "edges2 = edges2[edges2.Source.isin(users.Id) & edges2.Target.isin(users.Id)]\n",
    "edges2.shape"
   ]
  },
  {
   "cell_type": "code",
   "execution_count": 21,
   "metadata": {},
   "outputs": [],
   "source": [
    "# Export nodes and edges to csv files\n",
    "users.to_csv('../data/users.csv', encoding='utf-8', index=False)\n",
    "edges2.to_csv('../data/edges.csv', encoding='utf-8', index=False)\n",
    "nodes.to_csv('../data/nodes.csv', encoding='utf-8', index=False)"
   ]
  },
  {
   "cell_type": "code",
   "execution_count": null,
   "metadata": {},
   "outputs": [],
   "source": [
    "tweets[tweets['userid'] == '480709771']"
   ]
  },
  {
   "cell_type": "code",
   "execution_count": null,
   "metadata": {},
   "outputs": [],
   "source": [
    "edges2.shape"
   ]
  },
  {
   "cell_type": "code",
   "execution_count": null,
   "metadata": {},
   "outputs": [],
   "source": [
    "edges2.shape"
   ]
  },
  {
   "cell_type": "code",
   "execution_count": null,
   "metadata": {},
   "outputs": [],
   "source": []
  }
 ],
 "metadata": {
  "kernelspec": {
   "display_name": "Python 3",
   "language": "python",
   "name": "python3"
  },
  "language_info": {
   "codemirror_mode": {
    "name": "ipython",
    "version": 3
   },
   "file_extension": ".py",
   "mimetype": "text/x-python",
   "name": "python",
   "nbconvert_exporter": "python",
   "pygments_lexer": "ipython3",
   "version": "3.7.1"
  }
 },
 "nbformat": 4,
 "nbformat_minor": 4
}
