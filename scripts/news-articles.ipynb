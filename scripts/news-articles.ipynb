{
 "cells": [
  {
   "cell_type": "code",
   "execution_count": 67,
   "metadata": {},
   "outputs": [],
   "source": [
    "import requests as req\n",
    "from bs4 import BeautifulSoup\n",
    "import json\n",
    "import re\n",
    "import pandas as pd"
   ]
  },
  {
   "cell_type": "markdown",
   "metadata": {},
   "source": [
    "# SMCP"
   ]
  },
  {
   "cell_type": "code",
   "execution_count": 13,
   "metadata": {},
   "outputs": [],
   "source": [
    "url = \"http://web.archive.org/cdx/search/cdx?url=https://www.scmp.com/news/hong-kong&from=2019&to=2020\"\n",
    "urls = req.get(url).text"
   ]
  },
  {
   "cell_type": "code",
   "execution_count": 75,
   "metadata": {},
   "outputs": [],
   "source": [
    "# dates = re.findall(\"\\d{14}\", urls)[::10]\n",
    "# articles = {}\n",
    "# for i in dates:\n",
    "#     print(i)\n",
    "#     if int(i) > 20191203170616:\n",
    "#         break\n",
    "#     request = req.get(\"https://web.archive.org/web/\" + i + \"/https://www.scmp.com/news/hong-kong\")\n",
    "#     soup = BeautifulSoup(request.text)\n",
    "#     attempt = soup.findAll(\"h2\", {\"class\": \"node-title lvl_5-title\"})\n",
    "#     if len(attempt) == 0: \n",
    "#         attempt = soup.findAll(\"div\", {\"class\": \"article__title\"})\n",
    "#         if len(attempt) == 0:\n",
    "#             print(\"changed at \" + i)\n",
    "#             continue\n",
    "#     titles = []\n",
    "#     for title in attempt:\n",
    "#         titles.append(title.text)\n",
    "#     articles[i] = titles"
   ]
  },
  {
   "cell_type": "code",
   "execution_count": 73,
   "metadata": {},
   "outputs": [],
   "source": [
    "articles = pd.Series(articles).to_frame()\n",
    "articles.to_csv(\"../data/articles.csv\", header=True, index=False)"
   ]
  },
  {
   "cell_type": "code",
   "execution_count": 74,
   "metadata": {},
   "outputs": [
    {
     "data": {
      "text/html": [
       "<div>\n",
       "<style scoped>\n",
       "    .dataframe tbody tr th:only-of-type {\n",
       "        vertical-align: middle;\n",
       "    }\n",
       "\n",
       "    .dataframe tbody tr th {\n",
       "        vertical-align: top;\n",
       "    }\n",
       "\n",
       "    .dataframe thead th {\n",
       "        text-align: right;\n",
       "    }\n",
       "</style>\n",
       "<table border=\"1\" class=\"dataframe\">\n",
       "  <thead>\n",
       "    <tr style=\"text-align: right;\">\n",
       "      <th></th>\n",
       "      <th>0</th>\n",
       "    </tr>\n",
       "  </thead>\n",
       "  <tbody>\n",
       "    <tr>\n",
       "      <th>20190101004040</th>\n",
       "      <td>[Higher train fares, tunnel tolls, power bills...</td>\n",
       "    </tr>\n",
       "    <tr>\n",
       "      <th>20190105091102</th>\n",
       "      <td>[No-shows and early exits – rural chiefs’ dism...</td>\n",
       "    </tr>\n",
       "    <tr>\n",
       "      <th>20190109005615</th>\n",
       "      <td>[‘Vatican concern with China relations’ led to...</td>\n",
       "    </tr>\n",
       "    <tr>\n",
       "      <th>20190111130940</th>\n",
       "      <td>[Join us and demand age limit U-turn, pan-dems...</td>\n",
       "    </tr>\n",
       "    <tr>\n",
       "      <th>20190115045903</th>\n",
       "      <td>[Cambodian crackdown after Yingluck used passp...</td>\n",
       "    </tr>\n",
       "  </tbody>\n",
       "</table>\n",
       "</div>"
      ],
      "text/plain": [
       "                                                                0\n",
       "20190101004040  [Higher train fares, tunnel tolls, power bills...\n",
       "20190105091102  [No-shows and early exits – rural chiefs’ dism...\n",
       "20190109005615  [‘Vatican concern with China relations’ led to...\n",
       "20190111130940  [Join us and demand age limit U-turn, pan-dems...\n",
       "20190115045903  [Cambodian crackdown after Yingluck used passp..."
      ]
     },
     "execution_count": 74,
     "metadata": {},
     "output_type": "execute_result"
    }
   ],
   "source": [
    "articles.head()"
   ]
  },
  {
   "cell_type": "markdown",
   "metadata": {},
   "source": [
    "# WenWeiPo"
   ]
  },
  {
   "cell_type": "code",
   "execution_count": 93,
   "metadata": {},
   "outputs": [],
   "source": [
    "url = \"http://web.archive.org/cdx/search/cdx?url=http://news.wenweipo.com&from=2019&to=2020\""
   ]
  },
  {
   "cell_type": "code",
   "execution_count": 113,
   "metadata": {},
   "outputs": [],
   "source": [
    "dates = re.findall(\"\\d{14}\", urls)[::10]\n",
    "articles = {}\n",
    "for i in dates:\n",
    "    if int(i) > 20191203170616:\n",
    "        break\n",
    "    request = req.get(\"https://web.archive.org/web/\"+i+\"/http://news.wenweipo.com/list_news.php?cat=000IN&instantCat=hk\")\n",
    "    soup = BeautifulSoup(request.text)\n",
    "    attempt = soup.findAll(\"h2\")\n",
    "    if len(attempt) == 0: \n",
    "        print(\"changed at \" + i)\n",
    "        continue\n",
    "    titles = []\n",
    "    for title in attempt:\n",
    "        titles.append(title.text)\n",
    "    articles[i] = titles"
   ]
  },
  {
   "cell_type": "code",
   "execution_count": 114,
   "metadata": {},
   "outputs": [],
   "source": [
    "articles = pd.Series(articles).to_frame()\n",
    "articles.to_csv(\"../data/wenweipo_articles.csv\", header=True, index=False)"
   ]
  },
  {
   "cell_type": "code",
   "execution_count": 115,
   "metadata": {},
   "outputs": [
    {
     "data": {
      "text/html": [
       "<div>\n",
       "<style scoped>\n",
       "    .dataframe tbody tr th:only-of-type {\n",
       "        vertical-align: middle;\n",
       "    }\n",
       "\n",
       "    .dataframe tbody tr th {\n",
       "        vertical-align: top;\n",
       "    }\n",
       "\n",
       "    .dataframe thead th {\n",
       "        text-align: right;\n",
       "    }\n",
       "</style>\n",
       "<table border=\"1\" class=\"dataframe\">\n",
       "  <thead>\n",
       "    <tr style=\"text-align: right;\">\n",
       "      <th></th>\n",
       "      <th>0</th>\n",
       "    </tr>\n",
       "  </thead>\n",
       "  <tbody>\n",
       "    <tr>\n",
       "      <th>20190101004040</th>\n",
       "      <td>[王志民會見內蒙古自治區主席布小林, 圖集|萬聖節「搞鬼」 玩具街變「猛鬼街」, 回應馬凱簽...</td>\n",
       "    </tr>\n",
       "    <tr>\n",
       "      <th>20190105091102</th>\n",
       "      <td>[王志民會見內蒙古自治區主席布小林, 圖集|萬聖節「搞鬼」 玩具街變「猛鬼街」, 回應馬凱簽...</td>\n",
       "    </tr>\n",
       "    <tr>\n",
       "      <th>20190109005615</th>\n",
       "      <td>[王志民會見內蒙古自治區主席布小林, 圖集|萬聖節「搞鬼」 玩具街變「猛鬼街」, 回應馬凱簽...</td>\n",
       "    </tr>\n",
       "    <tr>\n",
       "      <th>20190111130940</th>\n",
       "      <td>[王志民會見內蒙古自治區主席布小林, 圖集|萬聖節「搞鬼」 玩具街變「猛鬼街」, 回應馬凱簽...</td>\n",
       "    </tr>\n",
       "    <tr>\n",
       "      <th>20190115045903</th>\n",
       "      <td>[王志民會見內蒙古自治區主席布小林, 圖集|萬聖節「搞鬼」 玩具街變「猛鬼街」, 回應馬凱簽...</td>\n",
       "    </tr>\n",
       "    <tr>\n",
       "      <th>...</th>\n",
       "      <td>...</td>\n",
       "    </tr>\n",
       "    <tr>\n",
       "      <th>20191125061328</th>\n",
       "      <td>[3人涉竹枝堵路軌 准保釋禁參與逾10人公眾集會 , 港反對派議員倡修法為暴徒減罪   暴徒...</td>\n",
       "    </tr>\n",
       "    <tr>\n",
       "      <th>20191127070014</th>\n",
       "      <td>[3人涉竹枝堵路軌 准保釋禁參與逾10人公眾集會 , 港反對派議員倡修法為暴徒減罪   暴徒...</td>\n",
       "    </tr>\n",
       "    <tr>\n",
       "      <th>20191130124932</th>\n",
       "      <td>[3人涉竹枝堵路軌 准保釋禁參與逾10人公眾集會 , 港反對派議員倡修法為暴徒減罪   暴徒...</td>\n",
       "    </tr>\n",
       "    <tr>\n",
       "      <th>20191202025211</th>\n",
       "      <td>[3人涉竹枝堵路軌 准保釋禁參與逾10人公眾集會 , 港反對派議員倡修法為暴徒減罪   暴徒...</td>\n",
       "    </tr>\n",
       "    <tr>\n",
       "      <th>20191203170616</th>\n",
       "      <td>[3人涉竹枝堵路軌 准保釋禁參與逾10人公眾集會 , 港反對派議員倡修法為暴徒減罪   暴徒...</td>\n",
       "    </tr>\n",
       "  </tbody>\n",
       "</table>\n",
       "<p>131 rows × 1 columns</p>\n",
       "</div>"
      ],
      "text/plain": [
       "                                                                0\n",
       "20190101004040  [王志民會見內蒙古自治區主席布小林, 圖集|萬聖節「搞鬼」 玩具街變「猛鬼街」, 回應馬凱簽...\n",
       "20190105091102  [王志民會見內蒙古自治區主席布小林, 圖集|萬聖節「搞鬼」 玩具街變「猛鬼街」, 回應馬凱簽...\n",
       "20190109005615  [王志民會見內蒙古自治區主席布小林, 圖集|萬聖節「搞鬼」 玩具街變「猛鬼街」, 回應馬凱簽...\n",
       "20190111130940  [王志民會見內蒙古自治區主席布小林, 圖集|萬聖節「搞鬼」 玩具街變「猛鬼街」, 回應馬凱簽...\n",
       "20190115045903  [王志民會見內蒙古自治區主席布小林, 圖集|萬聖節「搞鬼」 玩具街變「猛鬼街」, 回應馬凱簽...\n",
       "...                                                           ...\n",
       "20191125061328  [3人涉竹枝堵路軌 准保釋禁參與逾10人公眾集會 , 港反對派議員倡修法為暴徒減罪   暴徒...\n",
       "20191127070014  [3人涉竹枝堵路軌 准保釋禁參與逾10人公眾集會 , 港反對派議員倡修法為暴徒減罪   暴徒...\n",
       "20191130124932  [3人涉竹枝堵路軌 准保釋禁參與逾10人公眾集會 , 港反對派議員倡修法為暴徒減罪   暴徒...\n",
       "20191202025211  [3人涉竹枝堵路軌 准保釋禁參與逾10人公眾集會 , 港反對派議員倡修法為暴徒減罪   暴徒...\n",
       "20191203170616  [3人涉竹枝堵路軌 准保釋禁參與逾10人公眾集會 , 港反對派議員倡修法為暴徒減罪   暴徒...\n",
       "\n",
       "[131 rows x 1 columns]"
      ]
     },
     "execution_count": 115,
     "metadata": {},
     "output_type": "execute_result"
    }
   ],
   "source": [
    "articles "
   ]
  },
  {
   "cell_type": "code",
   "execution_count": 110,
   "metadata": {},
   "outputs": [],
   "source": [
    "request = req.get(\"https://web.archive.org/web/\" + dates[0] + \"/https://www.scmp.com/news/hong-kong\")\n",
    "soup = BeautifulSoup(request.text)\n",
    "attempt = soup.findAll(\"h2\", {\"class\": \"node-title\"})"
   ]
  },
  {
   "cell_type": "code",
   "execution_count": 111,
   "metadata": {},
   "outputs": [
    {
     "data": {
      "text/plain": [
       "[<h2 class=\"node-title lvl_5-title\"><a href=\"/web/20190101004040/https://www.scmp.com/news/hong-kong/society/article/2180182/hong-kong-sees-new-year-and-along-it-higher-train-fares\" title=\"Higher train fares, tunnel tolls, power bills and parking fees – happy 2019!\">Higher train fares, tunnel tolls, power bills and parking fees – happy 2019!</a></h2>,\n",
       " <h2 class=\"node-title lvl_2-title\"><a href=\"/web/20190101004040/https://www.scmp.com/news/hong-kong/politics/article/2180056/embattled-rail-boss-beleaguered-justice-minister-rejected\" title=\"A look at some of the people who made the news in Hong Kong this year\">A look at some of the people who made the news in Hong Kong this year</a></h2>,\n",
       " <h2 class=\"node-title lvl_1-title\"><a href=\"/web/20190101004040/https://www.scmp.com/week-asia/society/article/2178913/last-christmas-i-gave-you-my-body-hong-kongs-professional\" title=\"Last Christmas, I gave you my body: Hong Kong’s professional partners\">Last Christmas, I gave you my body: Hong Kong’s professional partners</a></h2>,\n",
       " <h2 class=\"node-title lvl_1-title\"><a href=\"/web/20190101004040/https://www.scmp.com/news/hong-kong/hong-kong-economy/article/2179233/hong-kong-whizz-kid-who-wants-revolutionise-way-we\" title=\"The whizz kid who wants to revolutionise cryptocurrency\">The whizz kid who wants to revolutionise cryptocurrency</a></h2>]"
      ]
     },
     "execution_count": 111,
     "metadata": {},
     "output_type": "execute_result"
    }
   ],
   "source": [
    "attempt"
   ]
  },
  {
   "cell_type": "code",
   "execution_count": null,
   "metadata": {},
   "outputs": [],
   "source": []
  }
 ],
 "metadata": {
  "kernelspec": {
   "display_name": "Python 3",
   "language": "python",
   "name": "python3"
  },
  "language_info": {
   "codemirror_mode": {
    "name": "ipython",
    "version": 3
   },
   "file_extension": ".py",
   "mimetype": "text/x-python",
   "name": "python",
   "nbconvert_exporter": "python",
   "pygments_lexer": "ipython3",
   "version": "3.8.3"
  }
 },
 "nbformat": 4,
 "nbformat_minor": 4
}
