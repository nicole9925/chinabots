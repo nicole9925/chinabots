{
 "cells": [
  {
   "cell_type": "code",
   "execution_count": 1,
   "metadata": {},
   "outputs": [],
   "source": [
    "import pyspark\n",
    "from pyspark import SparkFiles\n",
    "from pyspark import SparkContext\n",
    "from pyspark.sql import Row\n",
    "from pyspark.sql import SQLContext\n",
    "from pyspark.sql import DataFrame\n",
    "from pyspark.sql.types import *\n",
    "from functools import reduce"
   ]
  },
  {
   "cell_type": "code",
   "execution_count": 3,
   "metadata": {},
   "outputs": [],
   "source": [
    "sc.stop()"
   ]
  },
  {
   "cell_type": "code",
   "execution_count": 4,
   "metadata": {},
   "outputs": [],
   "source": [
    "# Initialize Pyspark\n",
    "sc = pyspark.SparkContext()\n",
    "sqlContext = SQLContext(sc)"
   ]
  },
  {
   "cell_type": "markdown",
   "metadata": {},
   "source": [
    "## Import Data"
   ]
  },
  {
   "cell_type": "code",
   "execution_count": 5,
   "metadata": {},
   "outputs": [],
   "source": [
    "paths = [\"/Users/nicole/Desktop/projects/china bots/chinabots/data/tweets1.csv\", \"/Users/nicole/Desktop/projects/china bots/chinabots/data/tweets2.csv\", \"/Users/nicole/Desktop/projects/china bots/chinabots/data/tweets3_1.csv\", \"/Users/nicole/Desktop/projects/china bots/chinabots/data/tweets3_2.csv\", \"/Users/nicole/Desktop/projects/china bots/chinabots/data/tweets3_3.csv\", \"/Users/nicole/Desktop/projects/china bots/chinabots/data/users1.csv\", \"/Users/nicole/Desktop/projects/china bots/chinabots/data/users2.csv\", \"/Users/nicole/Desktop/projects/china bots/chinabots/data/users3.csv\"]\n",
    "for path in paths:\n",
    "    sc.addFile(path)\n",
    "\n",
    "tweets1 = sqlContext.read.csv(SparkFiles.get(paths[0]), header=True, inferSchema=True)\n",
    "tweets2 = sqlContext.read.csv(SparkFiles.get(paths[1]), header=True, inferSchema=True)\n",
    "tweets31 = sqlContext.read.csv(SparkFiles.get(paths[2]), header=True, inferSchema=True)\n",
    "tweets32 = sqlContext.read.csv(SparkFiles.get(paths[3]), header=True, inferSchema=True)\n",
    "tweets33 = sqlContext.read.csv(SparkFiles.get(paths[4]), header=True, inferSchema=True)\n",
    "\n",
    "users1 = sqlContext.read.csv(SparkFiles.get(paths[5]), header=True, inferSchema=True)\n",
    "users2 = sqlContext.read.csv(SparkFiles.get(paths[6]), header=True, inferSchema=True)\n",
    "users3 = sqlContext.read.csv(SparkFiles.get(paths[7]), header=True, inferSchema=True)"
   ]
  },
  {
   "cell_type": "code",
   "execution_count": 6,
   "metadata": {},
   "outputs": [],
   "source": [
    "tweets_df = [tweets1, tweets2, tweets31, tweets32, tweets33]\n",
    "tweets = reduce(DataFrame.unionAll, tweets_df)\n",
    "\n",
    "users_df = [users1, users2, users3]\n",
    "users = reduce(DataFrame.unionAll, users_df)"
   ]
  },
  {
   "cell_type": "code",
   "execution_count": 7,
   "metadata": {},
   "outputs": [],
   "source": [
    "def convertColumn(df, names, newType):\n",
    "    for name in names: \n",
    "        df = df.withColumn(name, df[name].cast(newType))\n",
    "    return df "
   ]
  },
  {
   "cell_type": "code",
   "execution_count": 8,
   "metadata": {},
   "outputs": [
    {
     "name": "stdout",
     "output_type": "stream",
     "text": [
      "root\n",
      " |-- userid: integer (nullable = true)\n",
      " |-- user_display_name: string (nullable = true)\n",
      " |-- user_screen_name: string (nullable = true)\n",
      " |-- user_reported_location: string (nullable = true)\n",
      " |-- user_profile_description: string (nullable = true)\n",
      " |-- user_profile_url: string (nullable = true)\n",
      " |-- follower_count: integer (nullable = true)\n",
      " |-- following_count: integer (nullable = true)\n",
      " |-- account_creation_date: string (nullable = true)\n",
      " |-- account_language: string (nullable = true)\n",
      "\n"
     ]
    }
   ],
   "source": [
    "##### Clean dataframes ####\n",
    "tweets_int_features = [\"userid\"]\n",
    "tweets = convertColumn(tweets, tweets_int_features, IntegerType())\n",
    "# drop duplicate albums\n",
    "tweets = reduce(DataFrame.drop, [\"follower_count\", \"following_count\"], tweets)\n",
    "\n",
    "users_int_features = [\"userid\", \"follower_count\", \"following_count\"]\n",
    "users = convertColumn(users, users_int_features, IntegerType())\n",
    "users.printSchema()"
   ]
  },
  {
   "cell_type": "code",
   "execution_count": 11,
   "metadata": {},
   "outputs": [
    {
     "name": "stdout",
     "output_type": "stream",
     "text": [
      "+------+--------------------+--------------------+----------------------+------------------------+----------------+--------------+---------------+---------------------+----------------+\n",
      "|userid|   user_display_name|    user_screen_name|user_reported_location|user_profile_description|user_profile_url|follower_count|following_count|account_creation_date|account_language|\n",
      "+------+--------------------+--------------------+----------------------+------------------------+----------------+--------------+---------------+---------------------+----------------+\n",
      "|  null|uGlAuK3VrvANhAQAi...|uGlAuK3VrvANhAQAi...|        中华人民共和国|                      🥳|            null|             1|             15|           2019-01-12|           zh-cn|\n",
      "|  null|+tDWZynsin9nF3PNW...|+tDWZynsin9nF3PNW...|                  null|                    null|            null|            21|             70|           2017-09-27|           zh-cn|\n",
      "|  null|NNPBUwRmLGV+945vE...|NNPBUwRmLGV+945vE...|                  null|                    null|            null|             0|              9|           2017-08-30|           zh-cn|\n",
      "|  null|kdrlgclBJnrkyaVcG...|kdrlgclBJnrkyaVcG...|                  null|                    null|            null|             1|             62|           2017-08-30|           zh-cn|\n",
      "|  null|14sKta+ATygMbCyCT...|14sKta+ATygMbCyCT...|                  null|                    null|            null|             4|             45|           2017-08-30|           zh-cn|\n",
      "+------+--------------------+--------------------+----------------------+------------------------+----------------+--------------+---------------+---------------------+----------------+\n",
      "only showing top 5 rows\n",
      "\n"
     ]
    }
   ],
   "source": [
    "users.show(5)"
   ]
  },
  {
   "cell_type": "code",
   "execution_count": 12,
   "metadata": {},
   "outputs": [
    {
     "name": "stdout",
     "output_type": "stream",
     "text": [
      "+--------------------+---------+-----------------+----------------+----------------------+------------------------+----------------+---------------------+----------------+--------------+--------------------+----------------+-----------------+------------------+--------------------+--------------------+----------+--------------+---------------+--------+---------+-----------+-----------+----------+-------------+--------------------+----+-------------+------------+\n",
      "|             tweetid|   userid|user_display_name|user_screen_name|user_reported_location|user_profile_description|user_profile_url|account_creation_date|account_language|tweet_language|          tweet_text|      tweet_time|tweet_client_name|in_reply_to_userid| in_reply_to_tweetid|quoted_tweet_tweetid|is_retweet|retweet_userid|retweet_tweetid|latitude|longitude|quote_count|reply_count|like_count|retweet_count|            hashtags|urls|user_mentions|poll_choices|\n",
      "+--------------------+---------+-----------------+----------------+----------------------+------------------------+----------------+---------------------+----------------+--------------+--------------------+----------------+-----------------+------------------+--------------------+--------------------+----------+--------------+---------------+--------+---------+-----------+-----------+----------+-------------+--------------------+----+-------------+------------+\n",
      "|  235862198621184000|206027550|       The Flecha|       nessniven|     Republic of Korea|    When you see Jair...|            null|           2010-10-22|              en|          null|VOU SEGUIR T-O-D-...|2012-08-15 22:15|        TweetDeck|              null|                null|                null|     false|          null|           null|  absent|   absent|          0|          0|         1|           19|              ['RT']|null|['382613598']|        null|\n",
      "|  209026577105821696|206027550|       The Flecha|       nessniven|     Republic of Korea|    When you see Jair...|            null|           2010-10-22|              en|          null|vai? #LetrasChora...|2012-06-02 20:59|        TweetDeck|              null|                null|                null|     false|          null|           null|  absent|   absent|          0|          0|         0|            1|['LetrasChoraoAdm...|null|           []|        null|\n",
      "|  569636537530392576|206027550|       The Flecha|       nessniven|     Republic of Korea|    When you see Jair...|            null|           2010-10-22|              en|            pt|GALERAAAAAAA ASSI...|            null|             null|              null|                null|                null|      null|          null|           null|    null|     null|       null|       null|      null|         null|                null|null|         null|        null|\n",
      "|👉 http://t.co/AQ...|     null|             null|            null|                  null|                    null|            null|                 null|            null|          null|                null|            null|             null|              null|                null|                null|      null|          null|           null|    null|     null|       null|       null|      null|         null|                null|null|         null|        null|\n",
      "|MUITO ENGRAÇADO ?...|     null|        TweetDeck|            null|                  null|                    null|           false|               absent|          absent|             0|                   0|               0|                0|                []|['http://youtu.be...|                  []|      null|          null|           null|    null|     null|       null|       null|      null|         null|                null|null|         null|        null|\n",
      "+--------------------+---------+-----------------+----------------+----------------------+------------------------+----------------+---------------------+----------------+--------------+--------------------+----------------+-----------------+------------------+--------------------+--------------------+----------+--------------+---------------+--------+---------+-----------+-----------+----------+-------------+--------------------+----+-------------+------------+\n",
      "only showing top 5 rows\n",
      "\n"
     ]
    }
   ],
   "source": [
    "tweets.show(5)"
   ]
  },
  {
   "cell_type": "code",
   "execution_count": null,
   "metadata": {},
   "outputs": [],
   "source": []
  }
 ],
 "metadata": {
  "kernelspec": {
   "display_name": "Python 3",
   "language": "python",
   "name": "python3"
  },
  "language_info": {
   "codemirror_mode": {
    "name": "ipython",
    "version": 3
   },
   "file_extension": ".py",
   "mimetype": "text/x-python",
   "name": "python",
   "nbconvert_exporter": "python",
   "pygments_lexer": "ipython3",
   "version": "3.8.3"
  }
 },
 "nbformat": 4,
 "nbformat_minor": 4
}
